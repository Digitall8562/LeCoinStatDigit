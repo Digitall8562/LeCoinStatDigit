{
 "cells": [
  {
   "cell_type": "markdown",
   "id": "9bb9d223",
   "metadata": {},
   "source": [
    "# Exercice 1 : Filtrage de Dictionnaire avec une Fonction\n",
    "\n",
    "## Objectif\n",
    "Créer une fonction pour filtrer un dictionnaire de produits selon leur prix.\n",
    "\n",
    "## Enoncé\n",
    "\n",
    "- Créez un dictionnaire nommé `produits` avec au moins 5 paires clé-valeur, où les clés sont des noms de produits (par exemple, \"pommes\", \"bananes\") et les valeurs sont leurs prix.\n",
    "- Définissez une fonction nommée `filtrer_produits`. Cette fonction doit prendre deux arguments :\n",
    "  - Un dictionnaire `produits`.\n",
    "  - Un prix maximal `prix_max`.\n",
    "- La fonction `filtrer_produits` doit parcourir le dictionnaire `produits` et retourner un nouveau dictionnaire contenant uniquement les produits dont le prix est inférieur ou égal à `prix_max`.\n",
    "- Testez votre fonction avec le dictionnaire `produits` et différents prix maximaux pour vérifier si elle fonctionne correctement.\n",
    "\n"
   ]
  },
  {
   "cell_type": "markdown",
   "id": "e67c7f3e",
   "metadata": {},
   "source": [
    "## Solution"
   ]
  },
  {
   "cell_type": "code",
   "execution_count": 1,
   "id": "e320cad7",
   "metadata": {},
   "outputs": [],
   "source": [
    "#Étape 1 : Créer le dictionnaire de produits\n",
    "\n",
    "# Creation d'un dictionnaire nomme 'produits'.\n",
    "# Les cles sont les noms de produits et les valeurs sont les prix de ces produits.\n",
    "produits = {\n",
    "    \"pommes\": 1.50,  # Prix des pommes\n",
    "    \"bananes\": 2.00, # Prix des bananes\n",
    "    \"oranges\": 1.75, # Prix des oranges\n",
    "    \"poires\": 2.50,  # Prix des poires\n",
    "    \"kiwis\": 3.00    # Prix des kiwis\n",
    "}"
   ]
  },
  {
   "cell_type": "code",
   "execution_count": 2,
   "id": "61f16e62",
   "metadata": {},
   "outputs": [],
   "source": [
    "\n",
    "#Étape 2 : Définir la fonction de filtrage\n",
    "\n",
    "# Definition de la fonction 'filtrer_produits'.\n",
    "# Cette fonction prend un dictionnaire 'produits' et un 'prix_max' comme arguments.\n",
    "def filtrer_produits(produits, prix_max):\n",
    "    produits_filtres = {}  # Initialisation d'un nouveau dictionnaire pour les produits filtres.\n",
    "\n",
    "    # Parcourir chaque paire cle-valeur dans le dictionnaire 'produits'.\n",
    "    for produit, prix in produits.items():\n",
    "        # Verifier si le prix du produit est inferieur ou egal au 'prix_max'.\n",
    "        if prix <= prix_max:\n",
    "            # Si oui, ajouter ce produit au dictionnaire 'produits_filtres'.\n",
    "            produits_filtres[produit] = prix\n",
    "    return produits_filtres  # Retourner le dictionnaire filtre.\n"
   ]
  },
  {
   "cell_type": "code",
   "execution_count": 3,
   "id": "78f21a87",
   "metadata": {},
   "outputs": [
    {
     "name": "stdout",
     "output_type": "stream",
     "text": [
      "{'pommes': 1.5, 'bananes': 2.0, 'oranges': 1.75}\n",
      "{'pommes': 1.5, 'bananes': 2.0, 'oranges': 1.75, 'poires': 2.5, 'kiwis': 3.0}\n"
     ]
    }
   ],
   "source": [
    "#Étape 3 : Tester la fonction\n",
    "\n",
    "# Test avec un prix maximum de 2.00\n",
    "print(filtrer_produits(produits, 2.00))\n",
    "\n",
    "# Test avec un prix maximum de 3.00\n",
    "print(filtrer_produits(produits, 3.00))"
   ]
  },
  {
   "cell_type": "markdown",
   "id": "ef754092",
   "metadata": {},
   "source": [
    "## Autre solution: dictionnaire en compréhension"
   ]
  },
  {
   "cell_type": "code",
   "execution_count": 4,
   "id": "95029a93",
   "metadata": {},
   "outputs": [],
   "source": [
    "# Definition de la fonction 'filtrer_produits' avec compréhension de dictionnaire.\n",
    "def filtrer_produits_bis(produits, prix_max):\n",
    "    # Creation d'un nouveau dictionnaire avec les produits dont le prix est <= 'prix_max'.\n",
    "    # La compréhension de dictionnaire parcourt chaque paire cle-valeur dans 'produits'\n",
    "    # et sélectionne celles où le prix est inférieur ou égal à 'prix_max'.\n",
    "    resultat ={produit: prix for produit, prix in produits.items() if prix <= prix_max}\n",
    "    \n",
    "    return resultat\n"
   ]
  },
  {
   "cell_type": "code",
   "execution_count": 5,
   "id": "852cbc85",
   "metadata": {},
   "outputs": [
    {
     "name": "stdout",
     "output_type": "stream",
     "text": [
      "{'pommes': 1.5, 'bananes': 2.0, 'oranges': 1.75}\n",
      "{'pommes': 1.5, 'bananes': 2.0, 'oranges': 1.75, 'poires': 2.5, 'kiwis': 3.0}\n"
     ]
    }
   ],
   "source": [
    "# Tester la fonction avec un prix maximum de 2.00.\n",
    "print(filtrer_produits_bis(produits, 2.00))\n",
    "\n",
    "# Tester la fonction avec un prix maximum de 3.00.\n",
    "print(filtrer_produits_bis(produits, 3.00))"
   ]
  },
  {
   "cell_type": "markdown",
   "id": "7d05e320",
   "metadata": {},
   "source": [
    "#  Exercice 2 : Utilisation de `for`, `if`, et Listes en Compréhension\n",
    "\n",
    "**Objectif** : Combiner l'utilisation de boucles `for`, de conditions `if`, et de listes en compréhension pour traiter et filtrer les données d'une liste.\n",
    "\n",
    "**Instructions** :\n",
    "\n",
    "1. Créez une liste de nombres (par exemple, `[12, 35, 9, 56, 24, 89, 24]`).\n",
    "2. Utilisez une liste en compréhension pour créer une nouvelle liste qui contient seulement les nombres de la liste originale qui sont supérieurs à un certain seuil (par exemple, 20).\n",
    "3. À l'intérieur de cette liste en compréhension, utilisez une boucle `for` pour parcourir la liste originale et une condition `if` pour vérifier le seuil.\n",
    "4. Affichez la liste résultante.\n",
    "5. Automatisez à l'aide d'une fonction\n"
   ]
  },
  {
   "cell_type": "markdown",
   "id": "abbb91fd",
   "metadata": {},
   "source": [
    "## Solution"
   ]
  },
  {
   "cell_type": "code",
   "execution_count": 6,
   "id": "f376d8e4",
   "metadata": {},
   "outputs": [],
   "source": [
    "# Etape 1:  Création d'une liste nommée 'nombres'.\n",
    "#\n",
    "# Cette liste contient un ensemble de nombres entiers.\n",
    "nombres = [12, 35, 9, 56, 24, 89, 24]"
   ]
  },
  {
   "cell_type": "code",
   "execution_count": 7,
   "id": "7d05e031",
   "metadata": {},
   "outputs": [],
   "source": [
    "# Seuil pour le filtrage des nombres.\n",
    "seuil = 20\n",
    "\n",
    "# Utilisation d'une liste en compréhension pour créer une nouvelle liste.\n",
    "# Cette liste contiendra seulement les nombres de la liste 'nombres' qui sont supérieurs au seuil.\n",
    "nombres_filtres = [nombre for nombre in nombres if nombre > seuil]"
   ]
  },
  {
   "cell_type": "code",
   "execution_count": 8,
   "id": "f7a25f96",
   "metadata": {},
   "outputs": [
    {
     "name": "stdout",
     "output_type": "stream",
     "text": [
      "[35, 56, 24, 89, 24]\n"
     ]
    }
   ],
   "source": [
    "# Affichage de la liste 'nombres_filtres'.\n",
    "# Cette liste contient les nombres de la liste originale 'nombres' qui sont supérieurs au seuil défini.\n",
    "print(nombres_filtres)"
   ]
  },
  {
   "cell_type": "code",
   "execution_count": 10,
   "id": "ce871027",
   "metadata": {},
   "outputs": [
    {
     "name": "stdout",
     "output_type": "stream",
     "text": [
      "[35, 56, 89]\n"
     ]
    }
   ],
   "source": [
    "# Définition d'une fonction pour automatiser le processus de filtrage.\n",
    "def filtrer_nombres(liste, seuil):\n",
    "    # Retourner la liste filtrée en utilisant une liste en compréhension.\n",
    "    resultat = [nombre for nombre in liste if nombre > seuil]\n",
    "    return resultat\n",
    "\n",
    "\n",
    "\n",
    "nombres = [12, 35, 9, 56, 24, 89, 24]\n",
    "seuil = 30\n",
    "\n",
    "# Appel de la fonction avec la liste 'nombres' et le seuil.\n",
    "resultat = filtrer_nombres(nombres, seuil)\n",
    "\n",
    "# Affichage du résultat.\n",
    "print(resultat)"
   ]
  },
  {
   "cell_type": "markdown",
   "id": "2f34de9f",
   "metadata": {},
   "source": [
    "# Exercice 3 : Utilisation de `format` dans `print`\n",
    "\n",
    "**Objectif** : Formater l'affichage des données d'une liste de tuples en utilisant la méthode `format`.\n",
    "\n",
    "**Instructions** :\n",
    "\n",
    "1. Créez une liste de tuples, chaque tuple contenant le nom d'un élève et sa note (par exemple, `[(\"Marie\", 85), (\"Pierre\", 92), (\"Julie\", 78)]`).\n",
    "2. Utilisez une boucle `for` pour parcourir la liste.\n",
    "3. Pour chaque tuple, utilisez la méthode `format` pour afficher le nom de l'élève et sa note en suivant ce format : \"L'élève [Nom] a obtenu la note de [Note]/100.\"\n"
   ]
  },
  {
   "cell_type": "code",
   "execution_count": 11,
   "id": "2735bfb5",
   "metadata": {},
   "outputs": [],
   "source": [
    "# Création d'une liste de tuples nommée 'eleves_notes'.\n",
    "# Chaque tuple contient le nom d'un élève et sa note.\n",
    "eleves_notes = [(\"Marie\", 85), (\"Pierre\", 92), (\"Julie\", 78)]"
   ]
  },
  {
   "cell_type": "code",
   "execution_count": 12,
   "id": "b7b43f92",
   "metadata": {},
   "outputs": [
    {
     "name": "stdout",
     "output_type": "stream",
     "text": [
      "L'élève Marie a obtenu la note de 85/100.\n",
      "L'élève Pierre a obtenu la note de 92/100.\n",
      "L'élève Julie a obtenu la note de 78/100.\n"
     ]
    }
   ],
   "source": [
    "# Parcours de la liste 'eleves_notes' avec une boucle 'for'.\n",
    "for eleve, note in eleves_notes:\n",
    "    # À chaque itération, 'eleve' et 'note' contiennent les valeurs du tuple courant.\n",
    "    \n",
    " \n",
    "    # Utilisation de la méthode 'format' pour formater le message d'affichage.\n",
    "    # Le format spécifié est \"L'élève [Nom] a obtenu la note de [Note]/100.\"\n",
    "    # Les crochets [] ne sont pas nécessaires dans le format final, ils indiquent ici où insérer les valeurs.\n",
    "    \n",
    "    message = \"L'élève {} a obtenu la note de {}/100.\".format(eleve, note)\n",
    "\n",
    "    # Affichage du message formaté pour chaque élève et sa note.\n",
    "    print(message)"
   ]
  },
  {
   "cell_type": "code",
   "execution_count": null,
   "id": "d4bfa51d",
   "metadata": {},
   "outputs": [],
   "source": []
  }
 ],
 "metadata": {
  "kernelspec": {
   "display_name": "Python 3 (ipykernel)",
   "language": "python",
   "name": "python3"
  },
  "language_info": {
   "codemirror_mode": {
    "name": "ipython",
    "version": 3
   },
   "file_extension": ".py",
   "mimetype": "text/x-python",
   "name": "python",
   "nbconvert_exporter": "python",
   "pygments_lexer": "ipython3",
   "version": "3.11.5"
  }
 },
 "nbformat": 4,
 "nbformat_minor": 5
}
