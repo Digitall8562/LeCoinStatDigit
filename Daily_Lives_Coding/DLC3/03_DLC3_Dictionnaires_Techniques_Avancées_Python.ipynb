{
 "cells": [
  {
   "cell_type": "markdown",
   "id": "646cad94",
   "metadata": {},
   "source": [
    "![programme](DLC3.png)"
   ]
  },
  {
   "cell_type": "markdown",
   "id": "a5ceaa08",
   "metadata": {},
   "source": [
    "Pour plus de détail sur les types de données en python rendez-vous sur le site :[https://docs.python.org/fr/3.7/tutorial/datastructures.html?highlight=dictionnaire](https://docs.python.org/fr/3/tutorial/datastructures.html)\n",
    " "
   ]
  },
  {
   "cell_type": "markdown",
   "id": "ae4ab3a2",
   "metadata": {},
   "source": [
    "# Rappel sur les listes"
   ]
  },
  {
   "cell_type": "markdown",
   "id": "1cec629f",
   "metadata": {},
   "source": [
    "## Exercice  : Trouve et Remplace Automatiquement dans une Liste\n",
    "### Objectif :\n",
    "Écrire un programme Python qui parcourt une liste prédéfinie de nombres entiers, recherche un nombre spécifique dans cette liste, et remplace toutes ses occurrences par un autre nombre spécifié.\n",
    "\n",
    "### Instructions :\n",
    "\n",
    "Utilisez la liste suivante de nombres entiers : [12, 35, 12, 9, 56, 24, 35, 12, 89, 24, 35, 12].\n",
    "\n",
    "**Nombre à Rechercher et à Remplacer :**\n",
    "\n",
    "- Définissez une variable pour le nombre à rechercher dans la liste. Par exemple, nombre_recherche = 12.\n",
    "- Définissez une autre variable pour le nombre qui remplacera les occurrences trouvées. Par exemple, nombre_remplacement = 100.\n",
    "\n",
    "**Recherche et Remplacement :**\n",
    "\n",
    "- Parcourez la liste avec une boucle. À chaque fois que le nombre_recherche est trouvé, remplacez-le par le nombre_remplacement.\n",
    "\n",
    "**Affichage des Résultats :**\n",
    "\n",
    "- Avant de commencer le processus de remplacement, affichez la liste originale.\n",
    "- Après avoir effectué les remplacements, affichez la liste modifiée pour montrer les changements effectués."
   ]
  },
  {
   "cell_type": "code",
   "execution_count": 1,
   "id": "e9181a54",
   "metadata": {},
   "outputs": [
    {
     "name": "stdout",
     "output_type": "stream",
     "text": [
      "Liste avant remplacement  [12, 35, 12, 9, 56, 24, 35, 12, 89, 24, 35, 12]\n",
      "Liste après remplacement  [100, 35, 100, 9, 56, 24, 35, 100, 89, 24, 35, 100]\n"
     ]
    }
   ],
   "source": [
    "#  Première Solution\n",
    "liste_nombre = [12, 35, 12, 9, 56, 24, 35, 12, 89, 24, 35, 12]\n",
    "nombre_cherche = 12\n",
    "nombre_remplace = 100\n",
    "\n",
    "print(\"Liste avant remplacement \", liste_nombre)\n",
    "\n",
    "def remplacer (liste_nombre, nombre_cherche, nombre_remplace): \n",
    "    for i in range(len(liste_nombre)):\n",
    "        if liste_nombre[i] == nombre_cherche : \n",
    "            liste_nombre[i] = nombre_remplace\n",
    "    return liste_nombre\n",
    "        \n",
    "print(\"Liste après remplacement \", liste_nombre)"
   ]
  },
  {
   "cell_type": "code",
   "execution_count": 6,
   "id": "7b282499",
   "metadata": {},
   "outputs": [
    {
     "name": "stdout",
     "output_type": "stream",
     "text": [
      "Liste avant remplacement  [12, 35, 12, 9, 56, 24, 35, 12, 89, 24, 35, 12]\n",
      "Liste après remplacement  [100, 35, 100, 9, 56, 24, 35, 100, 89, 24, 35, 100]\n"
     ]
    }
   ],
   "source": [
    "#  Première Solution\n",
    "liste_nombre = [12, 35, 12, 9, 56, 24, 35, 12, 89, 24, 35, 12]\n",
    "nombre_cherche = 12\n",
    "nombre_remplace = 100\n",
    "\n",
    "\n",
    "liste_apres = liste_nombre\n",
    "\n",
    "print(\"Liste avant remplacement \", liste_nombre)\n",
    "\n",
    "cpt = 0\n",
    "\n",
    "for i in liste_apres:\n",
    "    if i == nombre_cherche : \n",
    "        liste_apres[cpt] = nombre_remplace\n",
    "    cpt += 1 # équivalent à cpt = cpt +1\n",
    "    \n",
    "        \n",
    "        \n",
    "print(\"Liste après remplacement \", liste_apres)"
   ]
  },
  {
   "cell_type": "markdown",
   "id": "dd2f89f8",
   "metadata": {},
   "source": [
    "# Les dictionnaires"
   ]
  },
  {
   "cell_type": "markdown",
   "id": "334013e0",
   "metadata": {},
   "source": [
    "![disponible](dictionnaire.jpeg)\n",
    "Source: [http://www.science-du-numerique.fr/comment-visualiser-une-structure-de-donnee-de-type-dictionnaire](http://www.science-du-numerique.fr/comment-visualiser-une-structure-de-donnee-de-type-dictionnaire)"
   ]
  },
  {
   "cell_type": "markdown",
   "id": "13d0d841",
   "metadata": {},
   "source": [
    "- Un **dictionnaire** en Python est une collection d'éléments **non ordonnée**, **modifiable** et **indexée**. Chaque élément dans un dictionnaire est une paire clé-valeur, **où chaque clé est unique**.\n",
    "\n",
    "- **Avantage** : les dictionnaires sont optimisés pour récupérer rapidement des valeurs lorsque vous connaissez la clé, ce qui les rend idéaux pour stocker des données qu'il est nécessaire de récupérer efficacement.\n"
   ]
  },
  {
   "cell_type": "markdown",
   "id": "ce9be8ec",
   "metadata": {},
   "source": [
    "## Create"
   ]
  },
  {
   "cell_type": "code",
   "execution_count": null,
   "id": "940a5f0f",
   "metadata": {},
   "outputs": [],
   "source": [
    "# Création d'un dictionnaire"
   ]
  },
  {
   "cell_type": "code",
   "execution_count": 8,
   "id": "dd4754a5",
   "metadata": {},
   "outputs": [
    {
     "data": {
      "text/plain": [
       "{'loyer': 500, 'divertissement': 200, 'sante': 100, 'transport': 20}"
      ]
     },
     "execution_count": 8,
     "metadata": {},
     "output_type": "execute_result"
    }
   ],
   "source": [
    "depense_mensuelle = {\"loyer\" : 500 ,\n",
    "                     \"divertissement\" : 200 ,\n",
    "                     \"sante\" : 100, \n",
    "                     \"transport\" : 20}\n",
    "depense_mensuelle\n",
    "\n"
   ]
  },
  {
   "cell_type": "code",
   "execution_count": 9,
   "id": "a8be714e",
   "metadata": {},
   "outputs": [
    {
     "data": {
      "text/plain": [
       "dict"
      ]
     },
     "execution_count": 9,
     "metadata": {},
     "output_type": "execute_result"
    }
   ],
   "source": [
    "# type\n",
    "\n",
    "type(depense_mensuelle)"
   ]
  },
  {
   "cell_type": "code",
   "execution_count": 11,
   "id": "8066021f",
   "metadata": {},
   "outputs": [
    {
     "data": {
      "text/plain": [
       "{'loyer': 500, 'divertissement': 200, 'sante': 20, 'transport': 20}"
      ]
     },
     "execution_count": 11,
     "metadata": {},
     "output_type": "execute_result"
    }
   ],
   "source": [
    "# Impossible d'avoir deux clés identiques\n",
    "\n",
    "depense_mensuelle = {\"loyer\" : 500 ,\n",
    "                     \"divertissement\" : 200 ,\n",
    "                     \"sante\" : 100, \n",
    "                     \"transport\" : 20 , \n",
    "                     \"sante\" : 20}\n",
    "depense_mensuelle"
   ]
  },
  {
   "cell_type": "code",
   "execution_count": 58,
   "id": "059c5572",
   "metadata": {},
   "outputs": [],
   "source": [
    "# Utilisation en machine learning\n",
    "\n",
    "param  = {\"nb_interation\" : 500 ,\n",
    "                     \"nombre\" : 200 ,\n",
    "                     \"sante\" : 100, \n",
    "                     \"transport\" : 20 , \n",
    "                     \"sante\" : 20}"
   ]
  },
  {
   "cell_type": "code",
   "execution_count": 16,
   "id": "31748a8d",
   "metadata": {},
   "outputs": [
    {
     "data": {
      "text/plain": [
       "4"
      ]
     },
     "execution_count": 16,
     "metadata": {},
     "output_type": "execute_result"
    }
   ],
   "source": [
    "len(depense_mensuelle)"
   ]
  },
  {
   "cell_type": "code",
   "execution_count": 14,
   "id": "c69df5d8",
   "metadata": {},
   "outputs": [
    {
     "name": "stdout",
     "output_type": "stream",
     "text": [
      "{'janvier': {'loyer': 500, 'divertissement': 200, 'sante': 20, 'transport': 20}, 'fevrier': {'loyer': 500, 'divertissement': 500, 'sante': 20, 'transport': 30}, 'mars': {'loyer': 500, 'divertissement': 300, 'sante': 10, 'transport': 10}}\n"
     ]
    }
   ],
   "source": [
    "# Possibilité de creer des dictionnaires de dictionnaires\n",
    "\n",
    "depense_janvier = {\"loyer\" : 500 ,\n",
    "                     \"divertissement\" : 200 ,\n",
    "                     \"sante\" : 100, \n",
    "                     \"transport\" : 20 , \n",
    "                     \"sante\" : 20}\n",
    "\n",
    "depense_fevrier  = {\"loyer\" : 500 ,\n",
    "                     \"divertissement\" : 500 ,\n",
    "                     \"sante\" : 20, \n",
    "                     \"transport\" : 30}\n",
    "\n",
    "depense_mars  = {\"loyer\" : 500 ,\n",
    "                     \"divertissement\" : 300 ,\n",
    "                     \"sante\" : 10, \n",
    "                     \"transport\" : 10}\n",
    "\n",
    "depense_annuelle = {\"janvier\" : depense_janvier,\n",
    "                    \"fevrier\" : depense_fevrier,\n",
    "                    \"mars\" : depense_mars}\n",
    "\n",
    "print(depense_annuelle)"
   ]
  },
  {
   "cell_type": "code",
   "execution_count": 15,
   "id": "4cf8e8a8",
   "metadata": {},
   "outputs": [
    {
     "data": {
      "text/plain": [
       "3"
      ]
     },
     "execution_count": 15,
     "metadata": {},
     "output_type": "execute_result"
    }
   ],
   "source": [
    "len(depense_annuelle)"
   ]
  },
  {
   "cell_type": "markdown",
   "id": "0d5740b4",
   "metadata": {},
   "source": [
    "## Read"
   ]
  },
  {
   "cell_type": "code",
   "execution_count": 18,
   "id": "11f4d543",
   "metadata": {},
   "outputs": [
    {
     "name": "stdout",
     "output_type": "stream",
     "text": [
      "500\n"
     ]
    }
   ],
   "source": [
    "# Lire une clé\n",
    "loyer = depense_mensuelle[\"loyer\"]\n",
    "print(loyer)"
   ]
  },
  {
   "cell_type": "code",
   "execution_count": 24,
   "id": "9952dd4b",
   "metadata": {},
   "outputs": [
    {
     "name": "stdout",
     "output_type": "stream",
     "text": [
      "None\n"
     ]
    }
   ],
   "source": [
    "# Tester une autre clé\n",
    "temp = depense_mensuelle.get(\"loisir\")\n",
    "print(temp)"
   ]
  },
  {
   "cell_type": "code",
   "execution_count": 28,
   "id": "50a32070",
   "metadata": {},
   "outputs": [
    {
     "data": {
      "text/plain": [
       "dict_keys(['loyer', 'divertissement', 'sante', 'transport'])"
      ]
     },
     "execution_count": 28,
     "metadata": {},
     "output_type": "execute_result"
    }
   ],
   "source": [
    "# Obtenir toutes les clés disponibles\n",
    "depense_mensuelle.keys()\n"
   ]
  },
  {
   "cell_type": "code",
   "execution_count": 30,
   "id": "e0123e10",
   "metadata": {},
   "outputs": [
    {
     "data": {
      "text/plain": [
       "dict_keys"
      ]
     },
     "execution_count": 30,
     "metadata": {},
     "output_type": "execute_result"
    }
   ],
   "source": [
    "type(depense_mensuelle.keys())"
   ]
  },
  {
   "cell_type": "code",
   "execution_count": 36,
   "id": "db7f428c",
   "metadata": {},
   "outputs": [
    {
     "data": {
      "text/plain": [
       "'sante'"
      ]
     },
     "execution_count": 36,
     "metadata": {},
     "output_type": "execute_result"
    }
   ],
   "source": [
    "temp = list(depense_mensuelle.keys())\n",
    "type(temp)\n",
    "list(depense_mensuelle.keys())[2]"
   ]
  },
  {
   "cell_type": "code",
   "execution_count": 29,
   "id": "38a3ba9f",
   "metadata": {},
   "outputs": [
    {
     "data": {
      "text/plain": [
       "200"
      ]
     },
     "execution_count": 29,
     "metadata": {},
     "output_type": "execute_result"
    }
   ],
   "source": [
    "# Accéder à une clé spécifique\n",
    "depense_mensuelle[list(depense_mensuelle.keys())[1]]"
   ]
  },
  {
   "cell_type": "code",
   "execution_count": 38,
   "id": "016d983f",
   "metadata": {},
   "outputs": [
    {
     "data": {
      "text/plain": [
       "dict_values([500, 200, 20, 20])"
      ]
     },
     "execution_count": 38,
     "metadata": {},
     "output_type": "execute_result"
    }
   ],
   "source": [
    "# Obtenir les valeurs\n",
    "depense_mensuelle.values()\n"
   ]
  },
  {
   "cell_type": "code",
   "execution_count": 40,
   "id": "684efc0e",
   "metadata": {},
   "outputs": [
    {
     "data": {
      "text/plain": [
       "dict_items([('loyer', 500), ('divertissement', 200), ('sante', 20), ('transport', 20)])"
      ]
     },
     "execution_count": 40,
     "metadata": {},
     "output_type": "execute_result"
    }
   ],
   "source": [
    "# Obtenir les items\n",
    "depense_mensuelle.items()\n"
   ]
  },
  {
   "cell_type": "code",
   "execution_count": 41,
   "id": "70542976",
   "metadata": {},
   "outputs": [
    {
     "data": {
      "text/plain": [
       "4"
      ]
     },
     "execution_count": 41,
     "metadata": {},
     "output_type": "execute_result"
    }
   ],
   "source": [
    "# Taille du dictionnaire\n",
    "len(depense_mensuelle)"
   ]
  },
  {
   "cell_type": "markdown",
   "id": "c5a8b862",
   "metadata": {},
   "source": [
    "# Update"
   ]
  },
  {
   "cell_type": "code",
   "execution_count": null,
   "id": "2f66fca0",
   "metadata": {},
   "outputs": [],
   "source": [
    "# Mettre à jour la valeur d'une clé dans le dictionnaire"
   ]
  },
  {
   "cell_type": "code",
   "execution_count": 43,
   "id": "0c89d7ef",
   "metadata": {},
   "outputs": [
    {
     "name": "stdout",
     "output_type": "stream",
     "text": [
      "{'loyer': 600, 'divertissement': 200, 'sante': 20, 'transport': 20}\n"
     ]
    }
   ],
   "source": [
    "depense_mensuelle['loyer'] = 600\n",
    "print(depense_mensuelle)"
   ]
  },
  {
   "cell_type": "code",
   "execution_count": 44,
   "id": "07b20702",
   "metadata": {},
   "outputs": [
    {
     "name": "stdout",
     "output_type": "stream",
     "text": [
      "{'loyer': 600, 'divertissement': 10, 'sante': 20, 'transport': 20}\n"
     ]
    }
   ],
   "source": [
    "depense_mensuelle['divertissement'] = 10\n",
    "print(depense_mensuelle)"
   ]
  },
  {
   "cell_type": "code",
   "execution_count": null,
   "id": "f431dcee",
   "metadata": {},
   "outputs": [],
   "source": [
    "# Ajouter un nouvel élément dans le dictionnaire"
   ]
  },
  {
   "cell_type": "code",
   "execution_count": 46,
   "id": "19933a37",
   "metadata": {},
   "outputs": [
    {
     "name": "stdout",
     "output_type": "stream",
     "text": [
      "{'loyer': 600, 'divertissement': 10, 'sante': 20, 'transport': 20, 'vetement': 200}\n"
     ]
    }
   ],
   "source": [
    "depense_mensuelle[\"vetement\"] = 200\n",
    "print(depense_mensuelle)"
   ]
  },
  {
   "cell_type": "markdown",
   "id": "84b03301",
   "metadata": {},
   "source": [
    "## Delete"
   ]
  },
  {
   "cell_type": "code",
   "execution_count": null,
   "id": "a97249a3",
   "metadata": {},
   "outputs": [],
   "source": [
    "# Supprimer une clé (del)"
   ]
  },
  {
   "cell_type": "code",
   "execution_count": 47,
   "id": "2283cacd",
   "metadata": {},
   "outputs": [
    {
     "name": "stdout",
     "output_type": "stream",
     "text": [
      "{'loyer': 600, 'divertissement': 10, 'sante': 20, 'transport': 20}\n"
     ]
    }
   ],
   "source": [
    "del depense_mensuelle[\"vetement\"]\n",
    "print(depense_mensuelle)"
   ]
  },
  {
   "cell_type": "code",
   "execution_count": null,
   "id": "69112242",
   "metadata": {},
   "outputs": [],
   "source": []
  },
  {
   "cell_type": "code",
   "execution_count": 49,
   "id": "b48d3217",
   "metadata": {},
   "outputs": [],
   "source": [
    "# méthode pop\n",
    "transport = depense_mensuelle.pop(\"transport\")"
   ]
  },
  {
   "cell_type": "code",
   "execution_count": 50,
   "id": "0823a344",
   "metadata": {},
   "outputs": [
    {
     "name": "stdout",
     "output_type": "stream",
     "text": [
      "20\n",
      "{'loyer': 600, 'divertissement': 10, 'sante': 20}\n"
     ]
    }
   ],
   "source": [
    "print(transport)\n",
    "print(depense_mensuelle)"
   ]
  },
  {
   "cell_type": "markdown",
   "id": "922f1c1b",
   "metadata": {},
   "source": [
    "## Utilisation des dictionnaires dans les boucles for"
   ]
  },
  {
   "cell_type": "code",
   "execution_count": 54,
   "id": "5646411d",
   "metadata": {},
   "outputs": [
    {
     "name": "stdout",
     "output_type": "stream",
     "text": [
      "loyer\n",
      "divertissement\n",
      "sante\n"
     ]
    }
   ],
   "source": [
    "# For avec les clés\n",
    "for keys in depense_mensuelle.keys(): \n",
    "    print(keys)\n"
   ]
  },
  {
   "cell_type": "code",
   "execution_count": 55,
   "id": "9aff6285",
   "metadata": {},
   "outputs": [
    {
     "name": "stdout",
     "output_type": "stream",
     "text": [
      "600\n",
      "10\n",
      "20\n"
     ]
    }
   ],
   "source": [
    "# For avec les valeurs\n",
    "for val in depense_mensuelle.values(): \n",
    "    print(val)\n"
   ]
  },
  {
   "cell_type": "code",
   "execution_count": 62,
   "id": "de5044a0",
   "metadata": {},
   "outputs": [
    {
     "name": "stdout",
     "output_type": "stream",
     "text": [
      "Ceci est la clé  janvier\n",
      "loyer 500\n",
      "divertissement 200\n",
      "sante 20\n",
      "transport 20\n",
      "Ceci est la clé  fevrier\n",
      "loyer 500\n",
      "divertissement 500\n",
      "sante 20\n",
      "transport 30\n",
      "Ceci est la clé  mars\n",
      "loyer 500\n",
      "divertissement 300\n",
      "sante 10\n",
      "transport 10\n"
     ]
    }
   ],
   "source": [
    "# For avec les clés et les valeurs\n",
    "for k,v in depense_annuelle.items() : \n",
    "    print(\"Ceci est la clé \", k)\n",
    "    for i,j in v.items():\n",
    "        print(i,j)\n"
   ]
  },
  {
   "cell_type": "code",
   "execution_count": 60,
   "id": "40211848",
   "metadata": {},
   "outputs": [
    {
     "name": "stdout",
     "output_type": "stream",
     "text": [
      "Ceci est la clé  janvier Ceci est la valeur  {'loyer': 500, 'divertissement': 200, 'sante': 20, 'transport': 20}\n",
      "Ceci est la clé  fevrier Ceci est la valeur  {'loyer': 500, 'divertissement': 500, 'sante': 20, 'transport': 30}\n",
      "Ceci est la clé  mars Ceci est la valeur  {'loyer': 500, 'divertissement': 300, 'sante': 10, 'transport': 10}\n"
     ]
    }
   ],
   "source": [
    "# For avec les clés et les valeurs\n",
    "for k,v in depense_annuelle.items() : \n",
    "    print(\"Ceci est la clé \", k, \"Ceci est la valeur \", v)"
   ]
  },
  {
   "cell_type": "code",
   "execution_count": 59,
   "id": "50b22aaa",
   "metadata": {},
   "outputs": [
    {
     "data": {
      "text/plain": [
       "dict_items([('loyer', 600), ('divertissement', 10), ('sante', 20)])"
      ]
     },
     "execution_count": 59,
     "metadata": {},
     "output_type": "execute_result"
    }
   ],
   "source": [
    "depense_mensuelle.items()"
   ]
  },
  {
   "cell_type": "markdown",
   "id": "b55a70ee",
   "metadata": {},
   "source": [
    "# QUIZ"
   ]
  },
  {
   "cell_type": "markdown",
   "id": "c0ce44f5",
   "metadata": {},
   "source": [
    "Q1 - Comment accède-t-on à la valeur associée à la clé 'b' dans le dictionnaire suivant ?\n",
    "mon_dictionnaire = {'a': 1, 'b': 2, 'c': 3}\n",
    "\n",
    "Options :\n",
    "    \n",
    "- a) mon_dictionnaire(2)\n",
    "- b) mon_dictionnaire[b]\n",
    "- c) mon_dictionnaire['b']\n",
    "- d) mon_dictionnaire.get('b')\n",
    "\n"
   ]
  },
  {
   "cell_type": "markdown",
   "id": "f33f2cc6",
   "metadata": {},
   "source": [
    "Q2 - Comment supprime-t-on une clé 'b' d'un dictionnaire mon_dictionnaire en Python ?\n",
    "\n",
    "\n",
    "- a) del mon_dictionnaire['b']\n",
    "- b) mon_dictionnaire.remove('b')\n",
    "- c) mon_dictionnaire.delete('b')\n",
    "- d) remove mon_dictionnaire['b']"
   ]
  },
  {
   "cell_type": "markdown",
   "id": "b987602c",
   "metadata": {},
   "source": [
    "# Listes en compréhension\n"
   ]
  },
  {
   "cell_type": "markdown",
   "id": "6a10ec75",
   "metadata": {},
   "source": [
    "![disponible](list_comprehension.png)\n",
    "Source: [https://www.freecodecamp.org/news/list-comprehension-in-python/)"
   ]
  },
  {
   "cell_type": "markdown",
   "id": "8b3e3769",
   "metadata": {},
   "source": [
    "# Formule générale\n",
    "\n",
    "[nouvel_element for element in liste_originale if condition]"
   ]
  },
  {
   "cell_type": "code",
   "execution_count": null,
   "id": "28d2ebd1",
   "metadata": {},
   "outputs": [],
   "source": [
    "# Créer la liste des carrés de 0 à 99"
   ]
  },
  {
   "cell_type": "code",
   "execution_count": 63,
   "id": "96bc2561",
   "metadata": {},
   "outputs": [
    {
     "name": "stdout",
     "output_type": "stream",
     "text": [
      "[0, 1, 4, 9, 16, 25, 36, 49, 64, 81, 100, 121, 144, 169, 196, 225, 256, 289, 324, 361, 400, 441, 484, 529, 576, 625, 676, 729, 784, 841, 900, 961, 1024, 1089, 1156, 1225, 1296, 1369, 1444, 1521, 1600, 1681, 1764, 1849, 1936, 2025, 2116, 2209, 2304, 2401, 2500, 2601, 2704, 2809, 2916, 3025, 3136, 3249, 3364, 3481, 3600, 3721, 3844, 3969, 4096, 4225, 4356, 4489, 4624, 4761, 4900, 5041, 5184, 5329, 5476, 5625, 5776, 5929, 6084, 6241, 6400, 6561, 6724, 6889, 7056, 7225, 7396, 7569, 7744, 7921, 8100, 8281, 8464, 8649, 8836, 9025, 9216, 9409, 9604, 9801]\n"
     ]
    }
   ],
   "source": [
    "# Approche classique\n",
    "liste_carre = []\n",
    "for i in range(100) :\n",
    "    liste_carre.append(i**2)\n",
    "print(liste_carre)\n",
    "\n"
   ]
  },
  {
   "cell_type": "code",
   "execution_count": 64,
   "id": "c9e2b4c4",
   "metadata": {},
   "outputs": [
    {
     "name": "stdout",
     "output_type": "stream",
     "text": [
      "[0, 1, 4, 9, 16, 25, 36, 49, 64, 81, 100, 121, 144, 169, 196, 225, 256, 289, 324, 361, 400, 441, 484, 529, 576, 625, 676, 729, 784, 841, 900, 961, 1024, 1089, 1156, 1225, 1296, 1369, 1444, 1521, 1600, 1681, 1764, 1849, 1936, 2025, 2116, 2209, 2304, 2401, 2500, 2601, 2704, 2809, 2916, 3025, 3136, 3249, 3364, 3481, 3600, 3721, 3844, 3969, 4096, 4225, 4356, 4489, 4624, 4761, 4900, 5041, 5184, 5329, 5476, 5625, 5776, 5929, 6084, 6241, 6400, 6561, 6724, 6889, 7056, 7225, 7396, 7569, 7744, 7921, 8100, 8281, 8464, 8649, 8836, 9025, 9216, 9409, 9604]\n"
     ]
    }
   ],
   "source": [
    "# Définition en compréhension\n",
    "liste_carre_com = [x ** 2 for x in range(99)]\n",
    "print(liste_carre_com)"
   ]
  },
  {
   "cell_type": "code",
   "execution_count": 66,
   "id": "3945b8fd",
   "metadata": {},
   "outputs": [
    {
     "name": "stdout",
     "output_type": "stream",
     "text": [
      "[0, 4, 16, 36, 64, 100, 144, 196, 256, 324, 400, 484, 576, 676, 784, 900, 1024, 1156, 1296, 1444, 1600, 1764, 1936, 2116, 2304, 2500, 2704, 2916, 3136, 3364, 3600, 3844, 4096, 4356, 4624, 4900, 5184, 5476, 5776, 6084, 6400, 6724, 7056, 7396, 7744, 8100, 8464, 8836, 9216, 9604]\n"
     ]
    },
    {
     "data": {
      "text/plain": [
       "list"
      ]
     },
     "execution_count": 66,
     "metadata": {},
     "output_type": "execute_result"
    }
   ],
   "source": [
    "# Filtrer une liste pour ne garder que les nombres pairs\n",
    "liste_carre_com_pair = [x ** 2 for x in range(99) if x % 2 == 0]\n",
    "print(liste_carre_com_pair)\n",
    "type(liste_carre_com_pair)"
   ]
  },
  {
   "cell_type": "code",
   "execution_count": 67,
   "id": "286ce5dc",
   "metadata": {},
   "outputs": [
    {
     "data": {
      "text/plain": [
       "['JEAN', 'PAUL', 'MARIE']"
      ]
     },
     "execution_count": 67,
     "metadata": {},
     "output_type": "execute_result"
    }
   ],
   "source": [
    "# Transformer des noms en majuscule\n",
    "liste_nom = [\"jean\", \"paul\", \"marie\"]\n",
    "liste_nom_majuscule = [x.upper() for x in liste_nom]\n",
    "liste_nom_majuscule"
   ]
  },
  {
   "cell_type": "markdown",
   "id": "ba10b4c9",
   "metadata": {},
   "source": [
    "## Exercice liste en compréhension"
   ]
  },
  {
   "cell_type": "markdown",
   "id": "f73f2d51",
   "metadata": {},
   "source": [
    "Étant donné une liste de chaînes de caractères, par exemple mots = [\"Bonjour\", \"le\", \"monde\", \"Python\", \"est\", \"génial\"], créez une liste en compréhension qui contient la longueur de chaque mot dans la liste, mais seulement pour les mots qui ont plus de trois lettres. "
   ]
  },
  {
   "cell_type": "code",
   "execution_count": 68,
   "id": "a0395ba5",
   "metadata": {},
   "outputs": [
    {
     "data": {
      "text/plain": [
       "['Bonjour', 'monde', 'Python', 'génial']"
      ]
     },
     "execution_count": 68,
     "metadata": {},
     "output_type": "execute_result"
    }
   ],
   "source": [
    "mots = [\"Bonjour\", \"le\", \"monde\", \"Python\", \"est\", \"génial\"]\n",
    "mots_long = [x for x in mots if len(x) > 3]\n",
    "mots_long"
   ]
  },
  {
   "cell_type": "markdown",
   "id": "ab95d6d7",
   "metadata": {},
   "source": [
    "# Dictionnaires en compréhension\n"
   ]
  },
  {
   "cell_type": "markdown",
   "id": "c264e06a",
   "metadata": {},
   "source": [
    "![disponible](dictionnaire_comprehension.png)\n",
    "Source: [https://www.programiz.com/python-programming/dictionary-comprehension)"
   ]
  },
  {
   "cell_type": "markdown",
   "id": "85b2283a",
   "metadata": {},
   "source": [
    "# Formule générale\n",
    "\n",
    "{cle_expression: valeur_expression for element in iterable if condition}\n"
   ]
  },
  {
   "cell_type": "code",
   "execution_count": 69,
   "id": "505cc27e",
   "metadata": {},
   "outputs": [
    {
     "name": "stdout",
     "output_type": "stream",
     "text": [
      "{0: 0, 1: 1, 2: 4, 3: 9, 4: 16, 5: 25, 6: 36, 7: 49, 8: 64, 9: 81, 10: 100, 11: 121, 12: 144, 13: 169, 14: 196, 15: 225, 16: 256, 17: 289, 18: 324, 19: 361, 20: 400, 21: 441, 22: 484, 23: 529, 24: 576, 25: 625, 26: 676, 27: 729, 28: 784, 29: 841, 30: 900, 31: 961, 32: 1024, 33: 1089, 34: 1156, 35: 1225, 36: 1296, 37: 1369, 38: 1444, 39: 1521, 40: 1600, 41: 1681, 42: 1764, 43: 1849, 44: 1936, 45: 2025, 46: 2116, 47: 2209, 48: 2304, 49: 2401, 50: 2500, 51: 2601, 52: 2704, 53: 2809, 54: 2916, 55: 3025, 56: 3136, 57: 3249, 58: 3364, 59: 3481, 60: 3600, 61: 3721, 62: 3844, 63: 3969, 64: 4096, 65: 4225, 66: 4356, 67: 4489, 68: 4624, 69: 4761, 70: 4900, 71: 5041, 72: 5184, 73: 5329, 74: 5476, 75: 5625, 76: 5776, 77: 5929, 78: 6084, 79: 6241, 80: 6400, 81: 6561, 82: 6724, 83: 6889, 84: 7056, 85: 7225, 86: 7396, 87: 7569, 88: 7744, 89: 7921, 90: 8100, 91: 8281, 92: 8464, 93: 8649, 94: 8836, 95: 9025, 96: 9216, 97: 9409, 98: 9604}\n"
     ]
    }
   ],
   "source": [
    "# dictionnaire avec les nombres au carré de 0 à 99\n",
    "dict_carre = {k:k**2 for k in range(0,99)}\n",
    "print(dict_carre)\n"
   ]
  },
  {
   "cell_type": "code",
   "execution_count": 70,
   "id": "1e3b82de",
   "metadata": {},
   "outputs": [
    {
     "name": "stdout",
     "output_type": "stream",
     "text": [
      "{0: 0, 2: 4, 4: 16, 6: 36, 8: 64, 10: 100, 12: 144, 14: 196, 16: 256, 18: 324, 20: 400, 22: 484, 24: 576, 26: 676, 28: 784, 30: 900, 32: 1024, 34: 1156, 36: 1296, 38: 1444, 40: 1600, 42: 1764, 44: 1936, 46: 2116, 48: 2304, 50: 2500, 52: 2704, 54: 2916, 56: 3136, 58: 3364, 60: 3600, 62: 3844, 64: 4096, 66: 4356, 68: 4624, 70: 4900, 72: 5184, 74: 5476, 76: 5776, 78: 6084, 80: 6400, 82: 6724, 84: 7056, 86: 7396, 88: 7744, 90: 8100, 92: 8464, 94: 8836, 96: 9216, 98: 9604}\n"
     ]
    }
   ],
   "source": [
    "# Dictionnaire uniquement avec les nombres pairs\n",
    "\n",
    "dict_carre_pair = {k:k**2 for k in range(0,99) if k % 2 == 0}\n",
    "print(dict_carre_pair)"
   ]
  },
  {
   "cell_type": "markdown",
   "id": "b40f7323",
   "metadata": {},
   "source": [
    "# Exercice\n",
    "Considérer le dictionnaire suivant inventaire = {'pommes': 30, 'bananes': 15, 'cerises': 20}\n",
    "Creer un dictionnaire en compréhension qui va inverser les clés et les valeurs du dictionnaire inventaire"
   ]
  },
  {
   "cell_type": "code",
   "execution_count": 72,
   "id": "c753c13c",
   "metadata": {},
   "outputs": [
    {
     "data": {
      "text/plain": [
       "{30: 'pommes', 15: 'bananes', 20: 'cerises'}"
      ]
     },
     "execution_count": 72,
     "metadata": {},
     "output_type": "execute_result"
    }
   ],
   "source": [
    "inventaire = {'pommes': 30, 'bananes': 15, 'cerises': 20}\n",
    "dict_inverse = {v:k for k,v in inventaire.items()}\n",
    "dict_inverse"
   ]
  },
  {
   "cell_type": "markdown",
   "id": "6ff6371a",
   "metadata": {},
   "source": [
    "# Fonctions natives en Python\n"
   ]
  },
  {
   "cell_type": "markdown",
   "id": "35ed3870",
   "metadata": {},
   "source": [
    "La documentation des fonctions natives est disponible ici: [https://docs.python.org/fr/3/library/functions.html](https://docs.python.org/fr/3/library/functions.html)"
   ]
  },
  {
   "cell_type": "code",
   "execution_count": 73,
   "id": "9fbaa572",
   "metadata": {},
   "outputs": [
    {
     "name": "stdout",
     "output_type": "stream",
     "text": [
      "Bonsoir\n"
     ]
    }
   ],
   "source": [
    "# print\n",
    "print(\"Bonsoir\")"
   ]
  },
  {
   "cell_type": "code",
   "execution_count": 78,
   "id": "d05fe794",
   "metadata": {},
   "outputs": [
    {
     "name": "stdout",
     "output_type": "stream",
     "text": [
      "La temperature à Brest est de 2\n"
     ]
    }
   ],
   "source": [
    "# format (à connaître)\n",
    "temperature = 2\n",
    "ville = \"Brest\"\n",
    "resultat = \"La temperature à {} est de {}\".format(ville,temperature)\n",
    "print(resultat)"
   ]
  },
  {
   "cell_type": "code",
   "execution_count": 79,
   "id": "d4de43af",
   "metadata": {},
   "outputs": [
    {
     "name": "stdout",
     "output_type": "stream",
     "text": [
      "La temperature à Brest est de 2\n"
     ]
    }
   ],
   "source": [
    "resultatbis = f\"La temperature à {ville} est de {temperature}\"\n",
    "print(resultatbis)"
   ]
  },
  {
   "cell_type": "code",
   "execution_count": 84,
   "id": "6cbbca1e",
   "metadata": {},
   "outputs": [
    {
     "name": "stdout",
     "output_type": "stream",
     "text": [
      "Quel est votre âge?16\n"
     ]
    }
   ],
   "source": [
    "#input \n",
    "age = input(\"Quel est votre âge?\")"
   ]
  },
  {
   "cell_type": "code",
   "execution_count": 86,
   "id": "d8b1abe3",
   "metadata": {},
   "outputs": [
    {
     "name": "stdout",
     "output_type": "stream",
     "text": [
      "16\n"
     ]
    },
    {
     "data": {
      "text/plain": [
       "str"
      ]
     },
     "execution_count": 86,
     "metadata": {},
     "output_type": "execute_result"
    }
   ],
   "source": [
    "print(age)\n",
    "type(age)"
   ]
  },
  {
   "cell_type": "code",
   "execution_count": 87,
   "id": "c7369458",
   "metadata": {},
   "outputs": [
    {
     "data": {
      "text/plain": [
       "int"
      ]
     },
     "execution_count": 87,
     "metadata": {},
     "output_type": "execute_result"
    }
   ],
   "source": [
    "# transformer les string en interger\n",
    "age_int = int(age)\n",
    "type(age_int)"
   ]
  },
  {
   "cell_type": "code",
   "execution_count": 88,
   "id": "c865d20b",
   "metadata": {},
   "outputs": [
    {
     "data": {
      "text/plain": [
       "5"
      ]
     },
     "execution_count": 88,
     "metadata": {},
     "output_type": "execute_result"
    }
   ],
   "source": [
    "# abs\n",
    "x = -5\n",
    "abs(x)"
   ]
  },
  {
   "cell_type": "code",
   "execution_count": 89,
   "id": "6cd015e6",
   "metadata": {},
   "outputs": [
    {
     "data": {
      "text/plain": [
       "1"
      ]
     },
     "execution_count": 89,
     "metadata": {},
     "output_type": "execute_result"
    }
   ],
   "source": [
    "# round\n",
    "y = 1.4555\n",
    "round(y)"
   ]
  },
  {
   "cell_type": "code",
   "execution_count": 90,
   "id": "0a42ee60",
   "metadata": {},
   "outputs": [
    {
     "data": {
      "text/plain": [
       "377"
      ]
     },
     "execution_count": 90,
     "metadata": {},
     "output_type": "execute_result"
    }
   ],
   "source": [
    "# max (liste)\n",
    "liste_entier = [5,3,4,5,6,377]\n",
    "max(liste_entier)"
   ]
  },
  {
   "cell_type": "code",
   "execution_count": 91,
   "id": "18f3af31",
   "metadata": {},
   "outputs": [
    {
     "data": {
      "text/plain": [
       "3"
      ]
     },
     "execution_count": 91,
     "metadata": {},
     "output_type": "execute_result"
    }
   ],
   "source": [
    "# min (liste)\n",
    "min(liste_entier)"
   ]
  },
  {
   "cell_type": "code",
   "execution_count": 92,
   "id": "59d4975b",
   "metadata": {},
   "outputs": [
    {
     "data": {
      "text/plain": [
       "400"
      ]
     },
     "execution_count": 92,
     "metadata": {},
     "output_type": "execute_result"
    }
   ],
   "source": [
    "# sum \n",
    "sum(liste_entier)"
   ]
  },
  {
   "cell_type": "code",
   "execution_count": 95,
   "id": "30561b82",
   "metadata": {},
   "outputs": [
    {
     "data": {
      "text/plain": [
       "True"
      ]
     },
     "execution_count": 95,
     "metadata": {},
     "output_type": "execute_result"
    }
   ],
   "source": [
    "# all (vrai ou différent de zéro)\n",
    "liste_bool = [False,True,True]\n",
    "all(liste_bool)"
   ]
  },
  {
   "cell_type": "code",
   "execution_count": 97,
   "id": "510a7fcd",
   "metadata": {},
   "outputs": [
    {
     "data": {
      "text/plain": [
       "True"
      ]
     },
     "execution_count": 97,
     "metadata": {},
     "output_type": "execute_result"
    }
   ],
   "source": [
    "# any (vrai ou différent de 0)\n",
    "any(liste_bool)"
   ]
  },
  {
   "cell_type": "code",
   "execution_count": 98,
   "id": "c3e140fa",
   "metadata": {},
   "outputs": [
    {
     "data": {
      "text/plain": [
       "3"
      ]
     },
     "execution_count": 98,
     "metadata": {},
     "output_type": "execute_result"
    }
   ],
   "source": [
    "# len\n",
    "len(liste_bool)"
   ]
  },
  {
   "cell_type": "code",
   "execution_count": 100,
   "id": "e5d71c69",
   "metadata": {},
   "outputs": [],
   "source": [
    "# range\n",
    "plage = range(0,199, 3)"
   ]
  },
  {
   "cell_type": "code",
   "execution_count": 102,
   "id": "385034b9",
   "metadata": {},
   "outputs": [
    {
     "data": {
      "text/plain": [
       "list"
      ]
     },
     "execution_count": 102,
     "metadata": {},
     "output_type": "execute_result"
    }
   ],
   "source": [
    "# type\n",
    "type(liste_entier)"
   ]
  },
  {
   "cell_type": "code",
   "execution_count": 104,
   "id": "1029c140",
   "metadata": {},
   "outputs": [],
   "source": [
    "# conversion list, tuple, dictionnaire\n",
    "liste = list(plage)\n",
    "trans_tuple = tuple(plage)\n"
   ]
  },
  {
   "cell_type": "code",
   "execution_count": null,
   "id": "d9c860a8",
   "metadata": {},
   "outputs": [],
   "source": [
    "# conversion float, int, string"
   ]
  },
  {
   "cell_type": "code",
   "execution_count": 106,
   "id": "7b4672d9",
   "metadata": {},
   "outputs": [
    {
     "data": {
      "text/plain": [
       "0.0"
      ]
     },
     "execution_count": 106,
     "metadata": {},
     "output_type": "execute_result"
    }
   ],
   "source": [
    "test = float(0)\n",
    "test"
   ]
  },
  {
   "cell_type": "markdown",
   "id": "a6e59fcb",
   "metadata": {},
   "source": [
    "# Exercices"
   ]
  },
  {
   "cell_type": "markdown",
   "id": "cb7c665e",
   "metadata": {},
   "source": [
    "# Exercice 1 : Filtrage de Dictionnaire avec une Fonction\n",
    "\n",
    "## Objectif\n",
    "Créer une fonction pour filtrer un dictionnaire de produits selon leur prix.\n",
    "\n",
    "## Enoncé\n",
    "\n",
    "- Créez un dictionnaire nommé `produits` avec au moins 5 paires clé-valeur, où les clés sont des noms de produits (par exemple, \"pommes\", \"bananes\") et les valeurs sont leurs prix.\n",
    "- Définissez une fonction nommée `filtrer_produits`. Cette fonction doit prendre deux arguments :\n",
    "  - Un dictionnaire `produits`.\n",
    "  - Un prix maximal `prix_max`.\n",
    "- La fonction `filtrer_produits` doit parcourir le dictionnaire `produits` et retourner un nouveau dictionnaire contenant uniquement les produits dont le prix est inférieur ou égal à `prix_max`.\n",
    "- Testez votre fonction avec le dictionnaire `produits` et différents prix maximaux pour vérifier si elle fonctionne correctement.\n",
    "\n"
   ]
  },
  {
   "cell_type": "markdown",
   "id": "be5b46c7",
   "metadata": {},
   "source": [
    "### Exercice 2 : Utilisation de `for`, `if`, et Listes en Compréhension\n",
    "\n",
    "**Objectif** : Combiner l'utilisation de boucles `for`, de conditions `if`, et de listes en compréhension pour traiter et filtrer les données d'une liste.\n",
    "\n",
    "**Instructions** :\n",
    "\n",
    "1. Créez une liste de nombres (par exemple, `[12, 35, 9, 56, 24, 89, 24]`).\n",
    "2. Utilisez une liste en compréhension pour créer une nouvelle liste qui contient seulement les nombres de la liste originale qui sont supérieurs à un certain seuil (par exemple, 20).\n",
    "3. À l'intérieur de cette liste en compréhension, utilisez une boucle `for` pour parcourir la liste originale et une condition `if` pour vérifier le seuil.\n",
    "4. Affichez la liste résultante.\n",
    "5. Automatisez à l'aide d'une fonction\n",
    "\n",
    "Cette approche vous permet de pratiquer comment filtrer des éléments d'une liste en utilisant une liste en compréhension avec des conditions intégrées.\n"
   ]
  },
  {
   "cell_type": "markdown",
   "id": "c1ce1113",
   "metadata": {},
   "source": [
    "### Exercice 3 : Utilisation de `format` dans `print`\n",
    "\n",
    "**Objectif** : Formater l'affichage des données d'une liste de tuples en utilisant la méthode `format`.\n",
    "\n",
    "**Instructions** :\n",
    "\n",
    "1. Créez une liste de tuples, chaque tuple contenant le nom d'un élève et sa note (par exemple, `[(\"Marie\", 85), (\"Pierre\", 92), (\"Julie\", 78)]`).\n",
    "2. Utilisez une boucle `for` pour parcourir la liste.\n",
    "3. Pour chaque tuple, utilisez la méthode `format` pour afficher le nom de l'élève et sa note en suivant ce format : \"L'élève [Nom] a obtenu la note de [Note]/100.\"\n",
    "\n",
    "Ces exercices couvrent les sujets demandés tout en proposant des défis progressifs pour renforcer la compréhension des concepts de base en Python.\n"
   ]
  },
  {
   "cell_type": "code",
   "execution_count": null,
   "id": "e5be74e8",
   "metadata": {},
   "outputs": [],
   "source": [
    "# Importation"
   ]
  }
 ],
 "metadata": {
  "kernelspec": {
   "display_name": "Python 3 (ipykernel)",
   "language": "python",
   "name": "python3"
  },
  "language_info": {
   "codemirror_mode": {
    "name": "ipython",
    "version": 3
   },
   "file_extension": ".py",
   "mimetype": "text/x-python",
   "name": "python",
   "nbconvert_exporter": "python",
   "pygments_lexer": "ipython3",
   "version": "3.11.5"
  }
 },
 "nbformat": 4,
 "nbformat_minor": 5
}
