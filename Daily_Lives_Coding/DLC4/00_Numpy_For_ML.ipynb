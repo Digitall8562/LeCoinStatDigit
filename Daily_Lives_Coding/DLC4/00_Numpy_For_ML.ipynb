{
 "cells": [
  {
   "cell_type": "markdown",
   "id": "7acc0d36",
   "metadata": {},
   "source": [
    "# Installation et chargement de NumPy"
   ]
  },
  {
   "cell_type": "code",
   "execution_count": 1,
   "id": "8d51f123",
   "metadata": {
    "ExecuteTime": {
     "end_time": "2023-03-16T16:41:32.105229Z",
     "start_time": "2023-03-16T16:41:31.363316Z"
    },
    "code_folding": []
   },
   "outputs": [],
   "source": [
    "#Installation et import\n",
    "#!pip install numpy\n",
    "import numpy as np\n"
   ]
  },
  {
   "cell_type": "markdown",
   "id": "766eb80e",
   "metadata": {},
   "source": [
    "# Création des données avec numpy "
   ]
  },
  {
   "cell_type": "markdown",
   "id": "e495cc3f",
   "metadata": {},
   "source": [
    "## Créer un numpy array avec une liste/liste de liste (matrice)"
   ]
  },
  {
   "cell_type": "code",
   "execution_count": 2,
   "id": "22624ec7",
   "metadata": {
    "ExecuteTime": {
     "end_time": "2023-03-16T16:41:32.108590Z",
     "start_time": "2023-03-16T16:41:32.106146Z"
    },
    "code_folding": []
   },
   "outputs": [
    {
     "name": "stdout",
     "output_type": "stream",
     "text": [
      "[1 2 3 4 5]\n"
     ]
    }
   ],
   "source": [
    "# Création à partir d'un liste\n",
    "liste = [1, 2, 3, 4, 5]  # Définition de la liste d'élément\n",
    "array_with_liste = np.array(liste)\n",
    "print(array_with_liste)  # affiche le numpy array"
   ]
  },
  {
   "cell_type": "code",
   "execution_count": null,
   "id": "57a5cc64",
   "metadata": {
    "ExecuteTime": {
     "end_time": "2023-03-16T16:41:32.111750Z",
     "start_time": "2023-03-16T16:41:32.110115Z"
    },
    "code_folding": []
   },
   "outputs": [],
   "source": [
    "# Création à partir d'une matrice"
   ]
  },
  {
   "cell_type": "code",
   "execution_count": 3,
   "id": "a5f6001a",
   "metadata": {
    "ExecuteTime": {
     "end_time": "2023-03-16T16:41:32.114735Z",
     "start_time": "2023-03-16T16:41:32.112600Z"
    },
    "code_folding": []
   },
   "outputs": [
    {
     "name": "stdout",
     "output_type": "stream",
     "text": [
      "[[1 2 3]\n",
      " [4 5 6]\n",
      " [7 8 9]]\n"
     ]
    }
   ],
   "source": [
    "# Création d'un numpy array à partir d'une liste de listes (matrice)\n",
    "matrice = [[1, 2, 3], [4, 5, 6], [7, 8, 9]]\n",
    "array_with_matrice = np.array(matrice)\n",
    "print(array_with_matrice)"
   ]
  },
  {
   "cell_type": "markdown",
   "id": "953d2c02",
   "metadata": {},
   "source": [
    "## Créer un numpy array à partir des fonctions intégrées"
   ]
  },
  {
   "cell_type": "code",
   "execution_count": 4,
   "id": "bdd77444",
   "metadata": {
    "ExecuteTime": {
     "end_time": "2023-03-16T16:41:32.118019Z",
     "start_time": "2023-03-16T16:41:32.115883Z"
    },
    "code_folding": []
   },
   "outputs": [
    {
     "name": "stdout",
     "output_type": "stream",
     "text": [
      "[[0. 0. 0.]\n",
      " [0. 0. 0.]\n",
      " [0. 0. 0.]]\n"
     ]
    }
   ],
   "source": [
    "#Créer un numpy array à partir de la fonction zeros\n",
    "array_zeros = np.zeros((3,3))\n",
    "print(array_zeros)"
   ]
  },
  {
   "cell_type": "code",
   "execution_count": 5,
   "id": "2e02f7d6",
   "metadata": {
    "ExecuteTime": {
     "end_time": "2023-03-16T16:41:32.121251Z",
     "start_time": "2023-03-16T16:41:32.119113Z"
    },
    "code_folding": []
   },
   "outputs": [
    {
     "name": "stdout",
     "output_type": "stream",
     "text": [
      "[[1. 1.]\n",
      " [1. 1.]\n",
      " [1. 1.]\n",
      " [1. 1.]]\n"
     ]
    }
   ],
   "source": [
    "#Créer un numpy array à partir de la fonction ones\n",
    "array_ones = np.ones((4,2))\n",
    "print(array_ones)"
   ]
  },
  {
   "cell_type": "code",
   "execution_count": 8,
   "id": "6324220e",
   "metadata": {
    "ExecuteTime": {
     "end_time": "2023-03-16T16:41:32.127417Z",
     "start_time": "2023-03-16T16:41:32.122247Z"
    },
    "code_folding": []
   },
   "outputs": [
    {
     "data": {
      "text/plain": [
       "array([[1., 0., 0.],\n",
       "       [0., 1., 0.],\n",
       "       [0., 0., 1.]])"
      ]
     },
     "execution_count": 8,
     "metadata": {},
     "output_type": "execute_result"
    }
   ],
   "source": [
    "#Créer un numpay array avec la fonction eye \n",
    "array_eye = np.eye(3)#Pour créer la matrice identité\n",
    "array_eye\n"
   ]
  },
  {
   "cell_type": "code",
   "execution_count": 10,
   "id": "662e91ad",
   "metadata": {
    "ExecuteTime": {
     "end_time": "2023-03-16T16:41:32.131538Z",
     "start_time": "2023-03-16T16:41:32.128784Z"
    },
    "code_folding": []
   },
   "outputs": [
    {
     "data": {
      "text/plain": [
       "array([ 0,  2,  4,  6,  8, 10])"
      ]
     },
     "execution_count": 10,
     "metadata": {},
     "output_type": "execute_result"
    }
   ],
   "source": [
    "#Créer un numpay array avec la fonction arange: pour créer des nombre entre le minimum et le maximum avec un pas\n",
    "array_arange = np.arange(0, 11, 2)\n",
    "array_arange"
   ]
  },
  {
   "cell_type": "code",
   "execution_count": 12,
   "id": "f75fc0f0",
   "metadata": {
    "ExecuteTime": {
     "end_time": "2023-03-16T16:41:32.137432Z",
     "start_time": "2023-03-16T16:41:32.134795Z"
    },
    "code_folding": []
   },
   "outputs": [
    {
     "data": {
      "text/plain": [
       "array([0.        , 0.11111111, 0.22222222, 0.33333333, 0.44444444,\n",
       "       0.55555556, 0.66666667, 0.77777778, 0.88888889, 1.        ])"
      ]
     },
     "execution_count": 12,
     "metadata": {},
     "output_type": "execute_result"
    }
   ],
   "source": [
    "#Créer un numpay array avec la fonction linspace #générer une séquence de nombre \n",
    "#entre deux valeurs données avec un nombre de points donné\n",
    "array_linspace = np.linspace(0, 1, 10)#Très utile pour les graphiques\n",
    "array_linspace"
   ]
  },
  {
   "cell_type": "code",
   "execution_count": 17,
   "id": "da0019b7",
   "metadata": {
    "ExecuteTime": {
     "end_time": "2023-03-16T16:41:32.140411Z",
     "start_time": "2023-03-16T16:41:32.138254Z"
    },
    "code_folding": []
   },
   "outputs": [
    {
     "name": "stdout",
     "output_type": "stream",
     "text": [
      "[[0.38460183 0.91191777 0.26433874 0.42778659]\n",
      " [0.86015894 0.33599314 0.07096604 0.53405233]\n",
      " [0.38777336 0.92685784 0.37362457 0.37665129]\n",
      " [0.66224501 0.04220367 0.09486011 0.24925666]\n",
      " [0.29675815 0.27890915 0.4802953  0.13089389]]\n"
     ]
    }
   ],
   "source": [
    "# Créer un numpy array de valeurs aléatoires avec la fonction random\n",
    "array_random = np.random.random((5,4))#Utile pour initialiser les poids dans les réseaux de neurones, générer des données d'apprentissage synthétiques\n",
    "print(array_random)"
   ]
  },
  {
   "cell_type": "markdown",
   "id": "accbfee7",
   "metadata": {},
   "source": [
    "# Fonctions mathématiques et statistiques avec Numpy"
   ]
  },
  {
   "cell_type": "code",
   "execution_count": 20,
   "id": "c62247ca",
   "metadata": {
    "ExecuteTime": {
     "end_time": "2023-03-16T16:41:32.145627Z",
     "start_time": "2023-03-16T16:41:32.141619Z"
    },
    "code_folding": []
   },
   "outputs": [
    {
     "data": {
      "text/plain": [
       "15"
      ]
     },
     "execution_count": 20,
     "metadata": {},
     "output_type": "execute_result"
    }
   ],
   "source": [
    "#Fonction mathématiques basiques\n",
    "array1=array_with_liste\n",
    "array_sum = np.sum(array1)\n",
    "array_mean = np.mean(array1)\n",
    "array_std = np.std(array1)\n",
    "array_min = np.min(array1)\n",
    "array_max = np.max(array1)\n",
    "array_sqrt = np.sqrt(array1)\n",
    "array_abs = np.abs(array1)\n",
    "array_power = np.power(array1, 2)\n",
    "array_exp = np.exp(array1)\n",
    "array_log = np.log(np.abs(array1))\n",
    "array_sin = np.sin(array1)\n",
    "array_median = np.median(array1)\n",
    "array_sum"
   ]
  },
  {
   "cell_type": "code",
   "execution_count": 21,
   "id": "1918987a",
   "metadata": {
    "ExecuteTime": {
     "end_time": "2023-03-16T16:41:32.149195Z",
     "start_time": "2023-03-16T16:41:32.146739Z"
    }
   },
   "outputs": [
    {
     "data": {
      "text/plain": [
       "3.0"
      ]
     },
     "execution_count": 21,
     "metadata": {},
     "output_type": "execute_result"
    }
   ],
   "source": [
    "array_median"
   ]
  },
  {
   "cell_type": "markdown",
   "id": "b6ff1a99",
   "metadata": {},
   "source": [
    "# Manipulation des matrices avec Numpy"
   ]
  },
  {
   "cell_type": "code",
   "execution_count": 22,
   "id": "4acf5f64",
   "metadata": {
    "ExecuteTime": {
     "end_time": "2023-03-16T16:41:32.152548Z",
     "start_time": "2023-03-16T16:41:32.150242Z"
    },
    "code_folding": []
   },
   "outputs": [
    {
     "name": "stdout",
     "output_type": "stream",
     "text": [
      "[[ 30  36  42]\n",
      " [ 66  81  96]\n",
      " [102 126 150]]\n"
     ]
    }
   ],
   "source": [
    "# Produit matriciel\n",
    "matrice = [[1, 2, 3], [4, 5, 6], [7, 8, 9]]\n",
    "produit_matriciel = np.dot(array_with_matrice, array_with_matrice)\n",
    "print(produit_matriciel)"
   ]
  },
  {
   "cell_type": "code",
   "execution_count": 23,
   "id": "eeb6641b",
   "metadata": {
    "ExecuteTime": {
     "end_time": "2023-03-16T16:41:32.155331Z",
     "start_time": "2023-03-16T16:41:32.153557Z"
    },
    "code_folding": []
   },
   "outputs": [
    {
     "name": "stdout",
     "output_type": "stream",
     "text": [
      "[[1 4 7]\n",
      " [2 5 8]\n",
      " [3 6 9]]\n"
     ]
    }
   ],
   "source": [
    "# Transposée\n",
    "transposee = np.transpose(array_with_matrice)\n",
    "print(transposee)"
   ]
  },
  {
   "cell_type": "code",
   "execution_count": 24,
   "id": "69bbd119",
   "metadata": {
    "ExecuteTime": {
     "end_time": "2023-03-16T16:41:32.158468Z",
     "start_time": "2023-03-16T16:41:32.156113Z"
    },
    "code_folding": []
   },
   "outputs": [
    {
     "name": "stdout",
     "output_type": "stream",
     "text": [
      "[[1. 0. 0.]\n",
      " [0. 1. 0.]\n",
      " [0. 0. 1.]]\n"
     ]
    }
   ],
   "source": [
    "# Inversion (pour les matrices carrées non singulières)\n",
    "inverse = np.linalg.inv(array_eye)\n",
    "print(inverse)"
   ]
  },
  {
   "cell_type": "code",
   "execution_count": 25,
   "id": "dbac662e",
   "metadata": {
    "ExecuteTime": {
     "end_time": "2023-03-16T16:41:32.161562Z",
     "start_time": "2023-03-16T16:41:32.159512Z"
    },
    "code_folding": []
   },
   "outputs": [
    {
     "name": "stdout",
     "output_type": "stream",
     "text": [
      "1.0\n"
     ]
    }
   ],
   "source": [
    "#Déterminant\n",
    "determinant=np.linalg.det(array_eye)\n",
    "print(determinant)  "
   ]
  },
  {
   "cell_type": "markdown",
   "id": "f5211dd4",
   "metadata": {},
   "source": [
    "# Accéder  aux éléments, sélectionner, modifier et mettre à jour un numpy array"
   ]
  },
  {
   "cell_type": "code",
   "execution_count": 26,
   "id": "ab633830",
   "metadata": {
    "ExecuteTime": {
     "end_time": "2023-03-16T16:41:32.164875Z",
     "start_time": "2023-03-16T16:41:32.162599Z"
    },
    "code_folding": []
   },
   "outputs": [
    {
     "name": "stdout",
     "output_type": "stream",
     "text": [
      "1\n"
     ]
    }
   ],
   "source": [
    "# Accès aux éléments\n",
    "array1 = np.array([1,2,3,4,5]) \n",
    "premier_element = array1[0]\n",
    "print(premier_element)\n"
   ]
  },
  {
   "cell_type": "code",
   "execution_count": 29,
   "id": "9f6b8e77",
   "metadata": {},
   "outputs": [
    {
     "data": {
      "text/plain": [
       "3"
      ]
     },
     "execution_count": 29,
     "metadata": {},
     "output_type": "execute_result"
    }
   ],
   "source": [
    "array1[2]"
   ]
  },
  {
   "cell_type": "code",
   "execution_count": 31,
   "id": "eb2423aa",
   "metadata": {
    "ExecuteTime": {
     "end_time": "2023-03-16T16:41:32.171515Z",
     "start_time": "2023-03-16T16:41:32.169440Z"
    },
    "code_folding": []
   },
   "outputs": [
    {
     "name": "stdout",
     "output_type": "stream",
     "text": [
      "[15  2  3  4  5]\n"
     ]
    }
   ],
   "source": [
    "# Modification d'un élément\n",
    "array1[0] = 15\n",
    "print(array1)"
   ]
  },
  {
   "cell_type": "code",
   "execution_count": 33,
   "id": "64f376f1",
   "metadata": {
    "ExecuteTime": {
     "end_time": "2023-03-16T16:41:32.175095Z",
     "start_time": "2023-03-16T16:41:32.172333Z"
    },
    "code_folding": []
   },
   "outputs": [
    {
     "data": {
      "text/plain": [
       "array([15,  3,  4,  5])"
      ]
     },
     "execution_count": 33,
     "metadata": {},
     "output_type": "execute_result"
    }
   ],
   "source": [
    "# Sélection des éléments qui respectent une condition\n",
    "condition = array1 > 5\n",
    "elements_respectant_condition = array1[array1 > 2]\n",
    "elements_respectant_condition"
   ]
  },
  {
   "cell_type": "code",
   "execution_count": 35,
   "id": "16ba3c87",
   "metadata": {
    "ExecuteTime": {
     "end_time": "2023-03-16T16:41:32.178693Z",
     "start_time": "2023-03-16T16:41:32.176037Z"
    }
   },
   "outputs": [
    {
     "data": {
      "text/plain": [
       "(array([0, 3, 4]),)"
      ]
     },
     "execution_count": 35,
     "metadata": {},
     "output_type": "execute_result"
    }
   ],
   "source": [
    "condition = array1 > 3\n",
    "condition\n",
    "indices = np.where(array1 > 3)\n",
    "indices"
   ]
  },
  {
   "cell_type": "code",
   "execution_count": 36,
   "id": "d90b7ae1",
   "metadata": {},
   "outputs": [
    {
     "data": {
      "text/plain": [
       "array([ True, False, False, False, False])"
      ]
     },
     "execution_count": 36,
     "metadata": {},
     "output_type": "execute_result"
    }
   ],
   "source": [
    "array1 > 5"
   ]
  },
  {
   "cell_type": "code",
   "execution_count": null,
   "id": "18843f68",
   "metadata": {
    "ExecuteTime": {
     "end_time": "2023-03-16T16:41:32.181952Z",
     "start_time": "2023-03-16T16:41:32.179873Z"
    },
    "code_folding": []
   },
   "outputs": [],
   "source": [
    "# Utilisation de np.where\n",
    "indices = np.where(array1 > 5)\n",
    "elements_respectant_condition_np_where = array1[indices]\n",
    "print(elements_respectant_condition_np_where)"
   ]
  },
  {
   "cell_type": "code",
   "execution_count": 37,
   "id": "8a757eae",
   "metadata": {
    "ExecuteTime": {
     "end_time": "2023-03-16T16:41:32.184832Z",
     "start_time": "2023-03-16T16:41:32.183013Z"
    },
    "code_folding": []
   },
   "outputs": [
    {
     "name": "stdout",
     "output_type": "stream",
     "text": [
      "[0 2 3 0 0]\n"
     ]
    }
   ],
   "source": [
    "# Mise à jour d'un numpy array\n",
    "array1[condition] = 0\n",
    "print(array1)"
   ]
  },
  {
   "cell_type": "code",
   "execution_count": 38,
   "id": "7cf4c5b4",
   "metadata": {
    "ExecuteTime": {
     "end_time": "2023-03-16T16:41:32.188710Z",
     "start_time": "2023-03-16T16:41:32.185812Z"
    },
    "code_folding": []
   },
   "outputs": [
    {
     "data": {
      "text/plain": [
       "array([1, 2, 3])"
      ]
     },
     "execution_count": 38,
     "metadata": {},
     "output_type": "execute_result"
    }
   ],
   "source": [
    "#  Slicing et indexation avancée\n",
    "array6 = np.array([[1, 2, 3], [4, 5, 6], [7, 8, 9]])\n",
    "# Slicing\n",
    "premiere_ligne = array6[0, :]\n",
    "premiere_ligne"
   ]
  },
  {
   "cell_type": "code",
   "execution_count": 39,
   "id": "e5a6c9c9",
   "metadata": {
    "ExecuteTime": {
     "end_time": "2023-03-16T16:41:32.192048Z",
     "start_time": "2023-03-16T16:41:32.189625Z"
    },
    "code_folding": []
   },
   "outputs": [
    {
     "data": {
      "text/plain": [
       "array([1, 4, 7])"
      ]
     },
     "execution_count": 39,
     "metadata": {},
     "output_type": "execute_result"
    }
   ],
   "source": [
    "#Première colonne\n",
    "premiere_colonne = array6[:, 0]\n",
    "premiere_colonne\n"
   ]
  },
  {
   "cell_type": "code",
   "execution_count": 40,
   "id": "f062d728",
   "metadata": {
    "ExecuteTime": {
     "end_time": "2023-03-16T16:41:32.195898Z",
     "start_time": "2023-03-16T16:41:32.193262Z"
    },
    "code_folding": []
   },
   "outputs": [
    {
     "data": {
      "text/plain": [
       "array([[5, 6],\n",
       "       [8, 9]])"
      ]
     },
     "execution_count": 40,
     "metadata": {},
     "output_type": "execute_result"
    }
   ],
   "source": [
    "#sous matrice\n",
    "sous_matrice = array6[1:3, 1:3]\n",
    "sous_matrice"
   ]
  },
  {
   "cell_type": "code",
   "execution_count": 41,
   "id": "aca1fc45",
   "metadata": {
    "ExecuteTime": {
     "end_time": "2023-03-16T16:41:32.203346Z",
     "start_time": "2023-03-16T16:41:32.200728Z"
    },
    "code_folding": []
   },
   "outputs": [
    {
     "data": {
      "text/plain": [
       "array([2, 6])"
      ]
     },
     "execution_count": 41,
     "metadata": {},
     "output_type": "execute_result"
    }
   ],
   "source": [
    "# Indexation avancée\n",
    "lignes = [0, 1]\n",
    "colonnes = [1, 2]\n",
    "elements_selectionnes = array6[lignes, colonnes]\n",
    "elements_selectionnes"
   ]
  },
  {
   "cell_type": "code",
   "execution_count": 42,
   "id": "2e26ed90",
   "metadata": {
    "ExecuteTime": {
     "end_time": "2023-03-16T16:41:32.206924Z",
     "start_time": "2023-03-16T16:41:32.204247Z"
    },
    "code_folding": []
   },
   "outputs": [
    {
     "data": {
      "text/plain": [
       "array([5, 7, 9])"
      ]
     },
     "execution_count": 42,
     "metadata": {},
     "output_type": "execute_result"
    }
   ],
   "source": [
    "# Opérations élémentaires et diffusion (broadcasting)\n",
    "array7 = np.array([1, 2, 3])\n",
    "array8 = np.array([4, 5, 6])\n",
    "\n",
    "\n",
    "# Addition élémentaire\n",
    "array_addition = array7 + array8\n",
    "array_addition"
   ]
  },
  {
   "cell_type": "code",
   "execution_count": 43,
   "id": "c669de1a",
   "metadata": {
    "ExecuteTime": {
     "end_time": "2023-03-16T16:41:32.210583Z",
     "start_time": "2023-03-16T16:41:32.208102Z"
    },
    "code_folding": []
   },
   "outputs": [
    {
     "data": {
      "text/plain": [
       "array([ 4, 10, 18])"
      ]
     },
     "execution_count": 43,
     "metadata": {},
     "output_type": "execute_result"
    }
   ],
   "source": [
    "# Multiplication élémentaire\n",
    "array_multiplication = array7 * array8\n",
    "array_multiplication\n"
   ]
  },
  {
   "cell_type": "code",
   "execution_count": 44,
   "id": "7955acf9",
   "metadata": {
    "ExecuteTime": {
     "end_time": "2023-03-16T16:41:32.214319Z",
     "start_time": "2023-03-16T16:41:32.211564Z"
    },
    "code_folding": []
   },
   "outputs": [
    {
     "data": {
      "text/plain": [
       "array([[ 2,  4,  6],\n",
       "       [ 5,  7,  9],\n",
       "       [ 8, 10, 12]])"
      ]
     },
     "execution_count": 44,
     "metadata": {},
     "output_type": "execute_result"
    }
   ],
   "source": [
    "# Diffusion (broadcasting)\n",
    "array9 = np.array([[1, 2, 3], [4, 5, 6], [7, 8, 9]])\n",
    "array10 = np.array([1, 2, 3])\n",
    "array9+array10"
   ]
  },
  {
   "cell_type": "code",
   "execution_count": null,
   "id": "6ebe579a",
   "metadata": {},
   "outputs": [],
   "source": []
  },
  {
   "cell_type": "markdown",
   "id": "6a4c93f6",
   "metadata": {},
   "source": [
    "# Redimensionnement, append, type de données taille etc"
   ]
  },
  {
   "cell_type": "code",
   "execution_count": 48,
   "id": "ac443e26",
   "metadata": {
    "ExecuteTime": {
     "end_time": "2023-03-16T16:41:32.217408Z",
     "start_time": "2023-03-16T16:41:32.215335Z"
    },
    "code_folding": []
   },
   "outputs": [
    {
     "name": "stdout",
     "output_type": "stream",
     "text": [
      "[[0 1 2]\n",
      " [3 4 5]\n",
      " [6 7 8]]\n"
     ]
    }
   ],
   "source": [
    "#r redimensionné le numpy array\n",
    "array3 = np.arange(9)\n",
    "array3_redimensionne = array3.reshape((3, 3))\n",
    "print(array3_redimensionne)"
   ]
  },
  {
   "cell_type": "code",
   "execution_count": 47,
   "id": "c51d3be5",
   "metadata": {},
   "outputs": [
    {
     "data": {
      "text/plain": [
       "array([0, 1, 2, 3, 4, 5, 6, 7, 8])"
      ]
     },
     "execution_count": 47,
     "metadata": {},
     "output_type": "execute_result"
    }
   ],
   "source": [
    "array3 = np.arange(9)\n",
    "array3"
   ]
  },
  {
   "cell_type": "code",
   "execution_count": 49,
   "id": "a1b16469",
   "metadata": {
    "ExecuteTime": {
     "end_time": "2023-03-16T16:41:32.220410Z",
     "start_time": "2023-03-16T16:41:32.218354Z"
    },
    "code_folding": []
   },
   "outputs": [
    {
     "name": "stdout",
     "output_type": "stream",
     "text": [
      "[0 2 3 0 0 6 7 8]\n"
     ]
    }
   ],
   "source": [
    "#Ajouter des éléments dans un numpy array\n",
    "array1_allonge = np.append(array1, [6, 7, 8])\n",
    "print(array1_allonge)"
   ]
  },
  {
   "cell_type": "code",
   "execution_count": 50,
   "id": "7d90a60a",
   "metadata": {
    "ExecuteTime": {
     "end_time": "2023-03-16T16:41:32.223475Z",
     "start_time": "2023-03-16T16:41:32.221136Z"
    },
    "code_folding": []
   },
   "outputs": [
    {
     "data": {
      "text/plain": [
       "(3, 3)"
      ]
     },
     "execution_count": 50,
     "metadata": {},
     "output_type": "execute_result"
    }
   ],
   "source": [
    "#Connaitre les caractéristiques d'un numpy array\n",
    "array_with_matrice.shape#dimension de l'array "
   ]
  },
  {
   "cell_type": "code",
   "execution_count": 51,
   "id": "9cd8a504",
   "metadata": {
    "ExecuteTime": {
     "end_time": "2023-03-16T16:41:32.226989Z",
     "start_time": "2023-03-16T16:41:32.224641Z"
    },
    "code_folding": []
   },
   "outputs": [
    {
     "data": {
      "text/plain": [
       "numpy.ndarray"
      ]
     },
     "execution_count": 51,
     "metadata": {},
     "output_type": "execute_result"
    }
   ],
   "source": [
    "#Connaitre le type de l'objet\n",
    "type(array_with_matrice)#type de l'objet"
   ]
  },
  {
   "cell_type": "code",
   "execution_count": 52,
   "id": "7dfba17e",
   "metadata": {
    "ExecuteTime": {
     "end_time": "2023-03-16T16:41:32.230431Z",
     "start_time": "2023-03-16T16:41:32.228126Z"
    },
    "code_folding": []
   },
   "outputs": [
    {
     "data": {
      "text/plain": [
       "dtype('int64')"
      ]
     },
     "execution_count": 52,
     "metadata": {},
     "output_type": "execute_result"
    }
   ],
   "source": [
    "#Connaitre le type des él\n",
    "array1.dtype#type des objet"
   ]
  },
  {
   "cell_type": "code",
   "execution_count": 53,
   "id": "677e56c6",
   "metadata": {},
   "outputs": [
    {
     "data": {
      "text/plain": [
       "dtype('<U1')"
      ]
     },
     "execution_count": 53,
     "metadata": {},
     "output_type": "execute_result"
    }
   ],
   "source": [
    "array7 = np.array(['1', '2', '3'])\n",
    "array7.dtype"
   ]
  },
  {
   "cell_type": "code",
   "execution_count": null,
   "id": "25d5214f",
   "metadata": {
    "ExecuteTime": {
     "end_time": "2023-03-16T16:41:32.232871Z",
     "start_time": "2023-03-16T16:41:32.231355Z"
    }
   },
   "outputs": [],
   "source": [
    "#Si vous voulez le sommaire\n",
    "#pip install jupyter_contrib_nbextensions && jupyter contrib nbextension install\n",
    "#pip install jlab-enhanced-cell-toolbar\n",
    "#!pip install jupyterthemes"
   ]
  },
  {
   "cell_type": "code",
   "execution_count": null,
   "id": "06abaa46",
   "metadata": {
    "ExecuteTime": {
     "end_time": "2023-03-16T16:41:32.235184Z",
     "start_time": "2023-03-16T16:41:32.233766Z"
    }
   },
   "outputs": [],
   "source": [
    "#! jt -l\n",
    "#!jt -t chesterish\n",
    "#!jt -t chesterish\n",
    "#!jt -r #reset at default"
   ]
  },
  {
   "cell_type": "markdown",
   "id": "af26498f",
   "metadata": {
    "ExecuteTime": {
     "end_time": "2023-03-16T14:32:10.543494Z",
     "start_time": "2023-03-16T14:32:10.540143Z"
    }
   },
   "source": [
    "# Quizz"
   ]
  },
  {
   "cell_type": "markdown",
   "id": "2fe5ba33",
   "metadata": {
    "heading_collapsed": true
   },
   "source": [
    "## Question 1:Quelle est la principale utilité de la bibliothèque NumPy en Data Science  ?\n",
    "\n",
    "a) Gestion de base de données\n",
    "\n",
    "b) Calcul scientifique et manipulation de tableaux\n",
    "\n",
    "c) Création d'interfaces graphiques\n",
    "\n",
    "d) Gestion des réseaux de neurones\n",
    "\n",
    "\n",
    "\n",
    "\n",
    "\n",
    "## Question 2: Comment créer un tableau NumPy de dimension 1 (1D) ?\n",
    "\n",
    "a) np.array([1, 2, 3])\n",
    "\n",
    "b) np.arange(1, 4)\n",
    "\n",
    "c) Les deux a et b\n",
    "\n",
    "d) Aucune des réponses ci-dessusQuestion \n",
    "\n",
    "\n",
    "## 3: Quelle fonction NumPy permet de créer un tableau contenant uniquement des zéros ?\n",
    "\n",
    "a) np.zeros()\n",
    "\n",
    "b) np.ones()\n",
    "\n",
    "c) np.eye()\n",
    "\n",
    "d) np.full()"
   ]
  },
  {
   "cell_type": "code",
   "execution_count": null,
   "id": "4d5dea33",
   "metadata": {
    "hidden": true
   },
   "outputs": [],
   "source": []
  }
 ],
 "metadata": {
  "hide_input": false,
  "kernelspec": {
   "display_name": "Python 3 (ipykernel)",
   "language": "python",
   "name": "python3"
  },
  "language_info": {
   "codemirror_mode": {
    "name": "ipython",
    "version": 3
   },
   "file_extension": ".py",
   "mimetype": "text/x-python",
   "name": "python",
   "nbconvert_exporter": "python",
   "pygments_lexer": "ipython3",
   "version": "3.9.13"
  },
  "toc": {
   "base_numbering": 1,
   "nav_menu": {},
   "number_sections": true,
   "sideBar": true,
   "skip_h1_title": false,
   "title_cell": "Table of Contents",
   "title_sidebar": "Contents",
   "toc_cell": false,
   "toc_position": {
    "height": "calc(100% - 180px)",
    "left": "10px",
    "top": "150px",
    "width": "280.375px"
   },
   "toc_section_display": true,
   "toc_window_display": false
  }
 },
 "nbformat": 4,
 "nbformat_minor": 5
}
