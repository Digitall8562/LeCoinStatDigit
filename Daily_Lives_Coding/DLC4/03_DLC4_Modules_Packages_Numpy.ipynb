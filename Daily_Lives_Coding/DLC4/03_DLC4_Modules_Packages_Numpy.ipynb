{
 "cells": [
  {
   "cell_type": "markdown",
   "id": "d7593c5d",
   "metadata": {},
   "source": [
    "![programme](DLC4.png)"
   ]
  },
  {
   "cell_type": "markdown",
   "id": "4c81df3c",
   "metadata": {},
   "source": [
    "# Les Modules et les packages en python"
   ]
  },
  {
   "cell_type": "markdown",
   "id": "4be6fbc5",
   "metadata": {},
   "source": [
    "##  Les Modules en python"
   ]
  },
  {
   "cell_type": "markdown",
   "id": "9758ceb3",
   "metadata": {},
   "source": [
    "### Créer son propre module"
   ]
  },
  {
   "cell_type": "code",
   "execution_count": null,
   "id": "984dd787",
   "metadata": {},
   "outputs": [],
   "source": [
    "# Création "
   ]
  },
  {
   "cell_type": "code",
   "execution_count": 21,
   "id": "80664683",
   "metadata": {},
   "outputs": [],
   "source": [
    "# Importer et renommer tout le module \n",
    "import description as desc \n"
   ]
  },
  {
   "cell_type": "code",
   "execution_count": 8,
   "id": "a17b927c",
   "metadata": {},
   "outputs": [],
   "source": [
    "# Création de la liste\n",
    "chiffre_affaires = [3000, 5000, 4000, 8000, 10000]\n"
   ]
  },
  {
   "cell_type": "code",
   "execution_count": 10,
   "id": "1d3df4f7",
   "metadata": {},
   "outputs": [
    {
     "name": "stdout",
     "output_type": "stream",
     "text": [
      "{'min': 3000, 'max': 10000, 'somme': 30000, 'moyenne': 6000.0}\n"
     ]
    }
   ],
   "source": [
    "# Application de la fonction \n",
    "statdescca = desc.statdescriptive(chiffre_affaires)\n",
    "print(statdescca)"
   ]
  },
  {
   "cell_type": "code",
   "execution_count": 12,
   "id": "0738979e",
   "metadata": {},
   "outputs": [
    {
     "data": {
      "text/plain": [
       "30000"
      ]
     },
     "execution_count": 12,
     "metadata": {},
     "output_type": "execute_result"
    }
   ],
   "source": [
    "# somme du chiffre d'affaire\n",
    "somme_ca = desc.somme_element(chiffre_affaires)\n",
    "somme_ca"
   ]
  },
  {
   "cell_type": "code",
   "execution_count": 16,
   "id": "dbd38fdd",
   "metadata": {},
   "outputs": [],
   "source": [
    "# Importer une partie\n",
    "from description import statdescriptive, somme_element"
   ]
  },
  {
   "cell_type": "code",
   "execution_count": 14,
   "id": "965fc014",
   "metadata": {},
   "outputs": [
    {
     "data": {
      "text/plain": [
       "{'min': 3000, 'max': 10000, 'somme': 30000, 'moyenne': 6000.0}"
      ]
     },
     "execution_count": 14,
     "metadata": {},
     "output_type": "execute_result"
    }
   ],
   "source": [
    "statdescriptive(chiffre_affaires)"
   ]
  },
  {
   "cell_type": "code",
   "execution_count": 17,
   "id": "2797baf7",
   "metadata": {},
   "outputs": [
    {
     "data": {
      "text/plain": [
       "30000"
      ]
     },
     "execution_count": 17,
     "metadata": {},
     "output_type": "execute_result"
    }
   ],
   "source": [
    "somme_element(chiffre_affaires)"
   ]
  },
  {
   "cell_type": "code",
   "execution_count": null,
   "id": "912adb8c",
   "metadata": {},
   "outputs": [],
   "source": [
    "### Modules externes"
   ]
  },
  {
   "cell_type": "code",
   "execution_count": null,
   "id": "f18a1799",
   "metadata": {},
   "outputs": [],
   "source": []
  },
  {
   "cell_type": "markdown",
   "id": "6f3e1ce2",
   "metadata": {},
   "source": [
    "## Les modules externes"
   ]
  },
  {
   "cell_type": "markdown",
   "id": "040f3d68",
   "metadata": {},
   "source": [
    "Exemple de structure ici: [https://docs.python.org/fr/3/tutorial/modules.html#](https://docs.python.org/fr/3/tutorial/modules.html#)"
   ]
  },
  {
   "cell_type": "markdown",
   "id": "fe6ad342",
   "metadata": {},
   "source": [
    "Ensemble des modules [https://docs.python.org/3/py-modindex.html](https://docs.python.org/3/py-modindex.html)"
   ]
  },
  {
   "cell_type": "markdown",
   "id": "fa556db9",
   "metadata": {},
   "source": [
    "**Quelques modules utiles en data science**\n",
    "\n",
    "\n",
    "- **math**: Pour les fonctions mathématiques de base.\n",
    "- **statistics** Pour faire des statistiques\n",
    "- **os**: Pour interagir avec le système d'exploitation, comme la gestion des chemins de fichiers et les commandes du système d'exploitation.\n",
    "- **sys**: Fournit un accès à certaines variables et fonctions qui interagissent fortement avec l'interpréteur Python.\n",
    "- **json**: Pour la lecture et l'écriture de données au format JSON.\n",
    "- **csv**: Pour lire et écrire des fichiers CSV.\n",
    "- **datetime**: Pour manipuler les dates et les heures.\n",
    "- **random**: Pour la génération de nombres aléatoires.\n",
    "- **re**: Pour les expressions régulières, utiles dans le traitement de texte et le nettoyage des données.\n",
    "- **sqlite3**: Pour la gestion de bases de données SQL légères.\n",
    "- **pickle**: Pour la sérialisation et la désérialisation de structures de données Python.\n"
   ]
  },
  {
   "cell_type": "code",
   "execution_count": null,
   "id": "7965a6b0",
   "metadata": {},
   "outputs": [],
   "source": [
    "# Exemple utilisation de math"
   ]
  },
  {
   "cell_type": "code",
   "execution_count": 22,
   "id": "9813cafd",
   "metadata": {},
   "outputs": [],
   "source": [
    "import math"
   ]
  },
  {
   "cell_type": "code",
   "execution_count": 27,
   "id": "fa8c517b",
   "metadata": {},
   "outputs": [
    {
     "name": "stdout",
     "output_type": "stream",
     "text": [
      "racine carré  2.0\n",
      "cosinus:  -0.4480736161291702\n",
      "sinus:  0.8939966636005579\n",
      "exponentiel 1.2204032943178408e+39\n"
     ]
    }
   ],
   "source": [
    "print(\"racine carré \", math.sqrt(4))\n",
    "print(\"cosinus: \", math.cos(90))\n",
    "print(\"sinus: \", math.sin(90))\n",
    "print(\"exponentiel\", math.exp(90))"
   ]
  },
  {
   "cell_type": "code",
   "execution_count": 29,
   "id": "f704c860",
   "metadata": {},
   "outputs": [],
   "source": [
    "#Exemple d'utilisation des modules statistiques\n",
    "import statistics as st"
   ]
  },
  {
   "cell_type": "code",
   "execution_count": 34,
   "id": "d23975dd",
   "metadata": {},
   "outputs": [
    {
     "data": {
      "text/plain": [
       "30"
      ]
     },
     "execution_count": 34,
     "metadata": {},
     "output_type": "execute_result"
    }
   ],
   "source": [
    "st.mean([30,50,60])\n",
    "st.mode([30,50,60])"
   ]
  },
  {
   "cell_type": "code",
   "execution_count": 35,
   "id": "0ec996e8",
   "metadata": {},
   "outputs": [],
   "source": [
    "# Exemple d'utilisation de random (choice, seed,sample,randint,shuffle)\n",
    "import random"
   ]
  },
  {
   "cell_type": "code",
   "execution_count": null,
   "id": "b8d73eda",
   "metadata": {},
   "outputs": [],
   "source": []
  },
  {
   "cell_type": "code",
   "execution_count": 44,
   "id": "b58ec669",
   "metadata": {},
   "outputs": [
    {
     "data": {
      "text/plain": [
       "'Tsunami'"
      ]
     },
     "execution_count": 44,
     "metadata": {},
     "output_type": "execute_result"
    }
   ],
   "source": [
    "# Choisir une élément aléatoire dans une liste (liste de nom)\n",
    "liste_nom = [\"Rodrigue\", \"Tsunami\", \"Maman\", \"Armand\"]\n",
    "random.choice(liste_nom)"
   ]
  },
  {
   "cell_type": "code",
   "execution_count": 52,
   "id": "d4b163ae",
   "metadata": {},
   "outputs": [
    {
     "data": {
      "text/plain": [
       "'Tsunami'"
      ]
     },
     "execution_count": 52,
     "metadata": {},
     "output_type": "execute_result"
    }
   ],
   "source": [
    "# Fixer la graine (seed)\n",
    "random.seed(29393)\n",
    "# Choisir une élément aléatoire dans une liste (liste de nom)\n",
    "liste_nom = [\"Rodrigue\", \"Tsunami\", \"Maman\", \"Armand\"]\n",
    "random.choice(liste_nom)"
   ]
  },
  {
   "cell_type": "code",
   "execution_count": 56,
   "id": "6fc898f1",
   "metadata": {},
   "outputs": [
    {
     "data": {
      "text/plain": [
       "['Armand', 'Tsunami']"
      ]
     },
     "execution_count": 56,
     "metadata": {},
     "output_type": "execute_result"
    }
   ],
   "source": [
    "random.sample(liste_nom, 2)"
   ]
  },
  {
   "cell_type": "code",
   "execution_count": 61,
   "id": "8cfc9be0",
   "metadata": {},
   "outputs": [
    {
     "data": {
      "text/plain": [
       "0.5872614786638335"
      ]
     },
     "execution_count": 61,
     "metadata": {},
     "output_type": "execute_result"
    }
   ],
   "source": [
    "# Aléatoire float (random.random)\n",
    "random.random()"
   ]
  },
  {
   "cell_type": "code",
   "execution_count": 65,
   "id": "eada464a",
   "metadata": {},
   "outputs": [
    {
     "data": {
      "text/plain": [
       "80"
      ]
     },
     "execution_count": 65,
     "metadata": {},
     "output_type": "execute_result"
    }
   ],
   "source": [
    "# Aléatoire integer \n",
    "random.randint(1,100)"
   ]
  },
  {
   "cell_type": "code",
   "execution_count": null,
   "id": "42ec39d2",
   "metadata": {},
   "outputs": [],
   "source": [
    "# Choisir un nombre d'élément à partir d'une liste et choisir un nombre précis"
   ]
  },
  {
   "cell_type": "code",
   "execution_count": 78,
   "id": "c6d21541",
   "metadata": {},
   "outputs": [
    {
     "data": {
      "text/plain": [
       "['Maman', 'Tsunami', 'Rodrigue', 'Armand']"
      ]
     },
     "execution_count": 78,
     "metadata": {},
     "output_type": "execute_result"
    }
   ],
   "source": [
    "# Mélanger aléatoirement des données dans une liste (shuffle)\n",
    "random.shuffle(liste_nom)\n",
    "liste_nom"
   ]
  },
  {
   "cell_type": "code",
   "execution_count": null,
   "id": "0d543a3d",
   "metadata": {},
   "outputs": [],
   "source": []
  },
  {
   "cell_type": "markdown",
   "id": "d0677917",
   "metadata": {},
   "source": [
    "## Les packages en python"
   ]
  },
  {
   "cell_type": "markdown",
   "id": "dec86b5e",
   "metadata": {},
   "source": [
    "Lien pour en sarvoir plus [https://packaging.python.org/en/latest/tutorials/packaging-projects/](https://packaging.python.org/en/latest/tutorials/packaging-projects/)"
   ]
  },
  {
   "cell_type": "markdown",
   "id": "b3a92317",
   "metadata": {},
   "source": [
    "## utilisation de mon package"
   ]
  },
  {
   "cell_type": "code",
   "execution_count": 80,
   "id": "94dda4e6",
   "metadata": {},
   "outputs": [],
   "source": [
    "import monpackage.module as md"
   ]
  },
  {
   "cell_type": "code",
   "execution_count": 81,
   "id": "24a93331",
   "metadata": {},
   "outputs": [],
   "source": [
    "from monpackage import module\n"
   ]
  },
  {
   "cell_type": "code",
   "execution_count": 84,
   "id": "3e398c77",
   "metadata": {},
   "outputs": [
    {
     "name": "stdout",
     "output_type": "stream",
     "text": [
      "Package                       Version\r\n",
      "----------------------------- ------------\r\n",
      "aiobotocore                   2.5.0\r\n",
      "aiofiles                      22.1.0\r\n",
      "aiohttp                       3.8.5\r\n",
      "aioitertools                  0.7.1\r\n",
      "aiosignal                     1.2.0\r\n",
      "aiosqlite                     0.18.0\r\n",
      "alabaster                     0.7.12\r\n",
      "anaconda-anon-usage           0.4.2\r\n",
      "anaconda-catalogs             0.2.0\r\n",
      "anaconda-client               1.12.1\r\n",
      "anaconda-cloud-auth           0.1.3\r\n",
      "anaconda-navigator            2.5.0\r\n",
      "anaconda-project              0.11.1\r\n",
      "anyio                         3.5.0\r\n",
      "appdirs                       1.4.4\r\n",
      "applaunchservices             0.3.0\r\n",
      "appnope                       0.1.2\r\n",
      "appscript                     1.1.2\r\n",
      "argon2-cffi                   21.3.0\r\n",
      "argon2-cffi-bindings          21.2.0\r\n",
      "arrow                         1.2.3\r\n",
      "astroid                       2.14.2\r\n",
      "astropy                       5.1\r\n",
      "asttokens                     2.0.5\r\n",
      "async-timeout                 4.0.2\r\n",
      "atomicwrites                  1.4.0\r\n",
      "attrs                         22.1.0\r\n",
      "Automat                       20.2.0\r\n",
      "autopep8                      1.6.0\r\n",
      "Babel                         2.11.0\r\n",
      "backcall                      0.2.0\r\n",
      "backports.functools-lru-cache 1.6.4\r\n",
      "backports.tempfile            1.0\r\n",
      "backports.weakref             1.0.post1\r\n",
      "bcrypt                        3.2.0\r\n",
      "beautifulsoup4                4.12.2\r\n",
      "binaryornot                   0.4.4\r\n",
      "black                         0.0\r\n",
      "bleach                        4.1.0\r\n",
      "bokeh                         3.2.1\r\n",
      "boltons                       23.0.0\r\n",
      "botocore                      1.29.76\r\n",
      "Bottleneck                    1.3.5\r\n",
      "brotlipy                      0.7.0\r\n",
      "certifi                       2023.7.22\r\n",
      "cffi                          1.15.1\r\n",
      "chardet                       4.0.0\r\n",
      "charset-normalizer            2.0.4\r\n",
      "click                         8.0.4\r\n",
      "cloudpickle                   2.2.1\r\n",
      "clyent                        1.2.2\r\n",
      "colorama                      0.4.6\r\n",
      "colorcet                      3.0.1\r\n",
      "comm                          0.1.2\r\n",
      "conda                         23.7.4\r\n",
      "conda-build                   3.26.1\r\n",
      "conda-content-trust           0.2.0\r\n",
      "conda_index                   0.3.0\r\n",
      "conda-libmamba-solver         23.7.0\r\n",
      "conda-pack                    0.6.0\r\n",
      "conda-package-handling        2.2.0\r\n",
      "conda_package_streaming       0.9.0\r\n",
      "conda-repo-cli                1.0.75\r\n",
      "conda-token                   0.4.0\r\n",
      "conda-verify                  3.4.2\r\n",
      "constantly                    15.1.0\r\n",
      "contourpy                     1.0.5\r\n",
      "cookiecutter                  1.7.3\r\n",
      "cryptography                  41.0.3\r\n",
      "cssselect                     1.1.0\r\n",
      "cycler                        0.11.0\r\n",
      "cytoolz                       0.12.0\r\n",
      "dask                          2023.6.0\r\n",
      "datasets                      2.12.0\r\n",
      "datashader                    0.15.2\r\n",
      "datashape                     0.5.4\r\n",
      "debugpy                       1.6.7\r\n",
      "decorator                     5.1.1\r\n",
      "defusedxml                    0.7.1\r\n",
      "diff-match-patch              20200713\r\n",
      "dill                          0.3.6\r\n",
      "distributed                   2023.6.0\r\n",
      "docstring-to-markdown         0.11\r\n",
      "docutils                      0.18.1\r\n",
      "entrypoints                   0.4\r\n",
      "et-xmlfile                    1.1.0\r\n",
      "executing                     0.8.3\r\n",
      "fastjsonschema                2.16.2\r\n",
      "filelock                      3.9.0\r\n",
      "flake8                        6.0.0\r\n",
      "Flask                         2.2.2\r\n",
      "fonttools                     4.25.0\r\n",
      "frozenlist                    1.3.3\r\n",
      "fsspec                        2023.4.0\r\n",
      "future                        0.18.3\r\n",
      "gensim                        4.3.0\r\n",
      "glob2                         0.7\r\n",
      "gmpy2                         2.1.2\r\n",
      "greenlet                      2.0.1\r\n",
      "h5py                          3.9.0\r\n",
      "HeapDict                      1.0.1\r\n",
      "holoviews                     1.17.1\r\n",
      "huggingface-hub               0.15.1\r\n",
      "hvplot                        0.8.4\r\n",
      "hyperlink                     21.0.0\r\n",
      "idna                          3.4\r\n",
      "imagecodecs                   2023.1.23\r\n",
      "imageio                       2.31.1\r\n",
      "imagesize                     1.4.1\r\n",
      "imbalanced-learn              0.10.1\r\n",
      "importlib-metadata            6.0.0\r\n",
      "incremental                   21.3.0\r\n",
      "inflection                    0.5.1\r\n",
      "iniconfig                     1.1.1\r\n",
      "intake                        0.6.8\r\n",
      "intervaltree                  3.1.0\r\n",
      "ipykernel                     6.25.0\r\n",
      "ipython                       8.15.0\r\n",
      "ipython-genutils              0.2.0\r\n",
      "ipywidgets                    8.0.4\r\n",
      "isort                         5.9.3\r\n",
      "itemadapter                   0.3.0\r\n",
      "itemloaders                   1.0.4\r\n",
      "itsdangerous                  2.0.1\r\n",
      "jaraco.classes                3.2.1\r\n",
      "jedi                          0.18.1\r\n",
      "jellyfish                     1.0.1\r\n",
      "Jinja2                        3.1.2\r\n",
      "jinja2-time                   0.2.0\r\n",
      "jmespath                      0.10.0\r\n",
      "joblib                        1.2.0\r\n",
      "json5                         0.9.6\r\n",
      "jsonpatch                     1.32\r\n",
      "jsonpointer                   2.1\r\n",
      "jsonschema                    4.17.3\r\n",
      "jupyter                       1.0.0\r\n",
      "jupyter_client                7.4.9\r\n",
      "jupyter-console               6.6.3\r\n",
      "jupyter_core                  5.3.0\r\n",
      "jupyter-events                0.6.3\r\n",
      "jupyter-server                1.23.4\r\n",
      "jupyter_server_fileid         0.9.0\r\n",
      "jupyter_server_ydoc           0.8.0\r\n",
      "jupyter-ydoc                  0.2.4\r\n",
      "jupyterlab                    3.6.3\r\n",
      "jupyterlab-pygments           0.1.2\r\n",
      "jupyterlab_server             2.22.0\r\n",
      "jupyterlab-widgets            3.0.5\r\n",
      "kaleido                       0.2.1\r\n",
      "keyring                       23.13.1\r\n",
      "kiwisolver                    1.4.4\r\n",
      "lazy_loader                   0.2\r\n",
      "lazy-object-proxy             1.6.0\r\n",
      "libarchive-c                  2.9\r\n",
      "libmambapy                    1.5.1\r\n",
      "linkify-it-py                 2.0.0\r\n",
      "llvmlite                      0.40.0\r\n",
      "lmdb                          1.4.1\r\n",
      "locket                        1.0.0\r\n",
      "lxml                          4.9.3\r\n",
      "lz4                           4.3.2\r\n",
      "Markdown                      3.4.1\r\n",
      "markdown-it-py                2.2.0\r\n",
      "MarkupSafe                    2.1.1\r\n",
      "matplotlib                    3.7.2\r\n",
      "matplotlib-inline             0.1.6\r\n",
      "mccabe                        0.7.0\r\n",
      "mdit-py-plugins               0.3.0\r\n",
      "mdurl                         0.1.0\r\n",
      "mistune                       0.8.4\r\n",
      "more-itertools                8.12.0\r\n",
      "mpmath                        1.3.0\r\n",
      "msgpack                       1.0.3\r\n",
      "multidict                     6.0.2\r\n",
      "multipledispatch              0.6.0\r\n",
      "multiprocess                  0.70.14\r\n",
      "munkres                       1.1.4\r\n",
      "mypy-extensions               1.0.0\r\n",
      "navigator-updater             0.4.0\r\n",
      "nbclassic                     0.5.5\r\n",
      "nbclient                      0.5.13\r\n",
      "nbconvert                     6.5.4\r\n",
      "nbformat                      5.9.2\r\n",
      "nest-asyncio                  1.5.6\r\n",
      "networkx                      3.1\r\n",
      "nltk                          3.8.1\r\n",
      "notebook                      6.5.4\r\n",
      "notebook_shim                 0.2.2\r\n",
      "numba                         0.57.1\r\n",
      "numexpr                       2.8.4\r\n",
      "numpy                         1.24.3\r\n",
      "numpydoc                      1.5.0\r\n",
      "openpyxl                      3.0.10\r\n",
      "packaging                     23.1\r\n",
      "pandas                        2.0.3\r\n",
      "pandocfilters                 1.5.0\r\n",
      "panel                         1.2.3\r\n",
      "param                         1.13.0\r\n",
      "parsel                        1.6.0\r\n",
      "parso                         0.8.3\r\n",
      "partd                         1.4.0\r\n",
      "pathlib                       1.0.1\r\n",
      "pathspec                      0.10.3\r\n",
      "patsy                         0.5.3\r\n",
      "pep8                          1.7.1\r\n",
      "pexpect                       4.8.0\r\n",
      "pickleshare                   0.7.5\r\n",
      "Pillow                        9.4.0\r\n",
      "pip                           23.2.1\r\n",
      "pkce                          1.0.3\r\n",
      "pkginfo                       1.9.6\r\n",
      "platformdirs                  3.10.0\r\n",
      "plotly                        5.9.0\r\n",
      "pluggy                        1.0.0\r\n",
      "ply                           3.11\r\n",
      "poyo                          0.5.0\r\n",
      "prometheus-client             0.14.1\r\n",
      "prompt-toolkit                3.0.36\r\n",
      "Protego                       0.1.16\r\n",
      "psutil                        5.9.0\r\n",
      "ptyprocess                    0.7.0\r\n",
      "pure-eval                     0.2.2\r\n",
      "py-cpuinfo                    8.0.0\r\n",
      "pyarrow                       11.0.0\r\n",
      "pyasn1                        0.4.8\r\n",
      "pyasn1-modules                0.2.8\r\n",
      "pycodestyle                   2.10.0\r\n",
      "pycosat                       0.6.4\r\n",
      "pycparser                     2.21\r\n",
      "pyct                          0.5.0\r\n",
      "pycurl                        7.45.2\r\n",
      "pydantic                      1.10.8\r\n",
      "PyDispatcher                  2.0.5\r\n",
      "pydocstyle                    6.3.0\r\n",
      "pyerfa                        2.0.0\r\n",
      "pyflakes                      3.0.1\r\n",
      "Pygments                      2.15.1\r\n",
      "PyJWT                         2.4.0\r\n",
      "pylint                        2.16.2\r\n",
      "pylint-venv                   2.3.0\r\n",
      "pyls-spyder                   0.4.0\r\n",
      "pyobjc-core                   9.0\r\n",
      "pyobjc-framework-Cocoa        9.0\r\n",
      "pyobjc-framework-CoreServices 9.0\r\n",
      "pyobjc-framework-FSEvents     9.0\r\n",
      "pyodbc                        4.0.34\r\n",
      "pyOpenSSL                     23.2.0\r\n",
      "pyparsing                     3.0.9\r\n",
      "PyQt5-sip                     12.11.0\r\n",
      "pyrsistent                    0.18.0\r\n",
      "PySocks                       1.7.1\r\n",
      "pytest                        7.4.0\r\n",
      "python-dateutil               2.8.2\r\n",
      "python-dotenv                 0.21.0\r\n",
      "python-json-logger            2.0.7\r\n",
      "python-lsp-black              1.2.1\r\n",
      "python-lsp-jsonrpc            1.0.0\r\n",
      "python-lsp-server             1.7.2\r\n",
      "python-slugify                5.0.2\r\n",
      "python-snappy                 0.6.1\r\n",
      "pytoolconfig                  1.2.5\r\n",
      "pytz                          2023.3.post1\r\n",
      "pyviz-comms                   2.3.0\r\n",
      "PyWavelets                    1.4.1\r\n",
      "PyYAML                        6.0\r\n",
      "pyzmq                         23.2.0\r\n",
      "QDarkStyle                    3.0.2\r\n",
      "qstylizer                     0.2.2\r\n",
      "QtAwesome                     1.2.2\r\n",
      "qtconsole                     5.4.2\r\n",
      "QtPy                          2.2.0\r\n",
      "queuelib                      1.5.0\r\n",
      "regex                         2022.7.9\r\n",
      "requests                      2.31.0\r\n",
      "requests-file                 1.5.1\r\n",
      "requests-toolbelt             1.0.0\r\n",
      "responses                     0.13.3\r\n",
      "rfc3339-validator             0.1.4\r\n",
      "rfc3986-validator             0.1.1\r\n",
      "rope                          1.7.0\r\n",
      "Rtree                         1.0.1\r\n",
      "ruamel.yaml                   0.17.21\r\n",
      "ruamel-yaml-conda             0.17.21\r\n",
      "s3fs                          2023.4.0\r\n",
      "safetensors                   0.3.2\r\n",
      "scikit-image                  0.20.0\r\n",
      "scikit-learn                  1.3.0\r\n",
      "scipy                         1.11.1\r\n",
      "Scrapy                        2.8.0\r\n",
      "seaborn                       0.12.2\r\n",
      "Send2Trash                    1.8.0\r\n",
      "service-identity              18.1.0\r\n",
      "setuptools                    68.0.0\r\n",
      "sip                           6.6.2\r\n",
      "six                           1.16.0\r\n",
      "smart-open                    5.2.1\r\n",
      "sniffio                       1.2.0\r\n",
      "snowballstemmer               2.2.0\r\n",
      "sortedcontainers              2.4.0\r\n",
      "soupsieve                     2.4\r\n",
      "Sphinx                        5.0.2\r\n",
      "sphinxcontrib-applehelp       1.0.2\r\n",
      "sphinxcontrib-devhelp         1.0.2\r\n",
      "sphinxcontrib-htmlhelp        2.0.0\r\n",
      "sphinxcontrib-jsmath          1.0.1\r\n",
      "sphinxcontrib-qthelp          1.0.3\r\n",
      "sphinxcontrib-serializinghtml 1.1.5\r\n",
      "spyder                        5.4.3\r\n",
      "spyder-kernels                2.4.4\r\n",
      "SQLAlchemy                    1.4.39\r\n",
      "stack-data                    0.2.0\r\n",
      "statsmodels                   0.14.0\r\n",
      "sympy                         1.11.1\r\n",
      "tables                        3.8.0\r\n",
      "tabulate                      0.8.10\r\n",
      "tblib                         1.7.0\r\n",
      "tenacity                      8.2.2\r\n",
      "terminado                     0.17.1\r\n",
      "text-unidecode                1.3\r\n",
      "textdistance                  4.2.1\r\n",
      "threadpoolctl                 2.2.0\r\n",
      "three-merge                   0.1.1\r\n",
      "tifffile                      2023.4.12\r\n",
      "tinycss2                      1.2.1\r\n",
      "tldextract                    3.2.0\r\n",
      "tokenizers                    0.13.2\r\n",
      "toml                          0.10.2\r\n",
      "tomlkit                       0.11.1\r\n",
      "toolz                         0.12.0\r\n",
      "tornado                       6.3.2\r\n",
      "tqdm                          4.65.0\r\n",
      "traitlets                     5.7.1\r\n",
      "transformers                  4.32.1\r\n",
      "Twisted                       22.10.0\r\n",
      "typing_extensions             4.7.1\r\n",
      "tzdata                        2023.3\r\n",
      "uc-micro-py                   1.0.1\r\n",
      "ujson                         5.4.0\r\n",
      "Unidecode                     1.2.0\r\n",
      "urllib3                       1.26.16\r\n",
      "w3lib                         1.21.0\r\n",
      "watchdog                      2.1.6\r\n",
      "wcwidth                       0.2.5\r\n",
      "webencodings                  0.5.1\r\n",
      "websocket-client              0.58.0\r\n",
      "Werkzeug                      2.2.3\r\n",
      "whatthepatch                  1.0.2\r\n",
      "wheel                         0.38.4\r\n",
      "widgetsnbextension            4.0.5\r\n",
      "wrapt                         1.14.1\r\n",
      "wurlitzer                     3.0.2\r\n",
      "xarray                        2023.6.0\r\n",
      "xlwings                       0.29.1\r\n",
      "xxhash                        2.0.2\r\n",
      "xyzservices                   2022.9.0\r\n",
      "y-py                          0.5.9\r\n",
      "yapf                          0.31.0\r\n",
      "yarl                          1.8.1\r\n",
      "ypy-websocket                 0.8.2\r\n",
      "zict                          2.2.0\r\n",
      "zipp                          3.11.0\r\n",
      "zope.interface                5.4.0\r\n",
      "zstandard                     0.19.0\r\n",
      "\u001b[33mWARNING: There was an error checking the latest version of pip.\u001b[0m\u001b[33m\r\n",
      "\u001b[0m"
     ]
    }
   ],
   "source": [
    "# liste des packages disponibles\n",
    "!pip list"
   ]
  },
  {
   "cell_type": "markdown",
   "id": "dcf9f047",
   "metadata": {},
   "source": [
    "Trouver les packages disponibles ici: [https://pypi.org/](https://pypi.org/)"
   ]
  },
  {
   "cell_type": "code",
   "execution_count": 90,
   "id": "f24ad4b7",
   "metadata": {},
   "outputs": [
    {
     "name": "stdout",
     "output_type": "stream",
     "text": [
      "Requirement already satisfied: numpy in /Users/natachanjongwayepnga/anaconda3/lib/python3.11/site-packages (1.24.3)\n",
      "\u001b[33mWARNING: There was an error checking the latest version of pip.\u001b[0m\u001b[33m\n",
      "\u001b[0m"
     ]
    }
   ],
   "source": [
    "# Installer un package\n",
    "!≠"
   ]
  },
  {
   "cell_type": "code",
   "execution_count": 89,
   "id": "d1661126",
   "metadata": {},
   "outputs": [],
   "source": [
    "# importer un package\n",
    "import numpy as np \n"
   ]
  },
  {
   "cell_type": "code",
   "execution_count": 94,
   "id": "6a27b298",
   "metadata": {},
   "outputs": [],
   "source": [
    "#from monpackage import description.statdescriptive\n",
    "\n",
    "from monpackage.description import statdescriptive"
   ]
  },
  {
   "cell_type": "markdown",
   "id": "9d9f1442",
   "metadata": {},
   "source": [
    "# QCM\n",
    "\n",
    "## Question 1\n",
    "**Quelle est la principale différence entre un module et un package en Python ?**\n",
    "- **A.** Un module est une collection de fonctions, tandis qu'un package est une collection de modules.\n",
    "- **B.** Un module est un fichier contenant du code Python, tandis qu'un package est un dossier contenant un ou plusieurs modules.\n",
    "- **C.** Un module ne peut pas être importé, tandis qu'un package peut être importé dans d'autres scripts Python.\n",
    "- **D.** Il n'y a pas de différence; les termes module et package sont interchangeables en Python.\n",
    "\n",
    "## Question 2\n",
    "**Considérons le package `mypackage` contenant deux modules : `module1` et `module2`. Comment importeriez-vous une fonction nommée `myfunction` du `module1` ?**\n",
    "- **A.** `import mypackage.module1.myfunction`\n",
    "- **B.** `from mypackage import module1.myfunction`\n",
    "- **C.** `from mypackage.module1 import myfunction`\n",
    "- **D.** `import myfunction from mypackage.module1`\n"
   ]
  },
  {
   "cell_type": "markdown",
   "id": "c1aa7083",
   "metadata": {},
   "source": [
    "# Travailler avec les fichiers"
   ]
  },
  {
   "cell_type": "markdown",
   "id": "19c8d387",
   "metadata": {},
   "source": [
    "[https://docs.python.org/fr/3/library/functions.html#open](https://docs.python.org/fr/3/library/functions.html#open)"
   ]
  },
  {
   "cell_type": "markdown",
   "id": "f8114324",
   "metadata": {},
   "source": [
    "## Open"
   ]
  },
  {
   "cell_type": "code",
   "execution_count": null,
   "id": "d9649d9e",
   "metadata": {},
   "outputs": [],
   "source": [
    "# Ecrire dans le fichier et créer le fichier (première approche)"
   ]
  },
  {
   "cell_type": "code",
   "execution_count": 95,
   "id": "0530fa0c",
   "metadata": {},
   "outputs": [],
   "source": [
    "f = open(\"resultat.txt\", \"w\")\n",
    "f.write(\"Bonjour\")\n",
    "f.close()"
   ]
  },
  {
   "cell_type": "code",
   "execution_count": 96,
   "id": "f8e05559",
   "metadata": {},
   "outputs": [
    {
     "data": {
      "text/plain": [
       "'Bonjour'"
      ]
     },
     "execution_count": 96,
     "metadata": {},
     "output_type": "execute_result"
    }
   ],
   "source": [
    "f = open(\"resultat.txt\", \"r\")\n",
    "f.read()\n"
   ]
  },
  {
   "cell_type": "code",
   "execution_count": null,
   "id": "503ee8da",
   "metadata": {},
   "outputs": [],
   "source": [
    "f.close()"
   ]
  },
  {
   "cell_type": "code",
   "execution_count": null,
   "id": "27bbe15c",
   "metadata": {},
   "outputs": [],
   "source": [
    "# Lecture première approche\n",
    "\n",
    "\n"
   ]
  },
  {
   "cell_type": "code",
   "execution_count": null,
   "id": "2c95b6b9",
   "metadata": {},
   "outputs": [],
   "source": []
  },
  {
   "cell_type": "code",
   "execution_count": 98,
   "id": "d82df848",
   "metadata": {},
   "outputs": [],
   "source": [
    "# Ecriture deuxième approche (with)\n",
    "with open(\"resultatbisv2.txt\", \"w\") as f:\n",
    "    for i in range(0,10):\n",
    "        f.write(f\"La valeur est {i}\\n\")\n"
   ]
  },
  {
   "cell_type": "code",
   "execution_count": 99,
   "id": "1c2f3ae7",
   "metadata": {},
   "outputs": [
    {
     "data": {
      "text/plain": [
       "['La valeur est 0\\n',\n",
       " 'La valeur est 1\\n',\n",
       " 'La valeur est 2\\n',\n",
       " 'La valeur est 3\\n',\n",
       " 'La valeur est 4\\n',\n",
       " 'La valeur est 5\\n',\n",
       " 'La valeur est 6\\n',\n",
       " 'La valeur est 7\\n',\n",
       " 'La valeur est 8\\n',\n",
       " 'La valeur est 9\\n']"
      ]
     },
     "execution_count": 99,
     "metadata": {},
     "output_type": "execute_result"
    }
   ],
   "source": [
    "# Lecture deuxième approche (readlines et read().splitlines())\n",
    "with open(\"resultatbisv2.txt\", \"r\") as f:\n",
    "    resultat = f.readlines()\n",
    "resultat"
   ]
  },
  {
   "cell_type": "code",
   "execution_count": null,
   "id": "22e618b4",
   "metadata": {},
   "outputs": [],
   "source": [
    "# Importer avec la technique des listes en compréhension"
   ]
  },
  {
   "cell_type": "markdown",
   "id": "b17a7325",
   "metadata": {},
   "source": [
    "# Bien démarrer avec Numpy"
   ]
  },
  {
   "cell_type": "markdown",
   "id": "83ccfbab",
   "metadata": {},
   "source": [
    "## Bien démarrer avec une dimensions (Create)"
   ]
  },
  {
   "cell_type": "code",
   "execution_count": null,
   "id": "5b640cb0",
   "metadata": {},
   "outputs": [],
   "source": [
    "# shape"
   ]
  },
  {
   "cell_type": "code",
   "execution_count": 100,
   "id": "ba934868",
   "metadata": {},
   "outputs": [],
   "source": [
    "# importation \n",
    "import numpy as np\n"
   ]
  },
  {
   "cell_type": "code",
   "execution_count": 101,
   "id": "b9e2bdde",
   "metadata": {},
   "outputs": [
    {
     "data": {
      "text/plain": [
       "array([33,  4,  4,  5,  6,  4])"
      ]
     },
     "execution_count": 101,
     "metadata": {},
     "output_type": "execute_result"
    }
   ],
   "source": [
    "# Création d'un nd array à une dimension à partir d'une liste\n",
    "tableau_dim1 = np.array([33,4,4,5,6,4])\n",
    "tableau_dim1"
   ]
  },
  {
   "cell_type": "code",
   "execution_count": 110,
   "id": "6d4d0e4a",
   "metadata": {},
   "outputs": [
    {
     "data": {
      "text/plain": [
       "(3, 6)"
      ]
     },
     "execution_count": 110,
     "metadata": {},
     "output_type": "execute_result"
    }
   ],
   "source": [
    "tableau_dim1 = np.array([[33,4,4,5,6,4],[33,4,4,5,6,4],[33,4,4,5,6,4]])\n",
    "tableau_dim1.shape"
   ]
  },
  {
   "cell_type": "code",
   "execution_count": 105,
   "id": "bdfff947",
   "metadata": {},
   "outputs": [
    {
     "data": {
      "text/plain": [
       "tuple"
      ]
     },
     "execution_count": 105,
     "metadata": {},
     "output_type": "execute_result"
    }
   ],
   "source": [
    "tableau_dim1.shape"
   ]
  },
  {
   "cell_type": "code",
   "execution_count": 103,
   "id": "379c4d87",
   "metadata": {},
   "outputs": [
    {
     "data": {
      "text/plain": [
       "6"
      ]
     },
     "execution_count": 103,
     "metadata": {},
     "output_type": "execute_result"
    }
   ],
   "source": [
    "tableau_dim1.size"
   ]
  },
  {
   "cell_type": "code",
   "execution_count": null,
   "id": "9451e0e5",
   "metadata": {},
   "outputs": [],
   "source": [
    "# shape de l'objet\n"
   ]
  },
  {
   "cell_type": "code",
   "execution_count": null,
   "id": "3bf32e02",
   "metadata": {},
   "outputs": [],
   "source": [
    "#Nombre d'élément dans le tableau size de l'objet\n"
   ]
  },
  {
   "cell_type": "code",
   "execution_count": null,
   "id": "ba577507",
   "metadata": {},
   "outputs": [],
   "source": [
    "# Attributs importants: shape et size"
   ]
  },
  {
   "cell_type": "markdown",
   "id": "f5299ec5",
   "metadata": {},
   "source": [
    "## Créer un numpy array à partir des fonctions intégrées"
   ]
  },
  {
   "cell_type": "code",
   "execution_count": 112,
   "id": "2a340366",
   "metadata": {},
   "outputs": [
    {
     "data": {
      "text/plain": [
       "array([[0., 0.],\n",
       "       [0., 0.]])"
      ]
     },
     "execution_count": 112,
     "metadata": {},
     "output_type": "execute_result"
    }
   ],
   "source": [
    "# Tableau avec des zéros (np.zeros)\n",
    "np.zeros??\n",
    "tableau_zero = np.zeros((2,2))\n",
    "tableau_zero"
   ]
  },
  {
   "cell_type": "code",
   "execution_count": 113,
   "id": "6725a08f",
   "metadata": {},
   "outputs": [
    {
     "data": {
      "text/plain": [
       "array([[1., 1.],\n",
       "       [1., 1.]])"
      ]
     },
     "execution_count": 113,
     "metadata": {},
     "output_type": "execute_result"
    }
   ],
   "source": [
    "# Tableau avec des uns (np.ones)\n",
    "tableau_one = np.ones((2,2))\n",
    "tableau_one"
   ]
  },
  {
   "cell_type": "code",
   "execution_count": 115,
   "id": "1c32fc46",
   "metadata": {},
   "outputs": [
    {
     "data": {
      "text/plain": [
       "array([[1., 0., 0.],\n",
       "       [0., 1., 0.],\n",
       "       [0., 0., 1.]])"
      ]
     },
     "execution_count": 115,
     "metadata": {},
     "output_type": "execute_result"
    }
   ],
   "source": [
    "# Créer une matrice identité avec np.eye()\n",
    "tableau_eye = np.eye(3)\n",
    "tableau_eye"
   ]
  },
  {
   "cell_type": "code",
   "execution_count": null,
   "id": "2453a7c5",
   "metadata": {},
   "outputs": [],
   "source": [
    "#Créer un numpy array avec la fonction arange: pour créer des nombre entre le minimum et le maximum avec un pas"
   ]
  },
  {
   "cell_type": "code",
   "execution_count": 117,
   "id": "f0ae86d1",
   "metadata": {},
   "outputs": [
    {
     "data": {
      "text/plain": [
       "array([0, 1, 2, 3, 4, 5, 6, 7, 8, 9])"
      ]
     },
     "execution_count": 117,
     "metadata": {},
     "output_type": "execute_result"
    }
   ],
   "source": [
    "np.arange(0,10,1)"
   ]
  },
  {
   "cell_type": "code",
   "execution_count": 122,
   "id": "ee28efba",
   "metadata": {},
   "outputs": [
    {
     "data": {
      "text/plain": [
       "array([   1.,    2.,    3.,    4.,    5.,    6.,    7.,    8.,    9.,\n",
       "         10.,   11.,   12.,   13.,   14.,   15.,   16.,   17.,   18.,\n",
       "         19.,   20.,   21.,   22.,   23.,   24.,   25.,   26.,   27.,\n",
       "         28.,   29.,   30.,   31.,   32.,   33.,   34.,   35.,   36.,\n",
       "         37.,   38.,   39.,   40.,   41.,   42.,   43.,   44.,   45.,\n",
       "         46.,   47.,   48.,   49.,   50.,   51.,   52.,   53.,   54.,\n",
       "         55.,   56.,   57.,   58.,   59.,   60.,   61.,   62.,   63.,\n",
       "         64.,   65.,   66.,   67.,   68.,   69.,   70.,   71.,   72.,\n",
       "         73.,   74.,   75.,   76.,   77.,   78.,   79.,   80.,   81.,\n",
       "         82.,   83.,   84.,   85.,   86.,   87.,   88.,   89.,   90.,\n",
       "         91.,   92.,   93.,   94.,   95.,   96.,   97.,   98.,   99.,\n",
       "        100.,  101.,  102.,  103.,  104.,  105.,  106.,  107.,  108.,\n",
       "        109.,  110.,  111.,  112.,  113.,  114.,  115.,  116.,  117.,\n",
       "        118.,  119.,  120.,  121.,  122.,  123.,  124.,  125.,  126.,\n",
       "        127.,  128.,  129.,  130.,  131.,  132.,  133.,  134.,  135.,\n",
       "        136.,  137.,  138.,  139.,  140.,  141.,  142.,  143.,  144.,\n",
       "        145.,  146.,  147.,  148.,  149.,  150.,  151.,  152.,  153.,\n",
       "        154.,  155.,  156.,  157.,  158.,  159.,  160.,  161.,  162.,\n",
       "        163.,  164.,  165.,  166.,  167.,  168.,  169.,  170.,  171.,\n",
       "        172.,  173.,  174.,  175.,  176.,  177.,  178.,  179.,  180.,\n",
       "        181.,  182.,  183.,  184.,  185.,  186.,  187.,  188.,  189.,\n",
       "        190.,  191.,  192.,  193.,  194.,  195.,  196.,  197.,  198.,\n",
       "        199.,  200.,  201.,  202.,  203.,  204.,  205.,  206.,  207.,\n",
       "        208.,  209.,  210.,  211.,  212.,  213.,  214.,  215.,  216.,\n",
       "        217.,  218.,  219.,  220.,  221.,  222.,  223.,  224.,  225.,\n",
       "        226.,  227.,  228.,  229.,  230.,  231.,  232.,  233.,  234.,\n",
       "        235.,  236.,  237.,  238.,  239.,  240.,  241.,  242.,  243.,\n",
       "        244.,  245.,  246.,  247.,  248.,  249.,  250.,  251.,  252.,\n",
       "        253.,  254.,  255.,  256.,  257.,  258.,  259.,  260.,  261.,\n",
       "        262.,  263.,  264.,  265.,  266.,  267.,  268.,  269.,  270.,\n",
       "        271.,  272.,  273.,  274.,  275.,  276.,  277.,  278.,  279.,\n",
       "        280.,  281.,  282.,  283.,  284.,  285.,  286.,  287.,  288.,\n",
       "        289.,  290.,  291.,  292.,  293.,  294.,  295.,  296.,  297.,\n",
       "        298.,  299.,  300.,  301.,  302.,  303.,  304.,  305.,  306.,\n",
       "        307.,  308.,  309.,  310.,  311.,  312.,  313.,  314.,  315.,\n",
       "        316.,  317.,  318.,  319.,  320.,  321.,  322.,  323.,  324.,\n",
       "        325.,  326.,  327.,  328.,  329.,  330.,  331.,  332.,  333.,\n",
       "        334.,  335.,  336.,  337.,  338.,  339.,  340.,  341.,  342.,\n",
       "        343.,  344.,  345.,  346.,  347.,  348.,  349.,  350.,  351.,\n",
       "        352.,  353.,  354.,  355.,  356.,  357.,  358.,  359.,  360.,\n",
       "        361.,  362.,  363.,  364.,  365.,  366.,  367.,  368.,  369.,\n",
       "        370.,  371.,  372.,  373.,  374.,  375.,  376.,  377.,  378.,\n",
       "        379.,  380.,  381.,  382.,  383.,  384.,  385.,  386.,  387.,\n",
       "        388.,  389.,  390.,  391.,  392.,  393.,  394.,  395.,  396.,\n",
       "        397.,  398.,  399.,  400.,  401.,  402.,  403.,  404.,  405.,\n",
       "        406.,  407.,  408.,  409.,  410.,  411.,  412.,  413.,  414.,\n",
       "        415.,  416.,  417.,  418.,  419.,  420.,  421.,  422.,  423.,\n",
       "        424.,  425.,  426.,  427.,  428.,  429.,  430.,  431.,  432.,\n",
       "        433.,  434.,  435.,  436.,  437.,  438.,  439.,  440.,  441.,\n",
       "        442.,  443.,  444.,  445.,  446.,  447.,  448.,  449.,  450.,\n",
       "        451.,  452.,  453.,  454.,  455.,  456.,  457.,  458.,  459.,\n",
       "        460.,  461.,  462.,  463.,  464.,  465.,  466.,  467.,  468.,\n",
       "        469.,  470.,  471.,  472.,  473.,  474.,  475.,  476.,  477.,\n",
       "        478.,  479.,  480.,  481.,  482.,  483.,  484.,  485.,  486.,\n",
       "        487.,  488.,  489.,  490.,  491.,  492.,  493.,  494.,  495.,\n",
       "        496.,  497.,  498.,  499.,  500.,  501.,  502.,  503.,  504.,\n",
       "        505.,  506.,  507.,  508.,  509.,  510.,  511.,  512.,  513.,\n",
       "        514.,  515.,  516.,  517.,  518.,  519.,  520.,  521.,  522.,\n",
       "        523.,  524.,  525.,  526.,  527.,  528.,  529.,  530.,  531.,\n",
       "        532.,  533.,  534.,  535.,  536.,  537.,  538.,  539.,  540.,\n",
       "        541.,  542.,  543.,  544.,  545.,  546.,  547.,  548.,  549.,\n",
       "        550.,  551.,  552.,  553.,  554.,  555.,  556.,  557.,  558.,\n",
       "        559.,  560.,  561.,  562.,  563.,  564.,  565.,  566.,  567.,\n",
       "        568.,  569.,  570.,  571.,  572.,  573.,  574.,  575.,  576.,\n",
       "        577.,  578.,  579.,  580.,  581.,  582.,  583.,  584.,  585.,\n",
       "        586.,  587.,  588.,  589.,  590.,  591.,  592.,  593.,  594.,\n",
       "        595.,  596.,  597.,  598.,  599.,  600.,  601.,  602.,  603.,\n",
       "        604.,  605.,  606.,  607.,  608.,  609.,  610.,  611.,  612.,\n",
       "        613.,  614.,  615.,  616.,  617.,  618.,  619.,  620.,  621.,\n",
       "        622.,  623.,  624.,  625.,  626.,  627.,  628.,  629.,  630.,\n",
       "        631.,  632.,  633.,  634.,  635.,  636.,  637.,  638.,  639.,\n",
       "        640.,  641.,  642.,  643.,  644.,  645.,  646.,  647.,  648.,\n",
       "        649.,  650.,  651.,  652.,  653.,  654.,  655.,  656.,  657.,\n",
       "        658.,  659.,  660.,  661.,  662.,  663.,  664.,  665.,  666.,\n",
       "        667.,  668.,  669.,  670.,  671.,  672.,  673.,  674.,  675.,\n",
       "        676.,  677.,  678.,  679.,  680.,  681.,  682.,  683.,  684.,\n",
       "        685.,  686.,  687.,  688.,  689.,  690.,  691.,  692.,  693.,\n",
       "        694.,  695.,  696.,  697.,  698.,  699.,  700.,  701.,  702.,\n",
       "        703.,  704.,  705.,  706.,  707.,  708.,  709.,  710.,  711.,\n",
       "        712.,  713.,  714.,  715.,  716.,  717.,  718.,  719.,  720.,\n",
       "        721.,  722.,  723.,  724.,  725.,  726.,  727.,  728.,  729.,\n",
       "        730.,  731.,  732.,  733.,  734.,  735.,  736.,  737.,  738.,\n",
       "        739.,  740.,  741.,  742.,  743.,  744.,  745.,  746.,  747.,\n",
       "        748.,  749.,  750.,  751.,  752.,  753.,  754.,  755.,  756.,\n",
       "        757.,  758.,  759.,  760.,  761.,  762.,  763.,  764.,  765.,\n",
       "        766.,  767.,  768.,  769.,  770.,  771.,  772.,  773.,  774.,\n",
       "        775.,  776.,  777.,  778.,  779.,  780.,  781.,  782.,  783.,\n",
       "        784.,  785.,  786.,  787.,  788.,  789.,  790.,  791.,  792.,\n",
       "        793.,  794.,  795.,  796.,  797.,  798.,  799.,  800.,  801.,\n",
       "        802.,  803.,  804.,  805.,  806.,  807.,  808.,  809.,  810.,\n",
       "        811.,  812.,  813.,  814.,  815.,  816.,  817.,  818.,  819.,\n",
       "        820.,  821.,  822.,  823.,  824.,  825.,  826.,  827.,  828.,\n",
       "        829.,  830.,  831.,  832.,  833.,  834.,  835.,  836.,  837.,\n",
       "        838.,  839.,  840.,  841.,  842.,  843.,  844.,  845.,  846.,\n",
       "        847.,  848.,  849.,  850.,  851.,  852.,  853.,  854.,  855.,\n",
       "        856.,  857.,  858.,  859.,  860.,  861.,  862.,  863.,  864.,\n",
       "        865.,  866.,  867.,  868.,  869.,  870.,  871.,  872.,  873.,\n",
       "        874.,  875.,  876.,  877.,  878.,  879.,  880.,  881.,  882.,\n",
       "        883.,  884.,  885.,  886.,  887.,  888.,  889.,  890.,  891.,\n",
       "        892.,  893.,  894.,  895.,  896.,  897.,  898.,  899.,  900.,\n",
       "        901.,  902.,  903.,  904.,  905.,  906.,  907.,  908.,  909.,\n",
       "        910.,  911.,  912.,  913.,  914.,  915.,  916.,  917.,  918.,\n",
       "        919.,  920.,  921.,  922.,  923.,  924.,  925.,  926.,  927.,\n",
       "        928.,  929.,  930.,  931.,  932.,  933.,  934.,  935.,  936.,\n",
       "        937.,  938.,  939.,  940.,  941.,  942.,  943.,  944.,  945.,\n",
       "        946.,  947.,  948.,  949.,  950.,  951.,  952.,  953.,  954.,\n",
       "        955.,  956.,  957.,  958.,  959.,  960.,  961.,  962.,  963.,\n",
       "        964.,  965.,  966.,  967.,  968.,  969.,  970.,  971.,  972.,\n",
       "        973.,  974.,  975.,  976.,  977.,  978.,  979.,  980.,  981.,\n",
       "        982.,  983.,  984.,  985.,  986.,  987.,  988.,  989.,  990.,\n",
       "        991.,  992.,  993.,  994.,  995.,  996.,  997.,  998.,  999.,\n",
       "       1000.])"
      ]
     },
     "execution_count": 122,
     "metadata": {},
     "output_type": "execute_result"
    }
   ],
   "source": [
    "#Créer un numpay array avec la fonction linspace #générer une séquence de nombre # Très utile pour les graphiques\n",
    "#entre deux valeurs données avec un nombre de points donné\n",
    "np.linspace(1,1000,1000)"
   ]
  },
  {
   "cell_type": "code",
   "execution_count": null,
   "id": "0224bc90",
   "metadata": {},
   "outputs": [],
   "source": [
    "## Créer un numpy array de valeurs aléatoires avec la fonction random avec np.random.random"
   ]
  },
  {
   "cell_type": "code",
   "execution_count": 123,
   "id": "385f3a3f",
   "metadata": {},
   "outputs": [],
   "source": [
    "np.random??"
   ]
  },
  {
   "cell_type": "code",
   "execution_count": null,
   "id": "401118f2",
   "metadata": {},
   "outputs": [],
   "source": [
    "# nombre aléatoire distribuée suivant une loi aléatoire\n",
    "#fixer la graine avec seed de random"
   ]
  },
  {
   "cell_type": "markdown",
   "id": "bbb03b5c",
   "metadata": {},
   "source": [
    "## Accéder  aux éléments, sélectionner (Read)"
   ]
  },
  {
   "cell_type": "code",
   "execution_count": 128,
   "id": "401db61b",
   "metadata": {},
   "outputs": [
    {
     "data": {
      "text/plain": [
       "array([33,  4,  4,  5,  6,  4,  3, 11])"
      ]
     },
     "execution_count": 128,
     "metadata": {},
     "output_type": "execute_result"
    }
   ],
   "source": [
    "# Accès aux éléments\n",
    "# Création d'un nd array à une dimension à partir d'une liste\n",
    "tableau_dim1 = np.array([33,4,4,5,6,4,3,11])\n",
    "tableau_dim1"
   ]
  },
  {
   "cell_type": "code",
   "execution_count": 126,
   "id": "9ea1a569",
   "metadata": {},
   "outputs": [
    {
     "data": {
      "text/plain": [
       "4"
      ]
     },
     "execution_count": 126,
     "metadata": {},
     "output_type": "execute_result"
    }
   ],
   "source": [
    "tableau_dim1[-1]"
   ]
  },
  {
   "cell_type": "code",
   "execution_count": 134,
   "id": "c4212303",
   "metadata": {},
   "outputs": [
    {
     "data": {
      "text/plain": [
       "array([33, 11])"
      ]
     },
     "execution_count": 134,
     "metadata": {},
     "output_type": "execute_result"
    }
   ],
   "source": [
    "# Sélection des éléments qui respectent une condition\n",
    "tableau_dim1[tableau_dim1 >6]"
   ]
  },
  {
   "cell_type": "code",
   "execution_count": null,
   "id": "3977dfdc",
   "metadata": {},
   "outputs": [],
   "source": [
    "# utilisation de np.where()\n",
    "np.where(tableau_dim1>10)\n",
    "nb_superieur_10 = tableau_dim1[np.where(tableau_dim1>10)]\n",
    "nb_superieur_10"
   ]
  },
  {
   "cell_type": "code",
   "execution_count": null,
   "id": "2d2f1caf",
   "metadata": {},
   "outputs": [],
   "source": [
    "# Recupérer des éléments à partir des indices"
   ]
  },
  {
   "cell_type": "markdown",
   "id": "13048015",
   "metadata": {},
   "source": [
    "## Modifier et mettre à jour un numpy array (Update)"
   ]
  },
  {
   "cell_type": "code",
   "execution_count": null,
   "id": "52bca932",
   "metadata": {},
   "outputs": [],
   "source": [
    "# Modification d'un élément\n"
   ]
  },
  {
   "cell_type": "markdown",
   "id": "45c5d783",
   "metadata": {},
   "source": [
    "## Fonctions mathématiques et statistiques avec Numpy"
   ]
  },
  {
   "cell_type": "markdown",
   "id": "80b4b998",
   "metadata": {},
   "source": [
    "# Quiz \n",
    "## Question 1:Quelle est la principale utilité de la bibliothèque NumPy en Data Science  ?\n",
    "\n",
    "a) Gestion de base de données\n",
    "\n",
    "b) Calcul scientifique et manipulation de tableaux\n",
    "\n",
    "c) Création d'interfaces graphiques\n",
    "\n",
    "d) Gestion des réseaux de neurones\n",
    "\n",
    "\n",
    "\n",
    "\n",
    "\n",
    "## Question 2: Comment créer un tableau NumPy de dimension 1 (1D) ?\n",
    "\n",
    "a) np.array([1, 2, 3])\n",
    "\n",
    "b) np.arange(1, 4)\n",
    "\n",
    "c) Les deux a et b\n",
    "\n",
    "d) Aucune des réponses ci-dessusQuestion \n",
    "\n",
    "\n",
    "## 3: Quelle fonction NumPy permet de créer un tableau contenant uniquement des zéros ?\n",
    "\n",
    "a) np.zeros()\n",
    "\n",
    "b) np.ones()\n",
    "\n",
    "c) np.eye()\n"
   ]
  },
  {
   "cell_type": "markdown",
   "id": "2265a9f3",
   "metadata": {},
   "source": [
    "# Exercices de Programmation\n",
    "\n",
    "## Exercice 1 : Création et Utilisation d'un Module pour la Gestion de Contacts\n",
    "**Objectif** : Développer un module pour la gestion d'un carnet d'adresses, l'utiliser pour ajouter des contacts, et enregistrer ces contacts dans un fichier texte.\n",
    "\n",
    "**Instructions** :\n",
    "1. **Créer un Module `gestion_contacts`** : Ce module doit contenir des fonctions pour ajouter un nouveau contact (nom, numéro de téléphone, email) et pour lister tous les contacts.\n",
    "2. **Utiliser le Module dans un Script** : Dans un script principal, utilisez ce module pour ajouter quelques contacts.\n",
    "3. **Sauvegarde des Contacts** : Après l'ajout des contacts, enregistrez la liste des contacts dans un fichier texte `contacts.txt` en utilisant les fonctions de gestion de fichiers.\n",
    "\n",
    "## Exercice 2 : Analyse de Données avec Numpy et Sauvegarde des Résultats\n",
    "**Objectif** : Effectuer des opérations statistiques de base sur un ensemble de données avec numpy et enregistrer les résultats dans un fichier texte.\n",
    "\n",
    "**Instructions** :\n",
    "1. **Génération de Données** : Utilisez numpy pour générer un ensemble de données composé de 100 nombres aléatoires.\n",
    "2. **Analyse Statistique** : Calculez la moyenne, la médiane, et l'écart-type de cet ensemble.\n",
    "3. **Écriture des Résultats** : Enregistrez les résultats calculés dans un fichier `analyse_stats.txt`, en indiquant clairement chaque mesure.\n",
    "\n",
    "## Exercice 3 : Module pour la Conversion de Températures et Enregistrement en Fichier Texte\n",
    "**Objectif** : Développer un module simple pour convertir les températures entre Celsius et Fahrenheit, puis enregistrer ces valeurs dans un fichier texte.\n",
    "\n",
    "**Instructions** :\n",
    "1. **Création d'un Module de Conversion** : Créez un module nommé `convert_temp` qui contient deux fonctions. La première fonction convertit la température de Celsius en Fahrenheit, et la deuxième fait l'inverse.\n",
    "2. **Conversion de Températures** : Utilisez votre module pour convertir une liste de températures en Celsius en Fahrenheit. Vous pouvez utiliser une liste fixe de températures pour simplifier l'exercice (par exemple, 0, 10, 20, 30 degrés Celsius).\n",
    "3. **Sauvegarde des Températures Converties** : Écrivez les températures originales en Celsius et leurs équivalents en Fahrenheit dans un fichier texte nommé `temp_conversions.txt`. Le format du fichier peut être simple, par exemple : \"0°C - 32°F\".\n",
    "\n"
   ]
  },
  {
   "cell_type": "code",
   "execution_count": null,
   "id": "8cebae4a",
   "metadata": {},
   "outputs": [],
   "source": []
  }
 ],
 "metadata": {
  "kernelspec": {
   "display_name": "Python 3 (ipykernel)",
   "language": "python",
   "name": "python3"
  },
  "language_info": {
   "codemirror_mode": {
    "name": "ipython",
    "version": 3
   },
   "file_extension": ".py",
   "mimetype": "text/x-python",
   "name": "python",
   "nbconvert_exporter": "python",
   "pygments_lexer": "ipython3",
   "version": "3.11.5"
  }
 },
 "nbformat": 4,
 "nbformat_minor": 5
}
