{
 "cells": [
  {
   "cell_type": "markdown",
   "id": "b85d71ed",
   "metadata": {},
   "source": [
    "![programme](DLC7.png)"
   ]
  },
  {
   "cell_type": "markdown",
   "id": "65317905",
   "metadata": {},
   "source": [
    "# Exercices sur les fonctions"
   ]
  },
  {
   "cell_type": "markdown",
   "id": "8cf9c373",
   "metadata": {},
   "source": [
    "**Fonction Calculatrice** : Créez une fonction calculatrice qui prend deux nombres et un opérateur (par exemple +, -, *, /) et retourne le résultat de l'opération."
   ]
  },
  {
   "cell_type": "markdown",
   "id": "d3d9c617",
   "metadata": {},
   "source": [
    "**Fonction de Recherche** :\n",
    "Écrivez une fonction trouver_max qui reçoit une liste de nombres et retourne le plus grand nombre sans utiliser la fonction max() intégrée."
   ]
  },
  {
   "cell_type": "markdown",
   "id": "736cd1cf",
   "metadata": {},
   "source": [
    "# Exercices sur les Listes "
   ]
  },
  {
   "cell_type": "markdown",
   "id": "a6b813c3",
   "metadata": {},
   "source": [
    "**Manipulation de Liste** : Donnez une liste de nombres. Écrivez un script qui crée deux nouvelles listes, l'une contenant seulement les nombres pairs et l'autre seulement les nombres impairs.\n",
    "\n"
   ]
  },
  {
   "cell_type": "markdown",
   "id": "863df4d0",
   "metadata": {},
   "source": [
    "**Mélange de Listes** : Écrivez un script qui prend deux listes de tailles égales et les mélange pour créer une nouvelle liste. \n",
    "\n",
    "Les éléments de cette nouvelle liste devraient être des tuples, chaque tuple contenant un élément de chaque liste à la même position. \n",
    "\n",
    "Par exemple, à partir des listes [1, 2, 3] et ['a', 'b', 'c'], créez la liste [(1, 'a'), (2, 'b'), (3, 'c')].\n"
   ]
  },
  {
   "cell_type": "markdown",
   "id": "73b93f73",
   "metadata": {},
   "source": [
    "# Exercices sur les Dictionnaires "
   ]
  },
  {
   "cell_type": "markdown",
   "id": "3c595ef4",
   "metadata": {},
   "source": [
    "Parcours de Dictionnaire et Traitement de Données : Vous disposez d'un dictionnaire représentant un inventaire de produits dans un magasin, où les clés sont les noms des produits et les valeurs sont les quantités en stock. \n",
    "\n",
    "\n",
    "Écrivez une fonction inventaire_mise_a_jour qui parcourt ce dictionnaire et imprime pour chaque produit le message \"Il reste [quantité] de [produit]\". \n",
    "\n",
    "Si la quantité est inférieure à un seuil spécifié, ajoutez à la fin du message \" — Stock faible !\". \n",
    "\n",
    "\n",
    "La fonction doit également retourner un dictionnaire des produits avec un stock faible.\n",
    "\n"
   ]
  },
  {
   "cell_type": "code",
   "execution_count": null,
   "id": "1b2024b2",
   "metadata": {},
   "outputs": [],
   "source": []
  },
  {
   "cell_type": "markdown",
   "id": "0720127f",
   "metadata": {},
   "source": [
    "# Exercice Listes et dictionnaires en compréhension"
   ]
  },
  {
   "cell_type": "markdown",
   "id": "37676655",
   "metadata": {},
   "source": [
    "Analyse des Scores d'Étudiants : Vous avez un dictionnaire représentant les scores de différents étudiants dans plusieurs matières. Votre tâche est de créer une liste des noms des étudiants qui ont une moyenne supérieure à une certaine valeur, en utilisant la compréhension de liste. "
   ]
  },
  {
   "cell_type": "markdown",
   "id": "5cee42b3",
   "metadata": {},
   "source": [
    "Ensuite, utilisez la compréhension de dictionnaire pour créer un nouveau dictionnaire où chaque clé est un nom d'étudiant (de ceux ayant une moyenne supérieure) et la valeur est la moyenne de leurs scores."
   ]
  },
  {
   "cell_type": "code",
   "execution_count": null,
   "id": "f1d43201",
   "metadata": {},
   "outputs": [],
   "source": []
  },
  {
   "cell_type": "markdown",
   "id": "d7e0c8aa",
   "metadata": {},
   "source": [
    "# Questions sur les Données\n"
   ]
  },
  {
   "cell_type": "code",
   "execution_count": 4,
   "id": "d8c7950d",
   "metadata": {},
   "outputs": [],
   "source": [
    "## Quelle est la dimmension de la base de données?"
   ]
  },
  {
   "cell_type": "code",
   "execution_count": null,
   "id": "83481304",
   "metadata": {},
   "outputs": [],
   "source": [
    "## Quelle est la nature des variable de la base de données"
   ]
  },
  {
   "cell_type": "code",
   "execution_count": null,
   "id": "3dbfed97",
   "metadata": {},
   "outputs": [],
   "source": [
    "## Combien de valeur manquante sont présentes dans la base et quelle est la proportion?"
   ]
  },
  {
   "cell_type": "markdown",
   "id": "58966982",
   "metadata": {},
   "source": [
    "## Faire une description rapide de la base de données"
   ]
  },
  {
   "cell_type": "markdown",
   "id": "0beeeb67",
   "metadata": {},
   "source": [
    "## Combien y a-t-il de types de jobs différents dans la base de données? Listez-les.\n"
   ]
  },
  {
   "cell_type": "code",
   "execution_count": null,
   "id": "0d36f475",
   "metadata": {},
   "outputs": [],
   "source": []
  },
  {
   "cell_type": "markdown",
   "id": "1c50c42a",
   "metadata": {},
   "source": [
    "## Quelle est la répartition des clients par niveau d'éducation? \n"
   ]
  },
  {
   "cell_type": "markdown",
   "id": "7e42546a",
   "metadata": {},
   "source": [
    "## Faire le graphique qui donne la répartition des clients par niveau d'éduction"
   ]
  },
  {
   "cell_type": "code",
   "execution_count": null,
   "id": "37452e94",
   "metadata": {},
   "outputs": [],
   "source": []
  },
  {
   "cell_type": "markdown",
   "id": "4b91812a",
   "metadata": {},
   "source": [
    "## Générer un histogramme"
   ]
  },
  {
   "cell_type": "code",
   "execution_count": null,
   "id": "c26cceae",
   "metadata": {},
   "outputs": [],
   "source": []
  },
  {
   "cell_type": "markdown",
   "id": "c689ba37",
   "metadata": {},
   "source": [
    "\n",
    "\n",
    "Utilisez Matplotlib ou Seaborn pour générer un histogramme des soldes annuels moyens des clients. \n",
    "\n",
    "Qu'observez-vous?"
   ]
  },
  {
   "cell_type": "markdown",
   "id": "21356576",
   "metadata": {},
   "source": [
    "## Quelle est la durée moyenne des communications (en secondes) pour les clients ayant souscrit à un dépôt à terme (y = \"yes\")?\n"
   ]
  },
  {
   "cell_type": "code",
   "execution_count": null,
   "id": "a7b531e4",
   "metadata": {},
   "outputs": [],
   "source": []
  },
  {
   "cell_type": "markdown",
   "id": "5c5e7711",
   "metadata": {},
   "source": [
    "## Calculez et visualisez le nombre de jours moyen écoulés depuis le dernier contact pour les clients qui n'ont pas été contactés précédemment (pdays = 999)."
   ]
  },
  {
   "cell_type": "markdown",
   "id": "26fc854d",
   "metadata": {},
   "source": [
    "## Utilisation des filtres multiples"
   ]
  },
  {
   "cell_type": "markdown",
   "id": "0938a000",
   "metadata": {},
   "source": [
    "Filtrez la base de données pour les clients célibataires (marital = \"single\") ayant un emploi de type \"blue-collar\" et qui ont été contactés par téléphone (contact = \"telephone\"). \n",
    "\n",
    "Utilisez ces données filtrées pour créer un boxplot montrant la distribution de leur âge par rapport à la durée de la dernière communication (duration). \n",
    "\n",
    "\n",
    "Quelles tendances pouvez-vous observer?\n"
   ]
  },
  {
   "cell_type": "markdown",
   "id": "2dccdbf7",
   "metadata": {},
   "source": [
    "## Question boxplot bivarié"
   ]
  },
  {
   "cell_type": "markdown",
   "id": "fdec5c40",
   "metadata": {},
   "source": [
    "Utilisez un boxplot bivarié pour comparer la distribution des soldes annuels moyens (balance) entre les différents niveaux d'éducation (education).\n",
    "\n",
    "\n",
    "Que pouvez-vous dire sur l'influence du niveau d'éducation sur les soldes des clients ?"
   ]
  },
  {
   "cell_type": "code",
   "execution_count": null,
   "id": "36bf8433",
   "metadata": {},
   "outputs": [],
   "source": []
  },
  {
   "cell_type": "code",
   "execution_count": null,
   "id": "a4031e5e",
   "metadata": {},
   "outputs": [],
   "source": [
    "# Analyser la relation bivariée entre l'âge et le statut marital"
   ]
  },
  {
   "cell_type": "code",
   "execution_count": null,
   "id": "17a737ce",
   "metadata": {},
   "outputs": [],
   "source": []
  }
 ],
 "metadata": {
  "kernelspec": {
   "display_name": "Python 3 (ipykernel)",
   "language": "python",
   "name": "python3"
  },
  "language_info": {
   "codemirror_mode": {
    "name": "ipython",
    "version": 3
   },
   "file_extension": ".py",
   "mimetype": "text/x-python",
   "name": "python",
   "nbconvert_exporter": "python",
   "pygments_lexer": "ipython3",
   "version": "3.11.5"
  }
 },
 "nbformat": 4,
 "nbformat_minor": 5
}
