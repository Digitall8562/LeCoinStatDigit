{
 "cells": [
  {
   "cell_type": "code",
   "execution_count": 2,
   "id": "99fbadf8",
   "metadata": {},
   "outputs": [
    {
     "name": "stdout",
     "output_type": "stream",
     "text": [
      "Bonjour Natacha\n"
     ]
    }
   ],
   "source": [
    "print(\"Bonjour Natacha\")  "
   ]
  },
  {
   "cell_type": "markdown",
   "id": "b2afbce4",
   "metadata": {},
   "source": [
    "# Ceci est un titre de niveau 1"
   ]
  },
  {
   "cell_type": "markdown",
   "id": "3e10a998",
   "metadata": {},
   "source": [
    "## Ceci est un titre de niveau 2"
   ]
  },
  {
   "cell_type": "markdown",
   "id": "8fb47c06",
   "metadata": {},
   "source": [
    "Daily live coding tous les jours à 21h15 sur la chaîne Youtube LeCoinStat"
   ]
  },
  {
   "cell_type": "markdown",
   "id": "edc99a29",
   "metadata": {},
   "source": [
    "# Les bases de Python"
   ]
  },
  {
   "cell_type": "markdown",
   "id": "1d749bdf",
   "metadata": {},
   "source": [
    "## Syntaxe de Base:\n",
    "\n",
    "- Comment écrire un code propre et lisible en Python.\n",
    "- Commentaires \n"
   ]
  },
  {
   "cell_type": "code",
   "execution_count": 1,
   "id": "ed9ac722",
   "metadata": {},
   "outputs": [
    {
     "name": "stdout",
     "output_type": "stream",
     "text": [
      "test\n"
     ]
    }
   ],
   "source": [
    "# Ceci est un commentaire\n",
    "print(\"test\")"
   ]
  },
  {
   "cell_type": "markdown",
   "id": "09f03a43",
   "metadata": {},
   "source": [
    "\n",
    "\n",
    "## Déclaration et Utilisation des Variables:\n",
    "\n",
    "- **Nommage**: Les noms de variables doivent commencer par une lettre ou un underscore.\n",
    "- **Assignation de Valeurs**: Utilisez le signe `=` pour assigner une valeur à une variable.\n",
    "- **Utilisation dans les Opérations**: Les variables peuvent être utilisées dans des opérations mathématiques ou logiques.\n",
    "- **Création de plusieurs Variables simultanément**\n"
   ]
  },
  {
   "cell_type": "code",
   "execution_count": 4,
   "id": "4d3a4fe6",
   "metadata": {},
   "outputs": [
    {
     "name": "stdout",
     "output_type": "stream",
     "text": [
      "Ronald\n"
     ]
    }
   ],
   "source": [
    "nom_abonnes=\"Ronald\"\n",
    "print(nom_abonnes)"
   ]
  },
  {
   "cell_type": "code",
   "execution_count": 5,
   "id": "0f65e274",
   "metadata": {},
   "outputs": [
    {
     "name": "stdout",
     "output_type": "stream",
     "text": [
      "200\n"
     ]
    }
   ],
   "source": [
    "nombre_video=200\n",
    "print(nombre_video)"
   ]
  },
  {
   "cell_type": "code",
   "execution_count": 6,
   "id": "fb60bc9d",
   "metadata": {},
   "outputs": [
    {
     "name": "stdout",
     "output_type": "stream",
     "text": [
      "1.7\n"
     ]
    }
   ],
   "source": [
    "taille_abonnes=1.70\n",
    "print(taille_abonnes)"
   ]
  },
  {
   "cell_type": "code",
   "execution_count": 2,
   "id": "d8d6e504",
   "metadata": {},
   "outputs": [
    {
     "data": {
      "text/plain": [
       "5"
      ]
     },
     "execution_count": 2,
     "metadata": {},
     "output_type": "execute_result"
    }
   ],
   "source": [
    "x=5\n",
    "z=x\n",
    "z"
   ]
  },
  {
   "cell_type": "markdown",
   "id": "6aa1f2bd",
   "metadata": {},
   "source": [
    "\n",
    "## Différents Types de Données\n",
    "\n",
    "- **Types Intégrés**: Utilisez `int`, `float`, `str`, et `list` pour représenter différents types de données.\n",
    "- **Vérification de Type**: La fonction `type()` permet de vérifier le type d'une variable.\n",
    "- **Opérations de Base**: Effectuez des opérations comme l'addition de `int`, ou la concaténation de `str`.\n"
   ]
  },
  {
   "cell_type": "code",
   "execution_count": 9,
   "id": "89a0f9ef",
   "metadata": {},
   "outputs": [
    {
     "data": {
      "text/plain": [
       "int"
      ]
     },
     "execution_count": 9,
     "metadata": {},
     "output_type": "execute_result"
    }
   ],
   "source": [
    "type(nombre_video)"
   ]
  },
  {
   "cell_type": "code",
   "execution_count": 10,
   "id": "ee565af1",
   "metadata": {},
   "outputs": [
    {
     "data": {
      "text/plain": [
       "float"
      ]
     },
     "execution_count": 10,
     "metadata": {},
     "output_type": "execute_result"
    }
   ],
   "source": [
    "type(taille_abonnes)"
   ]
  },
  {
   "cell_type": "code",
   "execution_count": 3,
   "id": "62210130",
   "metadata": {},
   "outputs": [
    {
     "name": "stdout",
     "output_type": "stream",
     "text": [
      "False\n"
     ]
    }
   ],
   "source": [
    "booleen=False\n",
    "print(booleen)\n"
   ]
  },
  {
   "cell_type": "code",
   "execution_count": 4,
   "id": "c154f2d9",
   "metadata": {},
   "outputs": [
    {
     "name": "stdout",
     "output_type": "stream",
     "text": [
      "True\n"
     ]
    }
   ],
   "source": [
    "temp=True\n",
    "print(temp)"
   ]
  },
  {
   "cell_type": "code",
   "execution_count": 19,
   "id": "62900eaa",
   "metadata": {},
   "outputs": [
    {
     "data": {
      "text/plain": [
       "'True'"
      ]
     },
     "execution_count": 19,
     "metadata": {},
     "output_type": "execute_result"
    }
   ],
   "source": [
    "str(temp)"
   ]
  },
  {
   "cell_type": "markdown",
   "id": "5dcba8f4",
   "metadata": {},
   "source": [
    "\n",
    "## Opérations Arithmétiques Simples:\n",
    "\n",
    "- **Opérations de Base**: Addition `+`, soustraction `-`, multiplication `*`, et division `/`.\n",
    "- **Opérations Avancées**: Division entière `//`, modulo `%`, et exponentiation `**`.\n",
    "- **Priorité**: Python suit l'ordre opérationnel mathématique standard.\n"
   ]
  },
  {
   "cell_type": "code",
   "execution_count": 25,
   "id": "bfb9ca93",
   "metadata": {},
   "outputs": [
    {
     "name": "stdout",
     "output_type": "stream",
     "text": [
      "7\n"
     ]
    }
   ],
   "source": [
    "# addition\n",
    "x=5\n",
    "y=2\n",
    "z=x+y\n",
    "print(z)"
   ]
  },
  {
   "cell_type": "code",
   "execution_count": 21,
   "id": "9b8b9bc8",
   "metadata": {},
   "outputs": [
    {
     "name": "stdout",
     "output_type": "stream",
     "text": [
      "255\n"
     ]
    }
   ],
   "source": [
    "# Multiplication\n",
    "z=x*y\n",
    "print(z)"
   ]
  },
  {
   "cell_type": "code",
   "execution_count": 22,
   "id": "84a868ef",
   "metadata": {},
   "outputs": [
    {
     "name": "stdout",
     "output_type": "stream",
     "text": [
      "0.8823529411764706\n"
     ]
    }
   ],
   "source": [
    "# Division \n",
    "z=x/y\n",
    "print(z)"
   ]
  },
  {
   "cell_type": "code",
   "execution_count": 23,
   "id": "a6f08bed",
   "metadata": {},
   "outputs": [
    {
     "name": "stdout",
     "output_type": "stream",
     "text": [
      "-2\n"
     ]
    }
   ],
   "source": [
    "# Soustraction \n",
    "z=x-y\n",
    "print(z)"
   ]
  },
  {
   "cell_type": "code",
   "execution_count": 26,
   "id": "faa5a0c8",
   "metadata": {},
   "outputs": [
    {
     "name": "stdout",
     "output_type": "stream",
     "text": [
      "2\n"
     ]
    }
   ],
   "source": [
    "# Récupérer la partie entière d'une division \n",
    "z=x//y\n",
    "print(z)"
   ]
  },
  {
   "cell_type": "code",
   "execution_count": 27,
   "id": "061ae3ae",
   "metadata": {},
   "outputs": [
    {
     "name": "stdout",
     "output_type": "stream",
     "text": [
      "1\n"
     ]
    }
   ],
   "source": [
    "# Récupérer le reste de la division  des chiffres\n",
    "z=x%y\n",
    "print(z)"
   ]
  },
  {
   "cell_type": "code",
   "execution_count": 29,
   "id": "0241bcae",
   "metadata": {},
   "outputs": [
    {
     "data": {
      "text/plain": [
       "25"
      ]
     },
     "execution_count": 29,
     "metadata": {},
     "output_type": "execute_result"
    }
   ],
   "source": [
    "# Puissance\n",
    "z=x**y\n",
    "z"
   ]
  },
  {
   "cell_type": "markdown",
   "id": "78bbef05",
   "metadata": {},
   "source": [
    "\n",
    "\n",
    "## Opérations Logiques Simples:\n",
    "\n",
    "- **Opérateurs Logiques**: `and`, `or`, `not` pour les opérations booléennes.\n",
    "- **Comparaisons**: `==`, `!=`, `>`, `<`, `>=`, `<=` pour comparer des valeurs.\n",
    "\n"
   ]
  },
  {
   "cell_type": "markdown",
   "id": "51bf403a",
   "metadata": {},
   "source": [
    "## Opérations logiques"
   ]
  },
  {
   "cell_type": "code",
   "execution_count": 6,
   "id": "e0ebee4b",
   "metadata": {},
   "outputs": [
    {
     "data": {
      "text/plain": [
       "False"
      ]
     },
     "execution_count": 6,
     "metadata": {},
     "output_type": "execute_result"
    }
   ],
   "source": [
    "# Opération et\n",
    "x=True\n",
    "y=False\n",
    "z=x and y\n",
    "z"
   ]
  },
  {
   "cell_type": "code",
   "execution_count": 7,
   "id": "3e0c1dd7",
   "metadata": {},
   "outputs": [
    {
     "data": {
      "text/plain": [
       "False"
      ]
     },
     "execution_count": 7,
     "metadata": {},
     "output_type": "execute_result"
    }
   ],
   "source": [
    "z=x & y\n",
    "z"
   ]
  },
  {
   "cell_type": "code",
   "execution_count": 9,
   "id": "7f704453",
   "metadata": {},
   "outputs": [
    {
     "data": {
      "text/plain": [
       "True"
      ]
     },
     "execution_count": 9,
     "metadata": {},
     "output_type": "execute_result"
    }
   ],
   "source": [
    "# Opérateur ou \n",
    "z=x or y\n",
    "z"
   ]
  },
  {
   "cell_type": "code",
   "execution_count": 8,
   "id": "5a29b3b1",
   "metadata": {},
   "outputs": [
    {
     "data": {
      "text/plain": [
       "True"
      ]
     },
     "execution_count": 8,
     "metadata": {},
     "output_type": "execute_result"
    }
   ],
   "source": [
    "z=x | y\n",
    "z "
   ]
  },
  {
   "cell_type": "code",
   "execution_count": 10,
   "id": "0a546dbc",
   "metadata": {},
   "outputs": [
    {
     "data": {
      "text/plain": [
       "False"
      ]
     },
     "execution_count": 10,
     "metadata": {},
     "output_type": "execute_result"
    }
   ],
   "source": [
    "z=not x\n",
    "z"
   ]
  },
  {
   "cell_type": "markdown",
   "id": "85fb777b",
   "metadata": {},
   "source": [
    "## Opérations de comparaison"
   ]
  },
  {
   "cell_type": "code",
   "execution_count": 11,
   "id": "ed2b1339",
   "metadata": {},
   "outputs": [
    {
     "data": {
      "text/plain": [
       "24"
      ]
     },
     "execution_count": 11,
     "metadata": {},
     "output_type": "execute_result"
    }
   ],
   "source": [
    "# Affecter la valeur 24 à la variable age\n",
    "age=24\n",
    "age"
   ]
  },
  {
   "cell_type": "code",
   "execution_count": 12,
   "id": "b41f24ee",
   "metadata": {},
   "outputs": [
    {
     "data": {
      "text/plain": [
       "True"
      ]
     },
     "execution_count": 12,
     "metadata": {},
     "output_type": "execute_result"
    }
   ],
   "source": [
    "# tester si l'age est égal à 24 ans\n",
    "age==24"
   ]
  },
  {
   "cell_type": "code",
   "execution_count": 38,
   "id": "55c3cbcc",
   "metadata": {},
   "outputs": [
    {
     "data": {
      "text/plain": [
       "False"
      ]
     },
     "execution_count": 38,
     "metadata": {},
     "output_type": "execute_result"
    }
   ],
   "source": [
    "# Tester si l'âge est inférieur à 24 ans\n",
    "age<24"
   ]
  },
  {
   "cell_type": "code",
   "execution_count": 39,
   "id": "a896c163",
   "metadata": {},
   "outputs": [
    {
     "data": {
      "text/plain": [
       "False"
      ]
     },
     "execution_count": 39,
     "metadata": {},
     "output_type": "execute_result"
    }
   ],
   "source": [
    "# Tester si l'âge est supérieur à 24 ans\n",
    "age>24"
   ]
  },
  {
   "cell_type": "code",
   "execution_count": 40,
   "id": "f1ed61a7",
   "metadata": {},
   "outputs": [
    {
     "data": {
      "text/plain": [
       "False"
      ]
     },
     "execution_count": 40,
     "metadata": {},
     "output_type": "execute_result"
    }
   ],
   "source": [
    "# tester si l'age est différent de 24 ans\n",
    "age !=24"
   ]
  },
  {
   "cell_type": "code",
   "execution_count": 41,
   "id": "5ef59999",
   "metadata": {},
   "outputs": [
    {
     "data": {
      "text/plain": [
       "True"
      ]
     },
     "execution_count": 41,
     "metadata": {},
     "output_type": "execute_result"
    }
   ],
   "source": [
    "# tester inférieur ou égale à 24 ans\n",
    "age<=24"
   ]
  },
  {
   "cell_type": "code",
   "execution_count": 42,
   "id": "10159c0d",
   "metadata": {},
   "outputs": [
    {
     "data": {
      "text/plain": [
       "True"
      ]
     },
     "execution_count": 42,
     "metadata": {},
     "output_type": "execute_result"
    }
   ],
   "source": [
    "# tester age supérieur ou égale à 24\n",
    "age>=24"
   ]
  },
  {
   "cell_type": "markdown",
   "id": "f292209d",
   "metadata": {},
   "source": [
    "## Les Fonctions en Python\n",
    "- Fonctions lambda\n",
    "- Fonctions avancées: Définiton et les valeurs par défaut"
   ]
  },
  {
   "cell_type": "code",
   "execution_count": 66,
   "id": "f1e6c671",
   "metadata": {},
   "outputs": [],
   "source": [
    "addition=lambda x,y:x+y"
   ]
  },
  {
   "cell_type": "code",
   "execution_count": 63,
   "id": "643be39f",
   "metadata": {},
   "outputs": [
    {
     "data": {
      "text/plain": [
       "60"
      ]
     },
     "execution_count": 63,
     "metadata": {},
     "output_type": "execute_result"
    }
   ],
   "source": [
    "addition(50,10)"
   ]
  },
  {
   "cell_type": "code",
   "execution_count": 64,
   "id": "655d4afc",
   "metadata": {},
   "outputs": [
    {
     "data": {
      "text/plain": [
       "60"
      ]
     },
     "execution_count": 64,
     "metadata": {},
     "output_type": "execute_result"
    }
   ],
   "source": [
    "temp=addition(50,10)# Affecter les valeurs de la fonction à une variable\n",
    "temp\n"
   ]
  },
  {
   "cell_type": "markdown",
   "id": "19b0fd11",
   "metadata": {},
   "source": [
    "# Création fonction classique"
   ]
  },
  {
   "cell_type": "code",
   "execution_count": 13,
   "id": "8d1b2428",
   "metadata": {},
   "outputs": [],
   "source": [
    "def multiplication(a=3,b=4,c=5):\n",
    "    \n",
    "    \"\"\"\n",
    "     expliquer la fonction\n",
    "     param\n",
    "     retunr\n",
    "    \"\"\"\n",
    "    \n",
    "\n",
    "    \n",
    "    resultat=a*b*c#commenter\n",
    "\n",
    "\n",
    "\n",
    "    return resultat#commenter"
   ]
  },
  {
   "cell_type": "code",
   "execution_count": 14,
   "id": "17b01996",
   "metadata": {},
   "outputs": [
    {
     "data": {
      "text/plain": [
       "100"
      ]
     },
     "execution_count": 14,
     "metadata": {},
     "output_type": "execute_result"
    }
   ],
   "source": [
    "multiplication(4,5)"
   ]
  },
  {
   "cell_type": "code",
   "execution_count": 16,
   "id": "46efcf89",
   "metadata": {},
   "outputs": [
    {
     "data": {
      "text/plain": [
       "24"
      ]
     },
     "execution_count": 16,
     "metadata": {},
     "output_type": "execute_result"
    }
   ],
   "source": [
    "test=multiplication(2,3,4)\n",
    "test"
   ]
  },
  {
   "cell_type": "markdown",
   "id": "009af7d8",
   "metadata": {},
   "source": [
    "# Exercices"
   ]
  },
  {
   "cell_type": "markdown",
   "id": "53a4a2fd",
   "metadata": {},
   "source": [
    "## Exercice 1 : Fonction Lambda\n",
    "\n",
    "**Objectif :** Écrire une fonction lambda qui multiplie deux nombres.\n",
    "\n",
    "**Instructions :**\n",
    "\n",
    "1. Créez une fonction lambda qui accepte deux arguments et retourne leur produit.\n",
    "2. Testez cette fonction en lui passant différents couples de nombres et affichez les résultats.\n"
   ]
  },
  {
   "cell_type": "code",
   "execution_count": 88,
   "id": "4c5da1f1",
   "metadata": {},
   "outputs": [],
   "source": [
    "multiplication=lambda x,y:x*y"
   ]
  },
  {
   "cell_type": "code",
   "execution_count": 89,
   "id": "e4579d59",
   "metadata": {},
   "outputs": [
    {
     "data": {
      "text/plain": [
       "25"
      ]
     },
     "execution_count": 89,
     "metadata": {},
     "output_type": "execute_result"
    }
   ],
   "source": [
    "multiplication(5,5)"
   ]
  },
  {
   "cell_type": "markdown",
   "id": "f5a98922",
   "metadata": {},
   "source": [
    "## Exercice 2 : Fonction de Conversion de Température\n",
    "\n",
    "**Objectif :** Écrire une fonction qui convertit la température de Celsius en Fahrenheit.\n",
    "\n",
    "**Instructions :**\n",
    "\n",
    "1. Créez une fonction nommée `celsius_en_fahrenheit` qui prend un nombre (température en degrés Celsius) comme argument.\n",
    "2. La fonction doit calculer et retourner la température en degrés Fahrenheit en utilisant la formule : \n",
    "   \n",
    "  $$\n",
    "   \\text{Fahrenheit} = \\left( \\text{Celsius} \\times \\frac{9}{5} \\right) + 32\n",
    "   $$\n",
    "\n",
    "3. Testez cette fonction en convertissant plusieurs températures de Celsius en Fahrenheit et affichez les résultats.\n"
   ]
  },
  {
   "cell_type": "code",
   "execution_count": 90,
   "id": "44586079",
   "metadata": {},
   "outputs": [
    {
     "data": {
      "text/plain": [
       "35.6"
      ]
     },
     "execution_count": 90,
     "metadata": {},
     "output_type": "execute_result"
    }
   ],
   "source": [
    "def celsius_to_fahrenheit(celsius):\n",
    "    fahrenheit=(celsius*9/5)+32\n",
    "    return fahrenheit\n",
    "celsius_to_fahrenheit(2)"
   ]
  }
 ],
 "metadata": {
  "kernelspec": {
   "display_name": "Python 3 (ipykernel)",
   "language": "python",
   "name": "python3"
  },
  "language_info": {
   "codemirror_mode": {
    "name": "ipython",
    "version": 3
   },
   "file_extension": ".py",
   "mimetype": "text/x-python",
   "name": "python",
   "nbconvert_exporter": "python",
   "pygments_lexer": "ipython3",
   "version": "3.11.5"
  }
 },
 "nbformat": 4,
 "nbformat_minor": 5
}
