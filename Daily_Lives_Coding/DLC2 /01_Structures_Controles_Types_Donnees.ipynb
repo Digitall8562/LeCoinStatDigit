{
 "cells": [
  {
   "cell_type": "markdown",
   "id": "49db2730",
   "metadata": {},
   "source": [
    "# Structures de contrôle"
   ]
  },
  {
   "cell_type": "markdown",
   "id": "4aa2d828",
   "metadata": {},
   "source": [
    "## **If**: Comment prendre des décisions dans vos programmes"
   ]
  },
  {
   "cell_type": "code",
   "execution_count": 19,
   "id": "f5c88d15",
   "metadata": {},
   "outputs": [],
   "source": [
    "# Décision Simple\n",
    "temperature = 3\n",
    "if temperature > 30:\n",
    "    print(\"il fait chaud\")"
   ]
  },
  {
   "cell_type": "code",
   "execution_count": 16,
   "id": "2da3535c",
   "metadata": {},
   "outputs": [
    {
     "data": {
      "text/plain": [
       "True"
      ]
     },
     "execution_count": 16,
     "metadata": {},
     "output_type": "execute_result"
    }
   ],
   "source": [
    "temperature > 30"
   ]
  },
  {
   "cell_type": "code",
   "execution_count": 29,
   "id": "bcdf388f",
   "metadata": {},
   "outputs": [
    {
     "name": "stdout",
     "output_type": "stream",
     "text": [
      "il fait froid\n"
     ]
    }
   ],
   "source": [
    "# Décision avec alternative (Else)\n",
    "temperature = 3\n",
    "if temperature > 30:\n",
    "    print(\"il fait chaud\")\n",
    "    print(\"il fait chaud\")\n",
    "    print(\"il fait chaud\")\n",
    "    print(\"il fait chaud\")\n",
    "else:\n",
    "    print(\"il fait froid\")"
   ]
  },
  {
   "cell_type": "code",
   "execution_count": 22,
   "id": "fc15f669",
   "metadata": {},
   "outputs": [
    {
     "name": "stdout",
     "output_type": "stream",
     "text": [
      " A améliorer\n"
     ]
    }
   ],
   "source": [
    "# Décision avec multiples alternatives (Elif) \n",
    "note = \"F\"\n",
    "if note == \"A\" :\n",
    "    print(\"Excellent\")\n",
    "elif note == \"B\" :\n",
    "    print(\"Bien\")\n",
    "elif note == \"C\" :\n",
    "    print(\"Moyen\")\n",
    "else :\n",
    "    print(\" A améliorer\")"
   ]
  },
  {
   "cell_type": "code",
   "execution_count": 27,
   "id": "7efaab3c",
   "metadata": {},
   "outputs": [
    {
     "name": "stdout",
     "output_type": "stream",
     "text": [
      "Pas de Bourse\n"
     ]
    }
   ],
   "source": [
    "# Conditions multiples conditions\n",
    "note = 12\n",
    "age = 14\n",
    "\n",
    "if (note >= 16) & (age <=20):\n",
    "    print(\"Bourse acceptée\")\n",
    "else :\n",
    "    print(\"Pas de Bourse\")"
   ]
  },
  {
   "cell_type": "code",
   "execution_count": 24,
   "id": "b18aa1b0",
   "metadata": {},
   "outputs": [
    {
     "data": {
      "text/plain": [
       "True"
      ]
     },
     "execution_count": 24,
     "metadata": {},
     "output_type": "execute_result"
    }
   ],
   "source": [
    "(note >= 16) and (age <=20)"
   ]
  },
  {
   "cell_type": "code",
   "execution_count": 6,
   "id": "49d50631",
   "metadata": {},
   "outputs": [],
   "source": [
    "# Conditions Imbriquées\n",
    "if age <= 20 :\n",
    "    if note >16 :\n",
    "        print(\"bourse acceptée\")\n",
    "    else:\n",
    "        print (\"Pas de bourse\")\n",
    "else"
   ]
  },
  {
   "cell_type": "markdown",
   "id": "3b0c685f",
   "metadata": {},
   "source": [
    "### Exercice"
   ]
  },
  {
   "cell_type": "markdown",
   "id": "a4609b0d",
   "metadata": {},
   "source": [
    "**Objectif :** \n",
    "Développer une fonction `classer_age` en Python qui détermine la catégorie d'âge d'une personne à partir de son âge.\n",
    "\n",
    "**Instructions :**\n",
    "1. La fonction `classer_age` doit accepter un seul argument numérique, `age`, qui représente l'âge de la personne en années.\n",
    "2. La fonction doit retourner une chaîne de caractères selon l'âge :\n",
    "   - Retourner `\"Enfant\"` si l'âge est inférieur à 12 ans.\n",
    "   - Retourner `\"Adolescent\"` si l'âge est entre 12 et 17 ans inclus.\n",
    "   - Retourner `\"Adulte\"` si l'âge est entre 18 et 59 ans inclus.\n",
    "   - Retourner `\"Senior\"` si l'âge est de 60 ans ou plus.\n",
    "3. Si l'âge est inférieur à 0 ou n'est pas un nombre valide, la fonction doit retourner `\"Âge invalide\"`.\n"
   ]
  },
  {
   "cell_type": "code",
   "execution_count": 33,
   "id": "d337f450",
   "metadata": {},
   "outputs": [
    {
     "data": {
      "text/plain": [
       "'Age invalide'"
      ]
     },
     "execution_count": 33,
     "metadata": {},
     "output_type": "execute_result"
    }
   ],
   "source": [
    "def classer_age(x):\n",
    "    \n",
    "    if (x <= 12) & (x >=0) :\n",
    "        resultat = \"Enfant\"\n",
    "    elif (x > 12) & (x <= 17):\n",
    "        resultat =  \" Adolescent\"\n",
    "    elif (x >= 18) & (x <= 59):\n",
    "        resultat =  \" Adulte\"\n",
    "    elif (x >= 60) :\n",
    "        resultat =  \" Senior\"\n",
    "    else:\n",
    "        resultat = \"Age invalide\"\n",
    "        \n",
    "    return resultat\n",
    "classer_age(-5)\n",
    "        "
   ]
  },
  {
   "cell_type": "markdown",
   "id": "9f6e19f6",
   "metadata": {},
   "source": [
    "## **For**: Techniques pour parcourir des données séquentielles"
   ]
  },
  {
   "cell_type": "code",
   "execution_count": 39,
   "id": "01db0e16",
   "metadata": {},
   "outputs": [
    {
     "name": "stdout",
     "output_type": "stream",
     "text": [
      "10\n",
      "9\n",
      "8\n",
      "7\n",
      "6\n",
      "5\n",
      "4\n",
      "3\n",
      "2\n",
      "1\n"
     ]
    }
   ],
   "source": [
    "#Présentation de la boucle for simple\n",
    "for i in range(10,0,-1) :\n",
    "    print(i)\n"
   ]
  },
  {
   "cell_type": "code",
   "execution_count": 40,
   "id": "61548a9e",
   "metadata": {},
   "outputs": [
    {
     "data": {
      "text/plain": [
       "range(10, 0, -1)"
      ]
     },
     "execution_count": 40,
     "metadata": {},
     "output_type": "execute_result"
    }
   ],
   "source": [
    "range(10,0,-1)"
   ]
  },
  {
   "cell_type": "code",
   "execution_count": 43,
   "id": "a2c075c7",
   "metadata": {},
   "outputs": [
    {
     "name": "stdout",
     "output_type": "stream",
     "text": [
      "10  est un Nombre pair\n",
      "9  est Nombre impair\n",
      "8  est un Nombre pair\n",
      "7  est Nombre impair\n",
      "6  est un Nombre pair\n",
      "5  est Nombre impair\n",
      "4  est un Nombre pair\n",
      "3  est Nombre impair\n",
      "2  est un Nombre pair\n",
      "1  est Nombre impair\n"
     ]
    }
   ],
   "source": [
    "#For avec une condition if\n",
    "for i in range(10,0,-1) :\n",
    "    \n",
    "    if i % 2 == 0 :\n",
    "        print(i, \" est un Nombre pair\")\n",
    "    else :\n",
    "        print(i, \" est Nombre impair\")\n",
    "    \n"
   ]
  },
  {
   "cell_type": "markdown",
   "id": "29507185",
   "metadata": {},
   "source": [
    "## While: Exécuter des instructions de manière répétitive sous certaines conditions"
   ]
  },
  {
   "cell_type": "code",
   "execution_count": 46,
   "id": "0c0a6610",
   "metadata": {},
   "outputs": [
    {
     "name": "stdout",
     "output_type": "stream",
     "text": [
      "1\n",
      "2\n",
      "3\n",
      "4\n",
      "5\n",
      "6\n",
      "7\n",
      "8\n",
      "9\n"
     ]
    }
   ],
   "source": [
    "# While de base\n",
    "compteur = 1\n",
    "\n",
    "while compteur < 10 :\n",
    "    print(compteur)\n",
    "    compteur += 1 #compteur = compteur + 1\n",
    "   "
   ]
  },
  {
   "cell_type": "code",
   "execution_count": 48,
   "id": "4ffd112a",
   "metadata": {},
   "outputs": [
    {
     "name": "stdout",
     "output_type": "stream",
     "text": [
      "1\n",
      "2\n",
      "3\n",
      "4\n"
     ]
    }
   ],
   "source": [
    "# Boucle Infinie avec while et l'instruction break\n",
    "compteur = 1\n",
    "while True :\n",
    "    print(compteur)\n",
    "    compteur += 1 #compteur = compteur + 1\n",
    "    if compteur == 5 :\n",
    "        break"
   ]
  },
  {
   "cell_type": "markdown",
   "id": "d4d62908",
   "metadata": {},
   "source": [
    "# Types de Données en Python"
   ]
  },
  {
   "cell_type": "markdown",
   "id": "c543483b",
   "metadata": {},
   "source": [
    "## Listes"
   ]
  },
  {
   "cell_type": "markdown",
   "id": "15ad6260",
   "metadata": {},
   "source": [
    "### Create"
   ]
  },
  {
   "cell_type": "code",
   "execution_count": 51,
   "id": "429ea0fa",
   "metadata": {},
   "outputs": [
    {
     "name": "stdout",
     "output_type": "stream",
     "text": [
      "[15, 17, 23, 29, 45, 50, 45, 67]\n"
     ]
    },
    {
     "data": {
      "text/plain": [
       "list"
      ]
     },
     "execution_count": 51,
     "metadata": {},
     "output_type": "execute_result"
    }
   ],
   "source": [
    "# Liste de nombre\n",
    "liste_age = [15, 17, 23, 29, 45, 50, 45, 67]\n",
    "print(liste_age)\n",
    "type(liste_age)"
   ]
  },
  {
   "cell_type": "code",
   "execution_count": 52,
   "id": "7267ca0b",
   "metadata": {},
   "outputs": [
    {
     "data": {
      "text/plain": [
       "8"
      ]
     },
     "execution_count": 52,
     "metadata": {},
     "output_type": "execute_result"
    }
   ],
   "source": [
    "# Taille des élément d'une liste\n",
    "len(liste_age)"
   ]
  },
  {
   "cell_type": "code",
   "execution_count": 54,
   "id": "cd9301dc",
   "metadata": {},
   "outputs": [
    {
     "data": {
      "text/plain": [
       "['madsurfman', 'Osée', 'Ralph']"
      ]
     },
     "execution_count": 54,
     "metadata": {},
     "output_type": "execute_result"
    }
   ],
   "source": [
    "# Liste de chaîne de caractère\n",
    "liste_nom = [\"madsurfman\", \"Osée\", \"Ralph\"]\n",
    "liste_nom"
   ]
  },
  {
   "cell_type": "code",
   "execution_count": 59,
   "id": "e45562a2",
   "metadata": {},
   "outputs": [
    {
     "name": "stdout",
     "output_type": "stream",
     "text": [
      "[[15, 17, 23, 29, 45, 50, 45, 67], ['madsurfman', 'Osée', 'Ralph']]\n"
     ]
    },
    {
     "data": {
      "text/plain": [
       "list"
      ]
     },
     "execution_count": 59,
     "metadata": {},
     "output_type": "execute_result"
    }
   ],
   "source": [
    "# Liste de listes\n",
    "liste = [liste_age, liste_nom]\n",
    "print(liste)\n",
    "type(liste)"
   ]
  },
  {
   "cell_type": "code",
   "execution_count": null,
   "id": "4b72c869",
   "metadata": {},
   "outputs": [],
   "source": [
    "# Taille\n"
   ]
  },
  {
   "cell_type": "code",
   "execution_count": 57,
   "id": "f9cf23e6",
   "metadata": {},
   "outputs": [
    {
     "data": {
      "text/plain": [
       "2"
      ]
     },
     "execution_count": 57,
     "metadata": {},
     "output_type": "execute_result"
    }
   ],
   "source": [
    "len(liste)"
   ]
  },
  {
   "cell_type": "markdown",
   "id": "dd4a1295",
   "metadata": {},
   "source": [
    "### Read"
   ]
  },
  {
   "cell_type": "code",
   "execution_count": 60,
   "id": "30307491",
   "metadata": {},
   "outputs": [
    {
     "data": {
      "text/plain": [
       "15"
      ]
     },
     "execution_count": 60,
     "metadata": {},
     "output_type": "execute_result"
    }
   ],
   "source": [
    "# Lire un élément au début\n",
    "# Liste de nombre\n",
    "liste_age = [15, 17, 23, 29, 45, 50, 45, 67]\n",
    "liste_age[0]"
   ]
  },
  {
   "cell_type": "code",
   "execution_count": 61,
   "id": "bb757714",
   "metadata": {},
   "outputs": [
    {
     "data": {
      "text/plain": [
       "67"
      ]
     },
     "execution_count": 61,
     "metadata": {},
     "output_type": "execute_result"
    }
   ],
   "source": [
    "# Lire le dernier élément\n",
    "liste_age[-1]"
   ]
  },
  {
   "cell_type": "code",
   "execution_count": 62,
   "id": "4b0caec1",
   "metadata": {},
   "outputs": [
    {
     "data": {
      "text/plain": [
       "67"
      ]
     },
     "execution_count": 62,
     "metadata": {},
     "output_type": "execute_result"
    }
   ],
   "source": [
    "liste_age[len(liste_age)-1]"
   ]
  },
  {
   "cell_type": "code",
   "execution_count": 64,
   "id": "41bbb431",
   "metadata": {},
   "outputs": [
    {
     "data": {
      "text/plain": [
       "45"
      ]
     },
     "execution_count": 64,
     "metadata": {},
     "output_type": "execute_result"
    }
   ],
   "source": [
    "# Lire à une position quelconque\n",
    "liste_age[4]"
   ]
  },
  {
   "cell_type": "code",
   "execution_count": 66,
   "id": "2a74cdb2",
   "metadata": {},
   "outputs": [
    {
     "data": {
      "text/plain": [
       "15"
      ]
     },
     "execution_count": 66,
     "metadata": {},
     "output_type": "execute_result"
    }
   ],
   "source": [
    "liste[0][0]"
   ]
  },
  {
   "cell_type": "code",
   "execution_count": 72,
   "id": "d78ec9bf",
   "metadata": {},
   "outputs": [
    {
     "data": {
      "text/plain": [
       "[17, 23, 29]"
      ]
     },
     "execution_count": 72,
     "metadata": {},
     "output_type": "execute_result"
    }
   ],
   "source": [
    "# Lire sur plusieurs positions qui se suivent\n",
    "liste_age[1:4]"
   ]
  },
  {
   "cell_type": "code",
   "execution_count": 73,
   "id": "acd87efa",
   "metadata": {},
   "outputs": [
    {
     "name": "stdout",
     "output_type": "stream",
     "text": [
      "madsurfman\n",
      "Osée\n",
      "Ralph\n"
     ]
    }
   ],
   "source": [
    "# Faire une boucle une liste\n",
    "for nom in liste_nom :\n",
    "    print(nom)"
   ]
  },
  {
   "cell_type": "markdown",
   "id": "8b4463fd",
   "metadata": {},
   "source": [
    "### Update"
   ]
  },
  {
   "cell_type": "code",
   "execution_count": 74,
   "id": "742061ac",
   "metadata": {},
   "outputs": [
    {
     "name": "stdout",
     "output_type": "stream",
     "text": [
      "['madsurfman', 'Natacha', 'Ralph']\n"
     ]
    }
   ],
   "source": [
    "# Modification direct à partir d'un index\n",
    "liste_nom[1] = \"Natacha\"\n",
    "print(liste_nom)"
   ]
  },
  {
   "cell_type": "code",
   "execution_count": 76,
   "id": "83fc3472",
   "metadata": {},
   "outputs": [
    {
     "data": {
      "text/plain": [
       "['madsurfman', 'Natacha', 'Ralph', 'Ibrahim']"
      ]
     },
     "execution_count": 76,
     "metadata": {},
     "output_type": "execute_result"
    }
   ],
   "source": [
    "# Ajouter un élément à la fin de la liste (append)\n",
    "liste_nom.append(\"Ibrahim\")\n",
    "liste_nom"
   ]
  },
  {
   "cell_type": "code",
   "execution_count": 79,
   "id": "fdf7ab5a",
   "metadata": {},
   "outputs": [
    {
     "data": {
      "text/plain": [
       "['madsurfman', 'Floriane', 'Natacha', 'Ralph', 'Ibrahim']"
      ]
     },
     "execution_count": 79,
     "metadata": {},
     "output_type": "execute_result"
    }
   ],
   "source": [
    "# Ajouter un élément à une position précise (insert)\n",
    "liste_nom.insert(1,\"Floriane\")\n",
    "liste_nom"
   ]
  },
  {
   "cell_type": "markdown",
   "id": "82440df8",
   "metadata": {},
   "source": [
    "### Delete"
   ]
  },
  {
   "cell_type": "code",
   "execution_count": 89,
   "id": "6adb788c",
   "metadata": {},
   "outputs": [
    {
     "data": {
      "text/plain": [
       "['madsurfman', 'Floriane', 'Ibrahim']"
      ]
     },
     "execution_count": 89,
     "metadata": {},
     "output_type": "execute_result"
    }
   ],
   "source": [
    "# Supprimer l'élément à un index spécifique (del liste[index])\n",
    "del liste_nom[2]\n",
    "liste_nom"
   ]
  },
  {
   "cell_type": "code",
   "execution_count": 120,
   "id": "c35fe9a3",
   "metadata": {},
   "outputs": [],
   "source": [
    "# Supprimer la première occurrence de l'élement (remove)\n",
    "liste_age = [15, 17, 23, 29, 45, 50, 45, 67,15]\n",
    "liste_age.remove(17)"
   ]
  },
  {
   "cell_type": "code",
   "execution_count": 121,
   "id": "91c78e8f",
   "metadata": {},
   "outputs": [
    {
     "data": {
      "text/plain": [
       "[15, 23, 29, 45, 50, 45, 67, 15]"
      ]
     },
     "execution_count": 121,
     "metadata": {},
     "output_type": "execute_result"
    }
   ],
   "source": [
    "\n",
    "liste_age"
   ]
  },
  {
   "cell_type": "code",
   "execution_count": 92,
   "id": "9a014f6a",
   "metadata": {},
   "outputs": [
    {
     "data": {
      "text/plain": [
       "17"
      ]
     },
     "execution_count": 92,
     "metadata": {},
     "output_type": "execute_result"
    }
   ],
   "source": [
    "# Supprimer et retourner l'élément à l'index donné pop\n",
    "liste_age.pop(0)"
   ]
  },
  {
   "cell_type": "code",
   "execution_count": 93,
   "id": "443e0adc",
   "metadata": {},
   "outputs": [
    {
     "data": {
      "text/plain": [
       "[23, 29, 45, 50, 45, 67, 15]"
      ]
     },
     "execution_count": 93,
     "metadata": {},
     "output_type": "execute_result"
    }
   ],
   "source": [
    "liste_age"
   ]
  },
  {
   "cell_type": "code",
   "execution_count": 95,
   "id": "31ad4e39",
   "metadata": {},
   "outputs": [
    {
     "data": {
      "text/plain": [
       "list"
      ]
     },
     "execution_count": 95,
     "metadata": {},
     "output_type": "execute_result"
    }
   ],
   "source": [
    "liste=list()\n",
    "type(liste)"
   ]
  },
  {
   "cell_type": "markdown",
   "id": "8e8def9c",
   "metadata": {},
   "source": [
    "### QCM"
   ]
  },
  {
   "cell_type": "code",
   "execution_count": null,
   "id": "1d8e92a0",
   "metadata": {},
   "outputs": [],
   "source": []
  },
  {
   "cell_type": "markdown",
   "id": "9b5b2df9",
   "metadata": {},
   "source": [
    "**Question 1 : Quelle est la syntaxe correcte pour créer une liste vide en Python ?**\n",
    "\n",
    "- a) list = []\n",
    "- b) list = list()\n",
    "- c) Les deux réponses a et b sont correctes\n",
    "\n",
    "**Question 2 : Comment accède-t-on au dernier élément d'une liste nommée `maListe` en Python ?**\n",
    "- a) maListe[-1]\n",
    "- b) maListe[len(maListe)-1]\n",
    "- c) Les deux réponses a et b sont correctes"
   ]
  },
  {
   "cell_type": "markdown",
   "id": "a8ff4698",
   "metadata": {},
   "source": [
    "## String"
   ]
  },
  {
   "cell_type": "code",
   "execution_count": 97,
   "id": "a08fa8d0",
   "metadata": {},
   "outputs": [],
   "source": [
    "nom = \"Natacha\""
   ]
  },
  {
   "cell_type": "code",
   "execution_count": 101,
   "id": "a0b9e50f",
   "metadata": {},
   "outputs": [
    {
     "data": {
      "text/plain": [
       "'a'"
      ]
     },
     "execution_count": 101,
     "metadata": {},
     "output_type": "execute_result"
    }
   ],
   "source": [
    "nom[-1]"
   ]
  },
  {
   "cell_type": "markdown",
   "id": "e8db2266",
   "metadata": {},
   "source": [
    "## Tuples"
   ]
  },
  {
   "cell_type": "markdown",
   "id": "84798750",
   "metadata": {},
   "source": [
    "\n",
    "- Un **tuple** est une collection d'éléments **ordonnée** et **immuable** en Python. \n",
    "- Avantage: moins d'espace mémoire que les listes\n"
   ]
  },
  {
   "cell_type": "code",
   "execution_count": 122,
   "id": "7daa6173",
   "metadata": {},
   "outputs": [
    {
     "data": {
      "text/plain": [
       "(3, 6, 7, 8, 8)"
      ]
     },
     "execution_count": 122,
     "metadata": {},
     "output_type": "execute_result"
    }
   ],
   "source": [
    "#Create\n",
    "mon_tuple = (3, 6, 7, 8,8)\n",
    "mon_tuple"
   ]
  },
  {
   "cell_type": "code",
   "execution_count": 123,
   "id": "48b71cd1",
   "metadata": {},
   "outputs": [
    {
     "data": {
      "text/plain": [
       "{3, 6, 7, 8}"
      ]
     },
     "execution_count": 123,
     "metadata": {},
     "output_type": "execute_result"
    }
   ],
   "source": [
    "set(mon_tuple)"
   ]
  },
  {
   "cell_type": "code",
   "execution_count": 104,
   "id": "77d16a6b",
   "metadata": {},
   "outputs": [
    {
     "data": {
      "text/plain": [
       "8"
      ]
     },
     "execution_count": 104,
     "metadata": {},
     "output_type": "execute_result"
    }
   ],
   "source": [
    "#Read\n",
    "mon_tuple[0]\n",
    "mon_tuple[-1]"
   ]
  },
  {
   "cell_type": "code",
   "execution_count": 107,
   "id": "57d7fae6",
   "metadata": {},
   "outputs": [
    {
     "data": {
      "text/plain": [
       "tuple"
      ]
     },
     "execution_count": 107,
     "metadata": {},
     "output_type": "execute_result"
    }
   ],
   "source": [
    "mon_tuple[1]\n",
    "type (mon_tuple)"
   ]
  },
  {
   "cell_type": "code",
   "execution_count": 108,
   "id": "2a950d6c",
   "metadata": {},
   "outputs": [
    {
     "data": {
      "text/plain": [
       "(3, 6, 7, 8, 3, 5)"
      ]
     },
     "execution_count": 108,
     "metadata": {},
     "output_type": "execute_result"
    }
   ],
   "source": [
    "#Update\n",
    "mon_tuple + (3,5)"
   ]
  },
  {
   "cell_type": "code",
   "execution_count": 111,
   "id": "60782ecf",
   "metadata": {},
   "outputs": [],
   "source": [
    "#Delete\n",
    "del mon_tuple"
   ]
  },
  {
   "cell_type": "markdown",
   "id": "f5a82440",
   "metadata": {},
   "source": [
    "## Sets"
   ]
  },
  {
   "cell_type": "markdown",
   "id": "0c4f40d7",
   "metadata": {},
   "source": [
    "- Un set est une collection d'éléments **non ordonnée**, **modifiable** et **unique** en Python. Chaque élément dans un set est distinct et ne peut apparaître qu'une seule fois.\n",
    "\n",
    "- Avantage : les sets sont optimisés pour vérifier rapidement si un élément est présent dans la collection, ce qui les rend idéaux pour les opérations comme les unions, intersections, et différences d'ensembles."
   ]
  },
  {
   "cell_type": "code",
   "execution_count": 112,
   "id": "98945b59",
   "metadata": {},
   "outputs": [
    {
     "data": {
      "text/plain": [
       "{4, 5, 6, 7}"
      ]
     },
     "execution_count": 112,
     "metadata": {},
     "output_type": "execute_result"
    }
   ],
   "source": [
    "#Create\n",
    "mon_set = {4, 5, 7, 7, 7, 6, 6}\n",
    "mon_set"
   ]
  },
  {
   "cell_type": "code",
   "execution_count": 114,
   "id": "8444b0e5",
   "metadata": {},
   "outputs": [
    {
     "name": "stdout",
     "output_type": "stream",
     "text": [
      "4\n",
      "5\n",
      "6\n",
      "7\n"
     ]
    }
   ],
   "source": [
    "#Read (for)\n",
    "for element in mon_set:\n",
    "    print(element)"
   ]
  },
  {
   "cell_type": "code",
   "execution_count": 117,
   "id": "159c4ea3",
   "metadata": {},
   "outputs": [
    {
     "name": "stdout",
     "output_type": "stream",
     "text": [
      "3 est disponible\n"
     ]
    }
   ],
   "source": [
    "# Read if pour vérifier la présence\n",
    "if 4 in mon_set:\n",
    "    print(\"3 est disponible\")\n",
    "else :\n",
    "    print(\"3 est non disponible\")"
   ]
  },
  {
   "cell_type": "code",
   "execution_count": 119,
   "id": "0cdb72c8",
   "metadata": {},
   "outputs": [
    {
     "data": {
      "text/plain": [
       "list"
      ]
     },
     "execution_count": 119,
     "metadata": {},
     "output_type": "execute_result"
    }
   ],
   "source": [
    "type(list(mon_set))"
   ]
  },
  {
   "cell_type": "code",
   "execution_count": null,
   "id": "894ca14a",
   "metadata": {},
   "outputs": [],
   "source": [
    "#Update (méthode add)"
   ]
  },
  {
   "cell_type": "code",
   "execution_count": null,
   "id": "a8c4bf1f",
   "metadata": {},
   "outputs": [],
   "source": [
    "#Delete (del)"
   ]
  },
  {
   "cell_type": "code",
   "execution_count": null,
   "id": "7472bdd1",
   "metadata": {},
   "outputs": [],
   "source": [
    "# Transformation de liste en set"
   ]
  },
  {
   "cell_type": "code",
   "execution_count": null,
   "id": "724b2941",
   "metadata": {},
   "outputs": [],
   "source": [
    "# Transformation de set en liste"
   ]
  },
  {
   "cell_type": "markdown",
   "id": "3627ca45",
   "metadata": {},
   "source": [
    "# Exercice  : Trouve et Remplace Automatiquement dans une Liste\n",
    "## Objectif :\n",
    "Écrire un programme Python qui parcourt une liste prédéfinie de nombres entiers, recherche un nombre spécifique dans cette liste, et remplace toutes ses occurrences par un autre nombre spécifié.\n",
    "\n",
    "## Instructions :\n",
    "\n",
    "Utilisez la liste suivante de nombres entiers : [12, 35, 12, 9, 56, 24, 35, 12, 89, 24, 35, 12].\n",
    "\n",
    "**Nombre à Rechercher et à Remplacer :**\n",
    "\n",
    "- Définissez une variable pour le nombre à rechercher dans la liste. Par exemple, nombre_recherche = 12.\n",
    "- Définissez une autre variable pour le nombre qui remplacera les occurrences trouvées. Par exemple, nombre_remplacement = 100.\n",
    "\n",
    "**Recherche et Remplacement :**\n",
    "\n",
    "- Parcourez la liste avec une boucle. À chaque fois que le nombre_recherche est trouvé, remplacez-le par le nombre_remplacement.\n",
    "\n",
    "**Affichage des Résultats :**\n",
    "\n",
    "- Avant de commencer le processus de remplacement, affichez la liste originale.\n",
    "- Après avoir effectué les remplacements, affichez la liste modifiée pour montrer les changements effectués.\n"
   ]
  },
  {
   "cell_type": "markdown",
   "id": "37788ff2",
   "metadata": {},
   "source": [
    "### QCM"
   ]
  },
  {
   "cell_type": "markdown",
   "id": "63257bc5",
   "metadata": {},
   "source": [
    "## Dictionnaires"
   ]
  },
  {
   "cell_type": "markdown",
   "id": "403ff1e5",
   "metadata": {},
   "source": [
    "- Un **dictionnaire** est une collection d'éléments **non ordonnée**, **modifiable** et **indexée** en Python. Dans un dictionnaire, les données sont stockées sous forme de paires **clé-valeur**. Chaque clé est unique et est utilisée pour accéder à sa valeur correspondante.\n",
    "\n",
    "- Avantage : Les dictionnaires sont optimisés pour récupérer rapidement des données. Ils permettent d'accéder à une valeur en utilisant sa clé, ce qui rend les opérations de recherche, insertion et suppression très efficaces.\n"
   ]
  },
  {
   "cell_type": "code",
   "execution_count": null,
   "id": "55d1b810",
   "metadata": {},
   "outputs": [],
   "source": [
    "#Create"
   ]
  },
  {
   "cell_type": "code",
   "execution_count": null,
   "id": "0d9cb3cd",
   "metadata": {},
   "outputs": [],
   "source": [
    "# items (), keys(), values ()"
   ]
  },
  {
   "cell_type": "code",
   "execution_count": null,
   "id": "c4811bf9",
   "metadata": {},
   "outputs": [],
   "source": [
    "#Read"
   ]
  },
  {
   "cell_type": "code",
   "execution_count": null,
   "id": "2486a441",
   "metadata": {},
   "outputs": [],
   "source": [
    "#Update (.update)"
   ]
  },
  {
   "cell_type": "code",
   "execution_count": null,
   "id": "80a8524c",
   "metadata": {},
   "outputs": [],
   "source": [
    "#Delete"
   ]
  },
  {
   "cell_type": "markdown",
   "id": "2dfd8177",
   "metadata": {},
   "source": [
    "### QCM"
   ]
  },
  {
   "cell_type": "markdown",
   "id": "06a2dfa6",
   "metadata": {},
   "source": [
    "# Exercices"
   ]
  },
  {
   "cell_type": "code",
   "execution_count": null,
   "id": "521513c4",
   "metadata": {},
   "outputs": [],
   "source": []
  }
 ],
 "metadata": {
  "kernelspec": {
   "display_name": "Python 3 (ipykernel)",
   "language": "python",
   "name": "python3"
  },
  "language_info": {
   "codemirror_mode": {
    "name": "ipython",
    "version": 3
   },
   "file_extension": ".py",
   "mimetype": "text/x-python",
   "name": "python",
   "nbconvert_exporter": "python",
   "pygments_lexer": "ipython3",
   "version": "3.11.5"
  }
 },
 "nbformat": 4,
 "nbformat_minor": 5
}
